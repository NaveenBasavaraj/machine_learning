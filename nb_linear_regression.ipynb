{
  "cells": [
    {
      "cell_type": "markdown",
      "metadata": {
        "id": "view-in-github",
        "colab_type": "text"
      },
      "source": [
        "<a href=\"https://colab.research.google.com/github/NaveenBasavaraj/machine_learning/blob/main/nb_linear_regression.ipynb\" target=\"_parent\"><img src=\"https://colab.research.google.com/assets/colab-badge.svg\" alt=\"Open In Colab\"/></a>"
      ]
    },
    {
      "cell_type": "markdown",
      "id": "0e28a1a1",
      "metadata": {
        "id": "0e28a1a1"
      },
      "source": [
        "# Linear Regression with Scikit Learn - Machine Learning with Python\n",
        "\n",
        "This tutorial is a part of [Zero to Data Science Bootcamp by Jovian](https://zerotodatascience.com) and [Machine Learning with Python: Zero to GBMs](https://jovian.ai/learn/machine-learning-with-python-zero-to-gbms)\n",
        "\n",
        "![](https://i.imgur.com/1EzyZvj.png)\n"
      ]
    },
    {
      "cell_type": "markdown",
      "id": "262ff34b",
      "metadata": {
        "id": "262ff34b"
      },
      "source": [
        "The following topics are covered in this tutorial:\n",
        "\n",
        "- A typical problem statement for machine learning\n",
        "- Downloading and exploring a dataset for machine learning\n",
        "- Linear regression with one variable using Scikit-learn\n",
        "- Linear regression with multiple variables\n",
        "- Using categorical features for machine learning\n",
        "- Regression coefficients and feature importance\n",
        "- Other models and techniques for regression using Scikit-learn\n",
        "- Applying linear regression to other datasets"
      ]
    },
    {
      "cell_type": "markdown",
      "id": "878f37c0",
      "metadata": {
        "id": "878f37c0"
      },
      "source": [
        "## Problem Statement\n",
        "\n",
        "This tutorial takes a practical and coding-focused approach. We'll define the terms _machine learning_ and _linear regression_ in the context of a problem, and later generalize their definitions. We'll work through a typical machine learning problem step-by-step:\n",
        "\n",
        "\n",
        "> **QUESTION**: ACME Insurance Inc. offers affordable health insurance to thousands of customer all over the United States. As the lead data scientist at ACME, **you're tasked with creating an automated system to estimate the annual medical expenditure for new customers**, using information such as their age, sex, BMI, children, smoking habits and region of residence.\n",
        ">\n",
        "> Estimates from your system will be used to determine the annual insurance premium (amount paid every month) offered to the customer. Due to regulatory requirements, you must be able to explain why your system outputs a certain prediction.\n",
        ">\n",
        "> You're given a [CSV file](https://raw.githubusercontent.com/JovianML/opendatasets/master/data/medical-charges.csv) containing verified historical data, consisting of the aforementioned information and the actual medical charges incurred by over 1300 customers.\n",
        "> <img src=\"https://i.imgur.com/87Uw0aG.png\" width=\"480\">\n",
        ">\n",
        "> Dataset source: https://github.com/stedy/Machine-Learning-with-R-datasets\n",
        "\n",
        "\n",
        "**EXERCISE**: Before proceeding further, take a moment to think about how can approach this problem. List five or more ideas that come to your mind below:\n",
        "\n",
        " 1. ???\n",
        " 2. ???\n",
        " 3. ???\n",
        " 4. ???\n",
        " 5. ???\n",
        "\n"
      ]
    },
    {
      "cell_type": "markdown",
      "id": "05be9ff5",
      "metadata": {
        "id": "05be9ff5"
      },
      "source": [
        "## Downloading the Data\n",
        "\n",
        "To begin, let's download the data using the `urlretrieve` function from `urllib.request`."
      ]
    },
    {
      "cell_type": "code",
      "execution_count": null,
      "id": "c44ead68",
      "metadata": {
        "id": "c44ead68"
      },
      "outputs": [],
      "source": [
        "#restart the kernel after installation\n",
        "!pip install pandas-profiling --quiet"
      ]
    },
    {
      "cell_type": "code",
      "execution_count": 6,
      "id": "2fb08156",
      "metadata": {
        "id": "2fb08156"
      },
      "outputs": [],
      "source": [
        "medical_charges_url = 'https://raw.githubusercontent.com/JovianML/opendatasets/master/data/medical-charges.csv'"
      ]
    },
    {
      "cell_type": "code",
      "execution_count": 7,
      "id": "178a1b4a",
      "metadata": {
        "id": "178a1b4a"
      },
      "outputs": [],
      "source": [
        "from urllib.request import urlretrieve"
      ]
    },
    {
      "cell_type": "code",
      "execution_count": 8,
      "id": "8df68352",
      "metadata": {
        "scrolled": true,
        "colab": {
          "base_uri": "https://localhost:8080/"
        },
        "id": "8df68352",
        "outputId": "0d8be76b-cce6-47fc-ead2-de37590f4a47"
      },
      "outputs": [
        {
          "output_type": "execute_result",
          "data": {
            "text/plain": [
              "('medical.csv', <http.client.HTTPMessage at 0x7d2df85238e0>)"
            ]
          },
          "metadata": {},
          "execution_count": 8
        }
      ],
      "source": [
        "urlretrieve(medical_charges_url, 'medical.csv')"
      ]
    },
    {
      "cell_type": "markdown",
      "id": "549e8d02",
      "metadata": {
        "id": "549e8d02"
      },
      "source": [
        "We can now create a Pandas dataframe using the downloaded file, to view and analyze the data."
      ]
    },
    {
      "cell_type": "code",
      "execution_count": 9,
      "id": "9f0716e7",
      "metadata": {
        "id": "9f0716e7"
      },
      "outputs": [],
      "source": [
        "import pandas as pd"
      ]
    },
    {
      "cell_type": "code",
      "execution_count": 10,
      "id": "201518f6",
      "metadata": {
        "id": "201518f6"
      },
      "outputs": [],
      "source": [
        "medical_df = pd.read_csv('medical.csv')"
      ]
    },
    {
      "cell_type": "code",
      "execution_count": 11,
      "id": "4cd12809",
      "metadata": {
        "scrolled": false,
        "colab": {
          "base_uri": "https://localhost:8080/",
          "height": 424
        },
        "id": "4cd12809",
        "outputId": "6b6f7854-d215-4612-eadf-6d80e6f57777"
      },
      "outputs": [
        {
          "output_type": "execute_result",
          "data": {
            "text/plain": [
              "      age     sex     bmi  children smoker     region      charges\n",
              "0      19  female  27.900         0    yes  southwest  16884.92400\n",
              "1      18    male  33.770         1     no  southeast   1725.55230\n",
              "2      28    male  33.000         3     no  southeast   4449.46200\n",
              "3      33    male  22.705         0     no  northwest  21984.47061\n",
              "4      32    male  28.880         0     no  northwest   3866.85520\n",
              "...   ...     ...     ...       ...    ...        ...          ...\n",
              "1333   50    male  30.970         3     no  northwest  10600.54830\n",
              "1334   18  female  31.920         0     no  northeast   2205.98080\n",
              "1335   18  female  36.850         0     no  southeast   1629.83350\n",
              "1336   21  female  25.800         0     no  southwest   2007.94500\n",
              "1337   61  female  29.070         0    yes  northwest  29141.36030\n",
              "\n",
              "[1338 rows x 7 columns]"
            ],
            "text/html": [
              "\n",
              "  <div id=\"df-b26bd059-5430-4792-97c7-c9d1b8bb9fd8\" class=\"colab-df-container\">\n",
              "    <div>\n",
              "<style scoped>\n",
              "    .dataframe tbody tr th:only-of-type {\n",
              "        vertical-align: middle;\n",
              "    }\n",
              "\n",
              "    .dataframe tbody tr th {\n",
              "        vertical-align: top;\n",
              "    }\n",
              "\n",
              "    .dataframe thead th {\n",
              "        text-align: right;\n",
              "    }\n",
              "</style>\n",
              "<table border=\"1\" class=\"dataframe\">\n",
              "  <thead>\n",
              "    <tr style=\"text-align: right;\">\n",
              "      <th></th>\n",
              "      <th>age</th>\n",
              "      <th>sex</th>\n",
              "      <th>bmi</th>\n",
              "      <th>children</th>\n",
              "      <th>smoker</th>\n",
              "      <th>region</th>\n",
              "      <th>charges</th>\n",
              "    </tr>\n",
              "  </thead>\n",
              "  <tbody>\n",
              "    <tr>\n",
              "      <th>0</th>\n",
              "      <td>19</td>\n",
              "      <td>female</td>\n",
              "      <td>27.900</td>\n",
              "      <td>0</td>\n",
              "      <td>yes</td>\n",
              "      <td>southwest</td>\n",
              "      <td>16884.92400</td>\n",
              "    </tr>\n",
              "    <tr>\n",
              "      <th>1</th>\n",
              "      <td>18</td>\n",
              "      <td>male</td>\n",
              "      <td>33.770</td>\n",
              "      <td>1</td>\n",
              "      <td>no</td>\n",
              "      <td>southeast</td>\n",
              "      <td>1725.55230</td>\n",
              "    </tr>\n",
              "    <tr>\n",
              "      <th>2</th>\n",
              "      <td>28</td>\n",
              "      <td>male</td>\n",
              "      <td>33.000</td>\n",
              "      <td>3</td>\n",
              "      <td>no</td>\n",
              "      <td>southeast</td>\n",
              "      <td>4449.46200</td>\n",
              "    </tr>\n",
              "    <tr>\n",
              "      <th>3</th>\n",
              "      <td>33</td>\n",
              "      <td>male</td>\n",
              "      <td>22.705</td>\n",
              "      <td>0</td>\n",
              "      <td>no</td>\n",
              "      <td>northwest</td>\n",
              "      <td>21984.47061</td>\n",
              "    </tr>\n",
              "    <tr>\n",
              "      <th>4</th>\n",
              "      <td>32</td>\n",
              "      <td>male</td>\n",
              "      <td>28.880</td>\n",
              "      <td>0</td>\n",
              "      <td>no</td>\n",
              "      <td>northwest</td>\n",
              "      <td>3866.85520</td>\n",
              "    </tr>\n",
              "    <tr>\n",
              "      <th>...</th>\n",
              "      <td>...</td>\n",
              "      <td>...</td>\n",
              "      <td>...</td>\n",
              "      <td>...</td>\n",
              "      <td>...</td>\n",
              "      <td>...</td>\n",
              "      <td>...</td>\n",
              "    </tr>\n",
              "    <tr>\n",
              "      <th>1333</th>\n",
              "      <td>50</td>\n",
              "      <td>male</td>\n",
              "      <td>30.970</td>\n",
              "      <td>3</td>\n",
              "      <td>no</td>\n",
              "      <td>northwest</td>\n",
              "      <td>10600.54830</td>\n",
              "    </tr>\n",
              "    <tr>\n",
              "      <th>1334</th>\n",
              "      <td>18</td>\n",
              "      <td>female</td>\n",
              "      <td>31.920</td>\n",
              "      <td>0</td>\n",
              "      <td>no</td>\n",
              "      <td>northeast</td>\n",
              "      <td>2205.98080</td>\n",
              "    </tr>\n",
              "    <tr>\n",
              "      <th>1335</th>\n",
              "      <td>18</td>\n",
              "      <td>female</td>\n",
              "      <td>36.850</td>\n",
              "      <td>0</td>\n",
              "      <td>no</td>\n",
              "      <td>southeast</td>\n",
              "      <td>1629.83350</td>\n",
              "    </tr>\n",
              "    <tr>\n",
              "      <th>1336</th>\n",
              "      <td>21</td>\n",
              "      <td>female</td>\n",
              "      <td>25.800</td>\n",
              "      <td>0</td>\n",
              "      <td>no</td>\n",
              "      <td>southwest</td>\n",
              "      <td>2007.94500</td>\n",
              "    </tr>\n",
              "    <tr>\n",
              "      <th>1337</th>\n",
              "      <td>61</td>\n",
              "      <td>female</td>\n",
              "      <td>29.070</td>\n",
              "      <td>0</td>\n",
              "      <td>yes</td>\n",
              "      <td>northwest</td>\n",
              "      <td>29141.36030</td>\n",
              "    </tr>\n",
              "  </tbody>\n",
              "</table>\n",
              "<p>1338 rows × 7 columns</p>\n",
              "</div>\n",
              "    <div class=\"colab-df-buttons\">\n",
              "\n",
              "  <div class=\"colab-df-container\">\n",
              "    <button class=\"colab-df-convert\" onclick=\"convertToInteractive('df-b26bd059-5430-4792-97c7-c9d1b8bb9fd8')\"\n",
              "            title=\"Convert this dataframe to an interactive table.\"\n",
              "            style=\"display:none;\">\n",
              "\n",
              "  <svg xmlns=\"http://www.w3.org/2000/svg\" height=\"24px\" viewBox=\"0 -960 960 960\">\n",
              "    <path d=\"M120-120v-720h720v720H120Zm60-500h600v-160H180v160Zm220 220h160v-160H400v160Zm0 220h160v-160H400v160ZM180-400h160v-160H180v160Zm440 0h160v-160H620v160ZM180-180h160v-160H180v160Zm440 0h160v-160H620v160Z\"/>\n",
              "  </svg>\n",
              "    </button>\n",
              "\n",
              "  <style>\n",
              "    .colab-df-container {\n",
              "      display:flex;\n",
              "      gap: 12px;\n",
              "    }\n",
              "\n",
              "    .colab-df-convert {\n",
              "      background-color: #E8F0FE;\n",
              "      border: none;\n",
              "      border-radius: 50%;\n",
              "      cursor: pointer;\n",
              "      display: none;\n",
              "      fill: #1967D2;\n",
              "      height: 32px;\n",
              "      padding: 0 0 0 0;\n",
              "      width: 32px;\n",
              "    }\n",
              "\n",
              "    .colab-df-convert:hover {\n",
              "      background-color: #E2EBFA;\n",
              "      box-shadow: 0px 1px 2px rgba(60, 64, 67, 0.3), 0px 1px 3px 1px rgba(60, 64, 67, 0.15);\n",
              "      fill: #174EA6;\n",
              "    }\n",
              "\n",
              "    .colab-df-buttons div {\n",
              "      margin-bottom: 4px;\n",
              "    }\n",
              "\n",
              "    [theme=dark] .colab-df-convert {\n",
              "      background-color: #3B4455;\n",
              "      fill: #D2E3FC;\n",
              "    }\n",
              "\n",
              "    [theme=dark] .colab-df-convert:hover {\n",
              "      background-color: #434B5C;\n",
              "      box-shadow: 0px 1px 3px 1px rgba(0, 0, 0, 0.15);\n",
              "      filter: drop-shadow(0px 1px 2px rgba(0, 0, 0, 0.3));\n",
              "      fill: #FFFFFF;\n",
              "    }\n",
              "  </style>\n",
              "\n",
              "    <script>\n",
              "      const buttonEl =\n",
              "        document.querySelector('#df-b26bd059-5430-4792-97c7-c9d1b8bb9fd8 button.colab-df-convert');\n",
              "      buttonEl.style.display =\n",
              "        google.colab.kernel.accessAllowed ? 'block' : 'none';\n",
              "\n",
              "      async function convertToInteractive(key) {\n",
              "        const element = document.querySelector('#df-b26bd059-5430-4792-97c7-c9d1b8bb9fd8');\n",
              "        const dataTable =\n",
              "          await google.colab.kernel.invokeFunction('convertToInteractive',\n",
              "                                                    [key], {});\n",
              "        if (!dataTable) return;\n",
              "\n",
              "        const docLinkHtml = 'Like what you see? Visit the ' +\n",
              "          '<a target=\"_blank\" href=https://colab.research.google.com/notebooks/data_table.ipynb>data table notebook</a>'\n",
              "          + ' to learn more about interactive tables.';\n",
              "        element.innerHTML = '';\n",
              "        dataTable['output_type'] = 'display_data';\n",
              "        await google.colab.output.renderOutput(dataTable, element);\n",
              "        const docLink = document.createElement('div');\n",
              "        docLink.innerHTML = docLinkHtml;\n",
              "        element.appendChild(docLink);\n",
              "      }\n",
              "    </script>\n",
              "  </div>\n",
              "\n",
              "\n",
              "<div id=\"df-cb1eb986-43ea-4bd0-b353-afd9cd283970\">\n",
              "  <button class=\"colab-df-quickchart\" onclick=\"quickchart('df-cb1eb986-43ea-4bd0-b353-afd9cd283970')\"\n",
              "            title=\"Suggest charts\"\n",
              "            style=\"display:none;\">\n",
              "\n",
              "<svg xmlns=\"http://www.w3.org/2000/svg\" height=\"24px\"viewBox=\"0 0 24 24\"\n",
              "     width=\"24px\">\n",
              "    <g>\n",
              "        <path d=\"M19 3H5c-1.1 0-2 .9-2 2v14c0 1.1.9 2 2 2h14c1.1 0 2-.9 2-2V5c0-1.1-.9-2-2-2zM9 17H7v-7h2v7zm4 0h-2V7h2v10zm4 0h-2v-4h2v4z\"/>\n",
              "    </g>\n",
              "</svg>\n",
              "  </button>\n",
              "\n",
              "<style>\n",
              "  .colab-df-quickchart {\n",
              "      --bg-color: #E8F0FE;\n",
              "      --fill-color: #1967D2;\n",
              "      --hover-bg-color: #E2EBFA;\n",
              "      --hover-fill-color: #174EA6;\n",
              "      --disabled-fill-color: #AAA;\n",
              "      --disabled-bg-color: #DDD;\n",
              "  }\n",
              "\n",
              "  [theme=dark] .colab-df-quickchart {\n",
              "      --bg-color: #3B4455;\n",
              "      --fill-color: #D2E3FC;\n",
              "      --hover-bg-color: #434B5C;\n",
              "      --hover-fill-color: #FFFFFF;\n",
              "      --disabled-bg-color: #3B4455;\n",
              "      --disabled-fill-color: #666;\n",
              "  }\n",
              "\n",
              "  .colab-df-quickchart {\n",
              "    background-color: var(--bg-color);\n",
              "    border: none;\n",
              "    border-radius: 50%;\n",
              "    cursor: pointer;\n",
              "    display: none;\n",
              "    fill: var(--fill-color);\n",
              "    height: 32px;\n",
              "    padding: 0;\n",
              "    width: 32px;\n",
              "  }\n",
              "\n",
              "  .colab-df-quickchart:hover {\n",
              "    background-color: var(--hover-bg-color);\n",
              "    box-shadow: 0 1px 2px rgba(60, 64, 67, 0.3), 0 1px 3px 1px rgba(60, 64, 67, 0.15);\n",
              "    fill: var(--button-hover-fill-color);\n",
              "  }\n",
              "\n",
              "  .colab-df-quickchart-complete:disabled,\n",
              "  .colab-df-quickchart-complete:disabled:hover {\n",
              "    background-color: var(--disabled-bg-color);\n",
              "    fill: var(--disabled-fill-color);\n",
              "    box-shadow: none;\n",
              "  }\n",
              "\n",
              "  .colab-df-spinner {\n",
              "    border: 2px solid var(--fill-color);\n",
              "    border-color: transparent;\n",
              "    border-bottom-color: var(--fill-color);\n",
              "    animation:\n",
              "      spin 1s steps(1) infinite;\n",
              "  }\n",
              "\n",
              "  @keyframes spin {\n",
              "    0% {\n",
              "      border-color: transparent;\n",
              "      border-bottom-color: var(--fill-color);\n",
              "      border-left-color: var(--fill-color);\n",
              "    }\n",
              "    20% {\n",
              "      border-color: transparent;\n",
              "      border-left-color: var(--fill-color);\n",
              "      border-top-color: var(--fill-color);\n",
              "    }\n",
              "    30% {\n",
              "      border-color: transparent;\n",
              "      border-left-color: var(--fill-color);\n",
              "      border-top-color: var(--fill-color);\n",
              "      border-right-color: var(--fill-color);\n",
              "    }\n",
              "    40% {\n",
              "      border-color: transparent;\n",
              "      border-right-color: var(--fill-color);\n",
              "      border-top-color: var(--fill-color);\n",
              "    }\n",
              "    60% {\n",
              "      border-color: transparent;\n",
              "      border-right-color: var(--fill-color);\n",
              "    }\n",
              "    80% {\n",
              "      border-color: transparent;\n",
              "      border-right-color: var(--fill-color);\n",
              "      border-bottom-color: var(--fill-color);\n",
              "    }\n",
              "    90% {\n",
              "      border-color: transparent;\n",
              "      border-bottom-color: var(--fill-color);\n",
              "    }\n",
              "  }\n",
              "</style>\n",
              "\n",
              "  <script>\n",
              "    async function quickchart(key) {\n",
              "      const quickchartButtonEl =\n",
              "        document.querySelector('#' + key + ' button');\n",
              "      quickchartButtonEl.disabled = true;  // To prevent multiple clicks.\n",
              "      quickchartButtonEl.classList.add('colab-df-spinner');\n",
              "      try {\n",
              "        const charts = await google.colab.kernel.invokeFunction(\n",
              "            'suggestCharts', [key], {});\n",
              "      } catch (error) {\n",
              "        console.error('Error during call to suggestCharts:', error);\n",
              "      }\n",
              "      quickchartButtonEl.classList.remove('colab-df-spinner');\n",
              "      quickchartButtonEl.classList.add('colab-df-quickchart-complete');\n",
              "    }\n",
              "    (() => {\n",
              "      let quickchartButtonEl =\n",
              "        document.querySelector('#df-cb1eb986-43ea-4bd0-b353-afd9cd283970 button');\n",
              "      quickchartButtonEl.style.display =\n",
              "        google.colab.kernel.accessAllowed ? 'block' : 'none';\n",
              "    })();\n",
              "  </script>\n",
              "</div>\n",
              "\n",
              "  <div id=\"id_29331215-614c-40a1-ac81-0f9cd363f005\">\n",
              "    <style>\n",
              "      .colab-df-generate {\n",
              "        background-color: #E8F0FE;\n",
              "        border: none;\n",
              "        border-radius: 50%;\n",
              "        cursor: pointer;\n",
              "        display: none;\n",
              "        fill: #1967D2;\n",
              "        height: 32px;\n",
              "        padding: 0 0 0 0;\n",
              "        width: 32px;\n",
              "      }\n",
              "\n",
              "      .colab-df-generate:hover {\n",
              "        background-color: #E2EBFA;\n",
              "        box-shadow: 0px 1px 2px rgba(60, 64, 67, 0.3), 0px 1px 3px 1px rgba(60, 64, 67, 0.15);\n",
              "        fill: #174EA6;\n",
              "      }\n",
              "\n",
              "      [theme=dark] .colab-df-generate {\n",
              "        background-color: #3B4455;\n",
              "        fill: #D2E3FC;\n",
              "      }\n",
              "\n",
              "      [theme=dark] .colab-df-generate:hover {\n",
              "        background-color: #434B5C;\n",
              "        box-shadow: 0px 1px 3px 1px rgba(0, 0, 0, 0.15);\n",
              "        filter: drop-shadow(0px 1px 2px rgba(0, 0, 0, 0.3));\n",
              "        fill: #FFFFFF;\n",
              "      }\n",
              "    </style>\n",
              "    <button class=\"colab-df-generate\" onclick=\"generateWithVariable('medical_df')\"\n",
              "            title=\"Generate code using this dataframe.\"\n",
              "            style=\"display:none;\">\n",
              "\n",
              "  <svg xmlns=\"http://www.w3.org/2000/svg\" height=\"24px\"viewBox=\"0 0 24 24\"\n",
              "       width=\"24px\">\n",
              "    <path d=\"M7,19H8.4L18.45,9,17,7.55,7,17.6ZM5,21V16.75L18.45,3.32a2,2,0,0,1,2.83,0l1.4,1.43a1.91,1.91,0,0,1,.58,1.4,1.91,1.91,0,0,1-.58,1.4L9.25,21ZM18.45,9,17,7.55Zm-12,3A5.31,5.31,0,0,0,4.9,8.1,5.31,5.31,0,0,0,1,6.5,5.31,5.31,0,0,0,4.9,4.9,5.31,5.31,0,0,0,6.5,1,5.31,5.31,0,0,0,8.1,4.9,5.31,5.31,0,0,0,12,6.5,5.46,5.46,0,0,0,6.5,12Z\"/>\n",
              "  </svg>\n",
              "    </button>\n",
              "    <script>\n",
              "      (() => {\n",
              "      const buttonEl =\n",
              "        document.querySelector('#id_29331215-614c-40a1-ac81-0f9cd363f005 button.colab-df-generate');\n",
              "      buttonEl.style.display =\n",
              "        google.colab.kernel.accessAllowed ? 'block' : 'none';\n",
              "\n",
              "      buttonEl.onclick = () => {\n",
              "        google.colab.notebook.generateWithVariable('medical_df');\n",
              "      }\n",
              "      })();\n",
              "    </script>\n",
              "  </div>\n",
              "\n",
              "    </div>\n",
              "  </div>\n"
            ],
            "application/vnd.google.colaboratory.intrinsic+json": {
              "type": "dataframe",
              "variable_name": "medical_df",
              "summary": "{\n  \"name\": \"medical_df\",\n  \"rows\": 1338,\n  \"fields\": [\n    {\n      \"column\": \"age\",\n      \"properties\": {\n        \"dtype\": \"number\",\n        \"std\": 14,\n        \"min\": 18,\n        \"max\": 64,\n        \"num_unique_values\": 47,\n        \"samples\": [\n          21,\n          45,\n          36\n        ],\n        \"semantic_type\": \"\",\n        \"description\": \"\"\n      }\n    },\n    {\n      \"column\": \"sex\",\n      \"properties\": {\n        \"dtype\": \"category\",\n        \"num_unique_values\": 2,\n        \"samples\": [\n          \"male\",\n          \"female\"\n        ],\n        \"semantic_type\": \"\",\n        \"description\": \"\"\n      }\n    },\n    {\n      \"column\": \"bmi\",\n      \"properties\": {\n        \"dtype\": \"number\",\n        \"std\": 6.098186911679014,\n        \"min\": 15.96,\n        \"max\": 53.13,\n        \"num_unique_values\": 548,\n        \"samples\": [\n          23.18,\n          26.885\n        ],\n        \"semantic_type\": \"\",\n        \"description\": \"\"\n      }\n    },\n    {\n      \"column\": \"children\",\n      \"properties\": {\n        \"dtype\": \"number\",\n        \"std\": 1,\n        \"min\": 0,\n        \"max\": 5,\n        \"num_unique_values\": 6,\n        \"samples\": [\n          0,\n          1\n        ],\n        \"semantic_type\": \"\",\n        \"description\": \"\"\n      }\n    },\n    {\n      \"column\": \"smoker\",\n      \"properties\": {\n        \"dtype\": \"category\",\n        \"num_unique_values\": 2,\n        \"samples\": [\n          \"no\",\n          \"yes\"\n        ],\n        \"semantic_type\": \"\",\n        \"description\": \"\"\n      }\n    },\n    {\n      \"column\": \"region\",\n      \"properties\": {\n        \"dtype\": \"category\",\n        \"num_unique_values\": 4,\n        \"samples\": [\n          \"southeast\",\n          \"northeast\"\n        ],\n        \"semantic_type\": \"\",\n        \"description\": \"\"\n      }\n    },\n    {\n      \"column\": \"charges\",\n      \"properties\": {\n        \"dtype\": \"number\",\n        \"std\": 12110.011236694001,\n        \"min\": 1121.8739,\n        \"max\": 63770.42801,\n        \"num_unique_values\": 1337,\n        \"samples\": [\n          8688.85885,\n          5708.867\n        ],\n        \"semantic_type\": \"\",\n        \"description\": \"\"\n      }\n    }\n  ]\n}"
            }
          },
          "metadata": {},
          "execution_count": 11
        }
      ],
      "source": [
        "medical_df"
      ]
    },
    {
      "cell_type": "markdown",
      "id": "b51fe0a5",
      "metadata": {
        "id": "b51fe0a5"
      },
      "source": [
        "The dataset contains 1338 rows and 7 columns. Each row of the dataset contains information about one customer.\n",
        "\n",
        "Our objective is to find a way to estimate the value in the \"charges\" column using the values in the other columns. If we can do so for the historical data, then we should able to estimate charges for new customers too, simply by asking for information like their age, sex, BMI, no. of children, smoking habits and region.\n",
        "\n",
        "Let's check the data type for each column."
      ]
    },
    {
      "cell_type": "code",
      "execution_count": 12,
      "id": "ec3846db",
      "metadata": {
        "colab": {
          "base_uri": "https://localhost:8080/"
        },
        "id": "ec3846db",
        "outputId": "052635f1-8f9c-48cb-bd3e-a0853db147ce"
      },
      "outputs": [
        {
          "output_type": "stream",
          "name": "stdout",
          "text": [
            "<class 'pandas.core.frame.DataFrame'>\n",
            "RangeIndex: 1338 entries, 0 to 1337\n",
            "Data columns (total 7 columns):\n",
            " #   Column    Non-Null Count  Dtype  \n",
            "---  ------    --------------  -----  \n",
            " 0   age       1338 non-null   int64  \n",
            " 1   sex       1338 non-null   object \n",
            " 2   bmi       1338 non-null   float64\n",
            " 3   children  1338 non-null   int64  \n",
            " 4   smoker    1338 non-null   object \n",
            " 5   region    1338 non-null   object \n",
            " 6   charges   1338 non-null   float64\n",
            "dtypes: float64(2), int64(2), object(3)\n",
            "memory usage: 73.3+ KB\n"
          ]
        }
      ],
      "source": [
        "medical_df.info()"
      ]
    },
    {
      "cell_type": "markdown",
      "id": "f7daf1ef",
      "metadata": {
        "id": "f7daf1ef"
      },
      "source": [
        "Looks like \"age\", \"children\", \"bmi\" ([body mass index](https://en.wikipedia.org/wiki/Body_mass_index)) and \"charges\" are numbers, whereas \"sex\", \"smoker\" and \"region\" are strings (possibly categories). None of the columns contain any missing values, which saves us a fair bit of work!\n",
        "\n",
        "Here are some statistics for the numerical columns:"
      ]
    },
    {
      "cell_type": "code",
      "execution_count": 13,
      "id": "601dd869",
      "metadata": {
        "colab": {
          "base_uri": "https://localhost:8080/",
          "height": 300
        },
        "id": "601dd869",
        "outputId": "49c6e1e5-2c56-4690-ebc3-f3eebee07ec4"
      },
      "outputs": [
        {
          "output_type": "execute_result",
          "data": {
            "text/plain": [
              "               age          bmi     children       charges\n",
              "count  1338.000000  1338.000000  1338.000000   1338.000000\n",
              "mean     39.207025    30.663397     1.094918  13270.422265\n",
              "std      14.049960     6.098187     1.205493  12110.011237\n",
              "min      18.000000    15.960000     0.000000   1121.873900\n",
              "25%      27.000000    26.296250     0.000000   4740.287150\n",
              "50%      39.000000    30.400000     1.000000   9382.033000\n",
              "75%      51.000000    34.693750     2.000000  16639.912515\n",
              "max      64.000000    53.130000     5.000000  63770.428010"
            ],
            "text/html": [
              "\n",
              "  <div id=\"df-6439dd49-a44a-49da-baab-a66063fec43a\" class=\"colab-df-container\">\n",
              "    <div>\n",
              "<style scoped>\n",
              "    .dataframe tbody tr th:only-of-type {\n",
              "        vertical-align: middle;\n",
              "    }\n",
              "\n",
              "    .dataframe tbody tr th {\n",
              "        vertical-align: top;\n",
              "    }\n",
              "\n",
              "    .dataframe thead th {\n",
              "        text-align: right;\n",
              "    }\n",
              "</style>\n",
              "<table border=\"1\" class=\"dataframe\">\n",
              "  <thead>\n",
              "    <tr style=\"text-align: right;\">\n",
              "      <th></th>\n",
              "      <th>age</th>\n",
              "      <th>bmi</th>\n",
              "      <th>children</th>\n",
              "      <th>charges</th>\n",
              "    </tr>\n",
              "  </thead>\n",
              "  <tbody>\n",
              "    <tr>\n",
              "      <th>count</th>\n",
              "      <td>1338.000000</td>\n",
              "      <td>1338.000000</td>\n",
              "      <td>1338.000000</td>\n",
              "      <td>1338.000000</td>\n",
              "    </tr>\n",
              "    <tr>\n",
              "      <th>mean</th>\n",
              "      <td>39.207025</td>\n",
              "      <td>30.663397</td>\n",
              "      <td>1.094918</td>\n",
              "      <td>13270.422265</td>\n",
              "    </tr>\n",
              "    <tr>\n",
              "      <th>std</th>\n",
              "      <td>14.049960</td>\n",
              "      <td>6.098187</td>\n",
              "      <td>1.205493</td>\n",
              "      <td>12110.011237</td>\n",
              "    </tr>\n",
              "    <tr>\n",
              "      <th>min</th>\n",
              "      <td>18.000000</td>\n",
              "      <td>15.960000</td>\n",
              "      <td>0.000000</td>\n",
              "      <td>1121.873900</td>\n",
              "    </tr>\n",
              "    <tr>\n",
              "      <th>25%</th>\n",
              "      <td>27.000000</td>\n",
              "      <td>26.296250</td>\n",
              "      <td>0.000000</td>\n",
              "      <td>4740.287150</td>\n",
              "    </tr>\n",
              "    <tr>\n",
              "      <th>50%</th>\n",
              "      <td>39.000000</td>\n",
              "      <td>30.400000</td>\n",
              "      <td>1.000000</td>\n",
              "      <td>9382.033000</td>\n",
              "    </tr>\n",
              "    <tr>\n",
              "      <th>75%</th>\n",
              "      <td>51.000000</td>\n",
              "      <td>34.693750</td>\n",
              "      <td>2.000000</td>\n",
              "      <td>16639.912515</td>\n",
              "    </tr>\n",
              "    <tr>\n",
              "      <th>max</th>\n",
              "      <td>64.000000</td>\n",
              "      <td>53.130000</td>\n",
              "      <td>5.000000</td>\n",
              "      <td>63770.428010</td>\n",
              "    </tr>\n",
              "  </tbody>\n",
              "</table>\n",
              "</div>\n",
              "    <div class=\"colab-df-buttons\">\n",
              "\n",
              "  <div class=\"colab-df-container\">\n",
              "    <button class=\"colab-df-convert\" onclick=\"convertToInteractive('df-6439dd49-a44a-49da-baab-a66063fec43a')\"\n",
              "            title=\"Convert this dataframe to an interactive table.\"\n",
              "            style=\"display:none;\">\n",
              "\n",
              "  <svg xmlns=\"http://www.w3.org/2000/svg\" height=\"24px\" viewBox=\"0 -960 960 960\">\n",
              "    <path d=\"M120-120v-720h720v720H120Zm60-500h600v-160H180v160Zm220 220h160v-160H400v160Zm0 220h160v-160H400v160ZM180-400h160v-160H180v160Zm440 0h160v-160H620v160ZM180-180h160v-160H180v160Zm440 0h160v-160H620v160Z\"/>\n",
              "  </svg>\n",
              "    </button>\n",
              "\n",
              "  <style>\n",
              "    .colab-df-container {\n",
              "      display:flex;\n",
              "      gap: 12px;\n",
              "    }\n",
              "\n",
              "    .colab-df-convert {\n",
              "      background-color: #E8F0FE;\n",
              "      border: none;\n",
              "      border-radius: 50%;\n",
              "      cursor: pointer;\n",
              "      display: none;\n",
              "      fill: #1967D2;\n",
              "      height: 32px;\n",
              "      padding: 0 0 0 0;\n",
              "      width: 32px;\n",
              "    }\n",
              "\n",
              "    .colab-df-convert:hover {\n",
              "      background-color: #E2EBFA;\n",
              "      box-shadow: 0px 1px 2px rgba(60, 64, 67, 0.3), 0px 1px 3px 1px rgba(60, 64, 67, 0.15);\n",
              "      fill: #174EA6;\n",
              "    }\n",
              "\n",
              "    .colab-df-buttons div {\n",
              "      margin-bottom: 4px;\n",
              "    }\n",
              "\n",
              "    [theme=dark] .colab-df-convert {\n",
              "      background-color: #3B4455;\n",
              "      fill: #D2E3FC;\n",
              "    }\n",
              "\n",
              "    [theme=dark] .colab-df-convert:hover {\n",
              "      background-color: #434B5C;\n",
              "      box-shadow: 0px 1px 3px 1px rgba(0, 0, 0, 0.15);\n",
              "      filter: drop-shadow(0px 1px 2px rgba(0, 0, 0, 0.3));\n",
              "      fill: #FFFFFF;\n",
              "    }\n",
              "  </style>\n",
              "\n",
              "    <script>\n",
              "      const buttonEl =\n",
              "        document.querySelector('#df-6439dd49-a44a-49da-baab-a66063fec43a button.colab-df-convert');\n",
              "      buttonEl.style.display =\n",
              "        google.colab.kernel.accessAllowed ? 'block' : 'none';\n",
              "\n",
              "      async function convertToInteractive(key) {\n",
              "        const element = document.querySelector('#df-6439dd49-a44a-49da-baab-a66063fec43a');\n",
              "        const dataTable =\n",
              "          await google.colab.kernel.invokeFunction('convertToInteractive',\n",
              "                                                    [key], {});\n",
              "        if (!dataTable) return;\n",
              "\n",
              "        const docLinkHtml = 'Like what you see? Visit the ' +\n",
              "          '<a target=\"_blank\" href=https://colab.research.google.com/notebooks/data_table.ipynb>data table notebook</a>'\n",
              "          + ' to learn more about interactive tables.';\n",
              "        element.innerHTML = '';\n",
              "        dataTable['output_type'] = 'display_data';\n",
              "        await google.colab.output.renderOutput(dataTable, element);\n",
              "        const docLink = document.createElement('div');\n",
              "        docLink.innerHTML = docLinkHtml;\n",
              "        element.appendChild(docLink);\n",
              "      }\n",
              "    </script>\n",
              "  </div>\n",
              "\n",
              "\n",
              "<div id=\"df-1583fa0c-f9d3-427b-9162-f4cd85ecb845\">\n",
              "  <button class=\"colab-df-quickchart\" onclick=\"quickchart('df-1583fa0c-f9d3-427b-9162-f4cd85ecb845')\"\n",
              "            title=\"Suggest charts\"\n",
              "            style=\"display:none;\">\n",
              "\n",
              "<svg xmlns=\"http://www.w3.org/2000/svg\" height=\"24px\"viewBox=\"0 0 24 24\"\n",
              "     width=\"24px\">\n",
              "    <g>\n",
              "        <path d=\"M19 3H5c-1.1 0-2 .9-2 2v14c0 1.1.9 2 2 2h14c1.1 0 2-.9 2-2V5c0-1.1-.9-2-2-2zM9 17H7v-7h2v7zm4 0h-2V7h2v10zm4 0h-2v-4h2v4z\"/>\n",
              "    </g>\n",
              "</svg>\n",
              "  </button>\n",
              "\n",
              "<style>\n",
              "  .colab-df-quickchart {\n",
              "      --bg-color: #E8F0FE;\n",
              "      --fill-color: #1967D2;\n",
              "      --hover-bg-color: #E2EBFA;\n",
              "      --hover-fill-color: #174EA6;\n",
              "      --disabled-fill-color: #AAA;\n",
              "      --disabled-bg-color: #DDD;\n",
              "  }\n",
              "\n",
              "  [theme=dark] .colab-df-quickchart {\n",
              "      --bg-color: #3B4455;\n",
              "      --fill-color: #D2E3FC;\n",
              "      --hover-bg-color: #434B5C;\n",
              "      --hover-fill-color: #FFFFFF;\n",
              "      --disabled-bg-color: #3B4455;\n",
              "      --disabled-fill-color: #666;\n",
              "  }\n",
              "\n",
              "  .colab-df-quickchart {\n",
              "    background-color: var(--bg-color);\n",
              "    border: none;\n",
              "    border-radius: 50%;\n",
              "    cursor: pointer;\n",
              "    display: none;\n",
              "    fill: var(--fill-color);\n",
              "    height: 32px;\n",
              "    padding: 0;\n",
              "    width: 32px;\n",
              "  }\n",
              "\n",
              "  .colab-df-quickchart:hover {\n",
              "    background-color: var(--hover-bg-color);\n",
              "    box-shadow: 0 1px 2px rgba(60, 64, 67, 0.3), 0 1px 3px 1px rgba(60, 64, 67, 0.15);\n",
              "    fill: var(--button-hover-fill-color);\n",
              "  }\n",
              "\n",
              "  .colab-df-quickchart-complete:disabled,\n",
              "  .colab-df-quickchart-complete:disabled:hover {\n",
              "    background-color: var(--disabled-bg-color);\n",
              "    fill: var(--disabled-fill-color);\n",
              "    box-shadow: none;\n",
              "  }\n",
              "\n",
              "  .colab-df-spinner {\n",
              "    border: 2px solid var(--fill-color);\n",
              "    border-color: transparent;\n",
              "    border-bottom-color: var(--fill-color);\n",
              "    animation:\n",
              "      spin 1s steps(1) infinite;\n",
              "  }\n",
              "\n",
              "  @keyframes spin {\n",
              "    0% {\n",
              "      border-color: transparent;\n",
              "      border-bottom-color: var(--fill-color);\n",
              "      border-left-color: var(--fill-color);\n",
              "    }\n",
              "    20% {\n",
              "      border-color: transparent;\n",
              "      border-left-color: var(--fill-color);\n",
              "      border-top-color: var(--fill-color);\n",
              "    }\n",
              "    30% {\n",
              "      border-color: transparent;\n",
              "      border-left-color: var(--fill-color);\n",
              "      border-top-color: var(--fill-color);\n",
              "      border-right-color: var(--fill-color);\n",
              "    }\n",
              "    40% {\n",
              "      border-color: transparent;\n",
              "      border-right-color: var(--fill-color);\n",
              "      border-top-color: var(--fill-color);\n",
              "    }\n",
              "    60% {\n",
              "      border-color: transparent;\n",
              "      border-right-color: var(--fill-color);\n",
              "    }\n",
              "    80% {\n",
              "      border-color: transparent;\n",
              "      border-right-color: var(--fill-color);\n",
              "      border-bottom-color: var(--fill-color);\n",
              "    }\n",
              "    90% {\n",
              "      border-color: transparent;\n",
              "      border-bottom-color: var(--fill-color);\n",
              "    }\n",
              "  }\n",
              "</style>\n",
              "\n",
              "  <script>\n",
              "    async function quickchart(key) {\n",
              "      const quickchartButtonEl =\n",
              "        document.querySelector('#' + key + ' button');\n",
              "      quickchartButtonEl.disabled = true;  // To prevent multiple clicks.\n",
              "      quickchartButtonEl.classList.add('colab-df-spinner');\n",
              "      try {\n",
              "        const charts = await google.colab.kernel.invokeFunction(\n",
              "            'suggestCharts', [key], {});\n",
              "      } catch (error) {\n",
              "        console.error('Error during call to suggestCharts:', error);\n",
              "      }\n",
              "      quickchartButtonEl.classList.remove('colab-df-spinner');\n",
              "      quickchartButtonEl.classList.add('colab-df-quickchart-complete');\n",
              "    }\n",
              "    (() => {\n",
              "      let quickchartButtonEl =\n",
              "        document.querySelector('#df-1583fa0c-f9d3-427b-9162-f4cd85ecb845 button');\n",
              "      quickchartButtonEl.style.display =\n",
              "        google.colab.kernel.accessAllowed ? 'block' : 'none';\n",
              "    })();\n",
              "  </script>\n",
              "</div>\n",
              "\n",
              "    </div>\n",
              "  </div>\n"
            ],
            "application/vnd.google.colaboratory.intrinsic+json": {
              "type": "dataframe",
              "summary": "{\n  \"name\": \"medical_df\",\n  \"rows\": 8,\n  \"fields\": [\n    {\n      \"column\": \"age\",\n      \"properties\": {\n        \"dtype\": \"number\",\n        \"std\": 460.6106090399993,\n        \"min\": 14.049960379216154,\n        \"max\": 1338.0,\n        \"num_unique_values\": 8,\n        \"samples\": [\n          39.20702541106129,\n          39.0,\n          1338.0\n        ],\n        \"semantic_type\": \"\",\n        \"description\": \"\"\n      }\n    },\n    {\n      \"column\": \"bmi\",\n      \"properties\": {\n        \"dtype\": \"number\",\n        \"std\": 463.29524977918294,\n        \"min\": 6.098186911679014,\n        \"max\": 1338.0,\n        \"num_unique_values\": 8,\n        \"samples\": [\n          30.66339686098655,\n          30.4,\n          1338.0\n        ],\n        \"semantic_type\": \"\",\n        \"description\": \"\"\n      }\n    },\n    {\n      \"column\": \"children\",\n      \"properties\": {\n        \"dtype\": \"number\",\n        \"std\": 472.5368318870757,\n        \"min\": 0.0,\n        \"max\": 1338.0,\n        \"num_unique_values\": 7,\n        \"samples\": [\n          1338.0,\n          1.0949177877429,\n          2.0\n        ],\n        \"semantic_type\": \"\",\n        \"description\": \"\"\n      }\n    },\n    {\n      \"column\": \"charges\",\n      \"properties\": {\n        \"dtype\": \"number\",\n        \"std\": 20381.922846226596,\n        \"min\": 1121.8739,\n        \"max\": 63770.42801,\n        \"num_unique_values\": 8,\n        \"samples\": [\n          13270.422265141257,\n          9382.033,\n          1338.0\n        ],\n        \"semantic_type\": \"\",\n        \"description\": \"\"\n      }\n    }\n  ]\n}"
            }
          },
          "metadata": {},
          "execution_count": 13
        }
      ],
      "source": [
        "medical_df.describe()"
      ]
    },
    {
      "cell_type": "markdown",
      "id": "7fddbb64",
      "metadata": {
        "id": "7fddbb64"
      },
      "source": [
        "The ranges of values in the numerical columns seem reasonable too (no negative ages!), so we may not have to do much data cleaning or correction. The \"charges\" column seems to be significantly skewed however, as the median (50 percentile) is much lower than the maximum value.\n",
        "\n",
        "\n",
        "> **EXERCISE**: What other inferences can you draw by looking at the table above? Add your inferences below:\n",
        ">\n",
        "> 1. ???\n",
        "> 2. ???\n",
        "> 3. ???\n",
        "> 4. ???\n",
        "> 5. ???\n",
        "\n"
      ]
    },
    {
      "cell_type": "markdown",
      "id": "2992f6a2",
      "metadata": {
        "id": "2992f6a2"
      },
      "source": [
        "Let's save our work before continuing."
      ]
    },
    {
      "cell_type": "code",
      "execution_count": 3,
      "id": "9b6f83e4",
      "metadata": {
        "colab": {
          "base_uri": "https://localhost:8080/"
        },
        "id": "9b6f83e4",
        "outputId": "f07c7ada-8d5c-4560-f6d1-15d7c77a508b"
      },
      "outputs": [
        {
          "output_type": "stream",
          "name": "stdout",
          "text": [
            "\u001b[?25l     \u001b[90m━━━━━━━━━━━━━━━━━━━━━━━━━━━━━━━━━━━━━━━━\u001b[0m \u001b[32m0.0/68.6 kB\u001b[0m \u001b[31m?\u001b[0m eta \u001b[36m-:--:--\u001b[0m\r\u001b[2K     \u001b[91m━━━━━━━━━━━━━━━━━━━━━━━━━━━━━━━━━━━\u001b[0m\u001b[91m╸\u001b[0m\u001b[90m━━━━\u001b[0m \u001b[32m61.4/68.6 kB\u001b[0m \u001b[31m1.8 MB/s\u001b[0m eta \u001b[36m0:00:01\u001b[0m\r\u001b[2K     \u001b[90m━━━━━━━━━━━━━━━━━━━━━━━━━━━━━━━━━━━━━━━━\u001b[0m \u001b[32m68.6/68.6 kB\u001b[0m \u001b[31m1.5 MB/s\u001b[0m eta \u001b[36m0:00:00\u001b[0m\n",
            "\u001b[?25h  Preparing metadata (setup.py) ... \u001b[?25l\u001b[?25hdone\n",
            "  Building wheel for uuid (setup.py) ... \u001b[?25l\u001b[?25hdone\n"
          ]
        }
      ],
      "source": [
        "!pip install jovian --quiet"
      ]
    },
    {
      "cell_type": "code",
      "execution_count": 4,
      "id": "cb29b7c9",
      "metadata": {
        "id": "cb29b7c9"
      },
      "outputs": [],
      "source": [
        "import jovian"
      ]
    },
    {
      "cell_type": "code",
      "execution_count": 38,
      "id": "4040cd9d",
      "metadata": {
        "colab": {
          "base_uri": "https://localhost:8080/"
        },
        "id": "4040cd9d",
        "outputId": "2ecb88e5-516a-47aa-f7c5-5e40bf196e55"
      },
      "outputs": [
        {
          "output_type": "stream",
          "name": "stdout",
          "text": [
            "[jovian] Detected Colab notebook...\u001b[0m\n",
            "[jovian] jovian.commit() is no longer required on Google Colab. If you ran this notebook from Jovian, \n",
            "then just save this file in Colab using Ctrl+S/Cmd+S and it will be updated on Jovian. \n",
            "Also, you can also delete this cell, it's no longer necessary.\u001b[0m\n"
          ]
        }
      ],
      "source": [
        "jovian.commit()"
      ]
    },
    {
      "cell_type": "markdown",
      "id": "2581f84b",
      "metadata": {
        "id": "2581f84b"
      },
      "source": [
        "## Exploratory Analysis and Visualization\n",
        "\n",
        "Let's explore the data by visualizing the distribution of values in some columns of the dataset, and the relationships between \"charges\" and other columns.\n",
        "\n",
        "We'll use libraries Matplotlib, Seaborn and Plotly for visualization. Follow these tutorials to learn how to use these libraries:\n",
        "\n",
        "- https://jovian.ai/aakashns/python-matplotlib-data-visualization\n",
        "- https://jovian.ai/aakashns/interactive-visualization-plotly\n",
        "- https://jovian.ai/aakashns/dataviz-cheatsheet"
      ]
    },
    {
      "cell_type": "code",
      "execution_count": null,
      "id": "f2e85bc8",
      "metadata": {
        "id": "f2e85bc8"
      },
      "outputs": [],
      "source": [
        "!pip install plotly matplotlib seaborn --quiet"
      ]
    },
    {
      "cell_type": "code",
      "execution_count": 14,
      "id": "66d82725",
      "metadata": {
        "id": "66d82725"
      },
      "outputs": [],
      "source": [
        "import plotly.express as px\n",
        "import matplotlib\n",
        "import matplotlib.pyplot as plt\n",
        "import seaborn as sns\n",
        "%matplotlib inline"
      ]
    },
    {
      "cell_type": "markdown",
      "id": "60caa58a",
      "metadata": {
        "id": "60caa58a"
      },
      "source": [
        "The following settings will improve the default style and font sizes for our charts."
      ]
    },
    {
      "cell_type": "code",
      "execution_count": 15,
      "id": "8ffedac7",
      "metadata": {
        "id": "8ffedac7"
      },
      "outputs": [],
      "source": [
        "sns.set_style('darkgrid')\n",
        "matplotlib.rcParams['font.size'] = 14\n",
        "matplotlib.rcParams['figure.figsize'] = (10, 6)\n",
        "matplotlib.rcParams['figure.facecolor'] = '#00000000'"
      ]
    },
    {
      "cell_type": "markdown",
      "id": "e17a8220",
      "metadata": {
        "id": "e17a8220"
      },
      "source": [
        "### Age\n",
        "\n",
        "Age is a numeric column. The minimum age in the dataset is 18 and the maximum age is 64. Thus, we can visualize the distribution of age using a histogram with 47 bins (one for each year) and a box plot. We'll use plotly to make the chart interactive, but you can create similar charts using Seaborn."
      ]
    },
    {
      "cell_type": "code",
      "execution_count": 16,
      "id": "1252a914",
      "metadata": {
        "colab": {
          "base_uri": "https://localhost:8080/"
        },
        "id": "1252a914",
        "outputId": "d7d88985-3263-4020-eb84-f72bd3363f63"
      },
      "outputs": [
        {
          "output_type": "execute_result",
          "data": {
            "text/plain": [
              "count    1338.000000\n",
              "mean       39.207025\n",
              "std        14.049960\n",
              "min        18.000000\n",
              "25%        27.000000\n",
              "50%        39.000000\n",
              "75%        51.000000\n",
              "max        64.000000\n",
              "Name: age, dtype: float64"
            ]
          },
          "metadata": {},
          "execution_count": 16
        }
      ],
      "source": [
        "medical_df.age.describe()"
      ]
    },
    {
      "cell_type": "code",
      "execution_count": 17,
      "id": "fa559500",
      "metadata": {
        "colab": {
          "base_uri": "https://localhost:8080/",
          "height": 542
        },
        "id": "fa559500",
        "outputId": "446262ba-ed48-4c14-e3e5-49219d8532d7"
      },
      "outputs": [
        {
          "output_type": "display_data",
          "data": {
            "text/html": [
              "<html>\n",
              "<head><meta charset=\"utf-8\" /></head>\n",
              "<body>\n",
              "    <div>            <script src=\"https://cdnjs.cloudflare.com/ajax/libs/mathjax/2.7.5/MathJax.js?config=TeX-AMS-MML_SVG\"></script><script type=\"text/javascript\">if (window.MathJax && window.MathJax.Hub && window.MathJax.Hub.Config) {window.MathJax.Hub.Config({SVG: {font: \"STIX-Web\"}});}</script>                <script type=\"text/javascript\">window.PlotlyConfig = {MathJaxConfig: 'local'};</script>\n",
              "        <script charset=\"utf-8\" src=\"https://cdn.plot.ly/plotly-2.24.1.min.js\"></script>                <div id=\"7c281182-9750-4a11-a9c3-23d331702342\" class=\"plotly-graph-div\" style=\"height:525px; width:100%;\"></div>            <script type=\"text/javascript\">                                    window.PLOTLYENV=window.PLOTLYENV || {};                                    if (document.getElementById(\"7c281182-9750-4a11-a9c3-23d331702342\")) {                    Plotly.newPlot(                        \"7c281182-9750-4a11-a9c3-23d331702342\",                        [{\"alignmentgroup\":\"True\",\"bingroup\":\"x\",\"hovertemplate\":\"age=%{x}\\u003cbr\\u003ecount=%{y}\\u003cextra\\u003e\\u003c\\u002fextra\\u003e\",\"legendgroup\":\"\",\"marker\":{\"color\":\"#636efa\",\"pattern\":{\"shape\":\"\"}},\"name\":\"\",\"nbinsx\":47,\"offsetgroup\":\"\",\"orientation\":\"v\",\"showlegend\":false,\"x\":[19,18,28,33,32,31,46,37,37,60,25,62,23,56,27,19,52,23,56,30,60,30,18,34,37,59,63,55,23,31,22,18,19,63,28,19,62,26,35,60,24,31,41,37,38,55,18,28,60,36,18,21,48,36,40,58,58,18,53,34,43,25,64,28,20,19,61,40,40,28,27,31,53,58,44,57,29,21,22,41,31,45,22,48,37,45,57,56,46,55,21,53,59,35,64,28,54,55,56,38,41,30,18,61,34,20,19,26,29,63,54,55,37,21,52,60,58,29,49,37,44,18,20,44,47,26,19,52,32,38,59,61,53,19,20,22,19,22,54,22,34,26,34,29,30,29,46,51,53,19,35,48,32,42,40,44,48,18,30,50,42,18,54,32,37,47,20,32,19,27,63,49,18,35,24,63,38,54,46,41,58,18,22,44,44,36,26,30,41,29,61,36,25,56,18,19,39,45,51,64,19,48,60,27,46,28,59,35,63,40,20,40,24,34,45,41,53,27,26,24,34,53,32,19,42,55,28,58,41,47,42,59,19,59,39,40,18,31,19,44,23,33,55,40,63,54,60,24,19,29,18,63,54,27,50,55,56,38,51,19,58,20,52,19,53,46,40,59,45,49,18,50,41,50,25,47,19,22,59,51,40,54,30,55,52,46,46,63,59,52,28,29,25,22,25,18,19,47,31,48,36,53,56,28,57,29,28,30,58,41,50,19,43,49,27,52,50,54,44,32,34,26,34,57,29,40,27,45,64,52,61,52,61,56,43,64,60,62,50,46,24,62,60,63,49,34,33,46,36,19,57,50,30,33,18,46,46,47,23,18,48,35,19,21,21,49,56,42,44,18,61,57,42,26,20,23,39,24,64,62,27,55,55,35,44,19,58,50,26,24,48,19,48,49,46,46,43,21,64,18,51,47,64,49,31,52,33,47,38,32,19,44,26,25,19,43,52,36,64,63,64,61,40,25,48,45,38,18,21,27,19,29,42,60,31,60,22,35,52,26,31,33,18,59,56,45,60,56,40,35,39,30,24,20,32,59,55,57,56,40,49,42,62,56,19,30,60,56,28,18,27,18,19,47,54,61,24,25,21,23,63,49,18,51,48,31,54,19,44,53,19,61,18,61,21,20,31,45,44,62,29,43,51,19,38,37,22,21,24,57,56,27,51,19,39,58,20,45,35,31,50,32,51,38,42,18,19,51,46,18,57,62,59,37,64,38,33,46,46,53,34,20,63,54,54,49,28,54,25,43,63,32,62,52,25,28,46,34,35,19,46,54,27,50,18,19,38,41,49,48,31,18,30,62,57,58,22,31,52,25,59,19,39,32,19,33,21,34,61,38,58,47,20,21,41,46,42,34,43,52,18,51,56,64,19,51,27,59,28,30,47,38,18,34,20,47,56,49,19,55,30,37,49,18,59,29,36,33,58,44,53,24,29,40,51,64,19,35,39,56,33,42,61,23,43,48,39,40,18,58,49,53,48,45,59,52,26,27,48,57,37,57,32,18,64,43,49,40,62,40,30,29,36,41,44,45,55,60,56,49,21,19,39,53,33,53,42,40,47,27,21,47,20,24,27,26,53,41,56,23,21,50,53,34,47,33,51,49,31,36,18,50,43,20,24,60,49,60,51,58,51,53,62,19,50,30,41,29,18,41,35,53,24,48,59,49,37,26,23,29,45,27,53,31,50,50,34,19,47,28,37,21,64,58,24,31,39,47,30,18,22,23,33,27,45,57,47,42,64,38,61,53,44,19,41,51,40,45,35,53,30,18,51,50,31,35,60,21,29,62,39,19,22,53,39,27,30,30,58,33,42,64,21,18,23,45,40,19,18,25,46,33,54,28,36,20,24,23,47,33,45,26,18,44,60,64,56,36,41,39,63,36,28,58,36,42,36,56,35,59,21,59,23,57,53,60,51,23,27,55,37,61,46,53,49,20,48,25,25,57,37,38,55,36,51,40,18,57,61,25,50,26,42,43,44,23,49,33,41,37,22,23,21,51,25,32,57,36,22,57,64,36,54,47,62,61,43,19,18,19,49,60,26,49,60,26,27,44,63,32,22,18,59,44,33,24,43,45,61,35,62,62,38,34,43,50,19,57,62,41,26,39,46,45,32,59,44,39,18,53,18,50,18,19,62,56,42,37,42,25,57,51,30,44,34,31,54,24,43,48,19,29,63,46,52,35,51,44,21,39,50,34,22,19,26,29,48,26,45,36,54,34,31,27,20,44,43,45,34,24,26,38,50,38,27,39,39,63,33,36,30,24,24,48,47,29,28,47,25,51,48,43,61,48,38,59,19,26,54,21,51,22,47,18,47,21,19,23,54,37,46,55,30,18,61,54,22,45,22,19,35,18,20,28,55,43,43,22,25,49,44,64,49,47,27,55,48,45,24,32,24,57,59,36,29,42,48,39,63,54,37,63,21,54,60,32,47,21,28,63,18,32,38,32,62,39,55,57,52,56,47,55,23,22,50,18,51,22,52,25,33,53,29,58,37,54,49,50,26,45,54,38,48,28,23,55,41,25,33,30,23,46,53,27,23,63,55,35,34,19,39,27,57,52,28,50,44,26,33,19,50,41,52,39,50,52,60,20,55,42,18,58,43,35,48,36,19,23,20,32,43,34,30,18,41,35,57,29,32,37,18,43,56,38,29,22,52,40,23,31,42,24,25,48,23,45,20,62,43,23,31,41,58,48,31,19,19,41,40,31,37,46,22,51,18,35,59,36,37,59,36,39,18,52,27,18,40,29,46,38,30,40,50,20,41,33,38,42,56,58,52,20,54,58,45,26,63,58,37,25,52,64,22,28,18,28,45,33,18,32,24,19,20,40,34,42,51,54,55,52,32,28,41,43,49,64,55,24,20,45,26,25,43,35,26,57,22,32,39,25,48,47,18,18,61,47,28,36,20,44,38,19,21,46,58,20,18,28,33,19,45,62,25,43,42,24,29,32,25,41,42,33,34,19,30,18,19,18,35,39,31,62,62,42,31,61,42,51,23,52,57,23,52,50,18,18,21,61],\"xaxis\":\"x\",\"yaxis\":\"y\",\"type\":\"histogram\"},{\"alignmentgroup\":\"True\",\"hovertemplate\":\"age=%{x}\\u003cextra\\u003e\\u003c\\u002fextra\\u003e\",\"legendgroup\":\"\",\"marker\":{\"color\":\"#636efa\"},\"name\":\"\",\"notched\":true,\"offsetgroup\":\"\",\"showlegend\":false,\"x\":[19,18,28,33,32,31,46,37,37,60,25,62,23,56,27,19,52,23,56,30,60,30,18,34,37,59,63,55,23,31,22,18,19,63,28,19,62,26,35,60,24,31,41,37,38,55,18,28,60,36,18,21,48,36,40,58,58,18,53,34,43,25,64,28,20,19,61,40,40,28,27,31,53,58,44,57,29,21,22,41,31,45,22,48,37,45,57,56,46,55,21,53,59,35,64,28,54,55,56,38,41,30,18,61,34,20,19,26,29,63,54,55,37,21,52,60,58,29,49,37,44,18,20,44,47,26,19,52,32,38,59,61,53,19,20,22,19,22,54,22,34,26,34,29,30,29,46,51,53,19,35,48,32,42,40,44,48,18,30,50,42,18,54,32,37,47,20,32,19,27,63,49,18,35,24,63,38,54,46,41,58,18,22,44,44,36,26,30,41,29,61,36,25,56,18,19,39,45,51,64,19,48,60,27,46,28,59,35,63,40,20,40,24,34,45,41,53,27,26,24,34,53,32,19,42,55,28,58,41,47,42,59,19,59,39,40,18,31,19,44,23,33,55,40,63,54,60,24,19,29,18,63,54,27,50,55,56,38,51,19,58,20,52,19,53,46,40,59,45,49,18,50,41,50,25,47,19,22,59,51,40,54,30,55,52,46,46,63,59,52,28,29,25,22,25,18,19,47,31,48,36,53,56,28,57,29,28,30,58,41,50,19,43,49,27,52,50,54,44,32,34,26,34,57,29,40,27,45,64,52,61,52,61,56,43,64,60,62,50,46,24,62,60,63,49,34,33,46,36,19,57,50,30,33,18,46,46,47,23,18,48,35,19,21,21,49,56,42,44,18,61,57,42,26,20,23,39,24,64,62,27,55,55,35,44,19,58,50,26,24,48,19,48,49,46,46,43,21,64,18,51,47,64,49,31,52,33,47,38,32,19,44,26,25,19,43,52,36,64,63,64,61,40,25,48,45,38,18,21,27,19,29,42,60,31,60,22,35,52,26,31,33,18,59,56,45,60,56,40,35,39,30,24,20,32,59,55,57,56,40,49,42,62,56,19,30,60,56,28,18,27,18,19,47,54,61,24,25,21,23,63,49,18,51,48,31,54,19,44,53,19,61,18,61,21,20,31,45,44,62,29,43,51,19,38,37,22,21,24,57,56,27,51,19,39,58,20,45,35,31,50,32,51,38,42,18,19,51,46,18,57,62,59,37,64,38,33,46,46,53,34,20,63,54,54,49,28,54,25,43,63,32,62,52,25,28,46,34,35,19,46,54,27,50,18,19,38,41,49,48,31,18,30,62,57,58,22,31,52,25,59,19,39,32,19,33,21,34,61,38,58,47,20,21,41,46,42,34,43,52,18,51,56,64,19,51,27,59,28,30,47,38,18,34,20,47,56,49,19,55,30,37,49,18,59,29,36,33,58,44,53,24,29,40,51,64,19,35,39,56,33,42,61,23,43,48,39,40,18,58,49,53,48,45,59,52,26,27,48,57,37,57,32,18,64,43,49,40,62,40,30,29,36,41,44,45,55,60,56,49,21,19,39,53,33,53,42,40,47,27,21,47,20,24,27,26,53,41,56,23,21,50,53,34,47,33,51,49,31,36,18,50,43,20,24,60,49,60,51,58,51,53,62,19,50,30,41,29,18,41,35,53,24,48,59,49,37,26,23,29,45,27,53,31,50,50,34,19,47,28,37,21,64,58,24,31,39,47,30,18,22,23,33,27,45,57,47,42,64,38,61,53,44,19,41,51,40,45,35,53,30,18,51,50,31,35,60,21,29,62,39,19,22,53,39,27,30,30,58,33,42,64,21,18,23,45,40,19,18,25,46,33,54,28,36,20,24,23,47,33,45,26,18,44,60,64,56,36,41,39,63,36,28,58,36,42,36,56,35,59,21,59,23,57,53,60,51,23,27,55,37,61,46,53,49,20,48,25,25,57,37,38,55,36,51,40,18,57,61,25,50,26,42,43,44,23,49,33,41,37,22,23,21,51,25,32,57,36,22,57,64,36,54,47,62,61,43,19,18,19,49,60,26,49,60,26,27,44,63,32,22,18,59,44,33,24,43,45,61,35,62,62,38,34,43,50,19,57,62,41,26,39,46,45,32,59,44,39,18,53,18,50,18,19,62,56,42,37,42,25,57,51,30,44,34,31,54,24,43,48,19,29,63,46,52,35,51,44,21,39,50,34,22,19,26,29,48,26,45,36,54,34,31,27,20,44,43,45,34,24,26,38,50,38,27,39,39,63,33,36,30,24,24,48,47,29,28,47,25,51,48,43,61,48,38,59,19,26,54,21,51,22,47,18,47,21,19,23,54,37,46,55,30,18,61,54,22,45,22,19,35,18,20,28,55,43,43,22,25,49,44,64,49,47,27,55,48,45,24,32,24,57,59,36,29,42,48,39,63,54,37,63,21,54,60,32,47,21,28,63,18,32,38,32,62,39,55,57,52,56,47,55,23,22,50,18,51,22,52,25,33,53,29,58,37,54,49,50,26,45,54,38,48,28,23,55,41,25,33,30,23,46,53,27,23,63,55,35,34,19,39,27,57,52,28,50,44,26,33,19,50,41,52,39,50,52,60,20,55,42,18,58,43,35,48,36,19,23,20,32,43,34,30,18,41,35,57,29,32,37,18,43,56,38,29,22,52,40,23,31,42,24,25,48,23,45,20,62,43,23,31,41,58,48,31,19,19,41,40,31,37,46,22,51,18,35,59,36,37,59,36,39,18,52,27,18,40,29,46,38,30,40,50,20,41,33,38,42,56,58,52,20,54,58,45,26,63,58,37,25,52,64,22,28,18,28,45,33,18,32,24,19,20,40,34,42,51,54,55,52,32,28,41,43,49,64,55,24,20,45,26,25,43,35,26,57,22,32,39,25,48,47,18,18,61,47,28,36,20,44,38,19,21,46,58,20,18,28,33,19,45,62,25,43,42,24,29,32,25,41,42,33,34,19,30,18,19,18,35,39,31,62,62,42,31,61,42,51,23,52,57,23,52,50,18,18,21,61],\"xaxis\":\"x2\",\"yaxis\":\"y2\",\"type\":\"box\"}],                        {\"template\":{\"data\":{\"histogram2dcontour\":[{\"type\":\"histogram2dcontour\",\"colorbar\":{\"outlinewidth\":0,\"ticks\":\"\"},\"colorscale\":[[0.0,\"#0d0887\"],[0.1111111111111111,\"#46039f\"],[0.2222222222222222,\"#7201a8\"],[0.3333333333333333,\"#9c179e\"],[0.4444444444444444,\"#bd3786\"],[0.5555555555555556,\"#d8576b\"],[0.6666666666666666,\"#ed7953\"],[0.7777777777777778,\"#fb9f3a\"],[0.8888888888888888,\"#fdca26\"],[1.0,\"#f0f921\"]]}],\"choropleth\":[{\"type\":\"choropleth\",\"colorbar\":{\"outlinewidth\":0,\"ticks\":\"\"}}],\"histogram2d\":[{\"type\":\"histogram2d\",\"colorbar\":{\"outlinewidth\":0,\"ticks\":\"\"},\"colorscale\":[[0.0,\"#0d0887\"],[0.1111111111111111,\"#46039f\"],[0.2222222222222222,\"#7201a8\"],[0.3333333333333333,\"#9c179e\"],[0.4444444444444444,\"#bd3786\"],[0.5555555555555556,\"#d8576b\"],[0.6666666666666666,\"#ed7953\"],[0.7777777777777778,\"#fb9f3a\"],[0.8888888888888888,\"#fdca26\"],[1.0,\"#f0f921\"]]}],\"heatmap\":[{\"type\":\"heatmap\",\"colorbar\":{\"outlinewidth\":0,\"ticks\":\"\"},\"colorscale\":[[0.0,\"#0d0887\"],[0.1111111111111111,\"#46039f\"],[0.2222222222222222,\"#7201a8\"],[0.3333333333333333,\"#9c179e\"],[0.4444444444444444,\"#bd3786\"],[0.5555555555555556,\"#d8576b\"],[0.6666666666666666,\"#ed7953\"],[0.7777777777777778,\"#fb9f3a\"],[0.8888888888888888,\"#fdca26\"],[1.0,\"#f0f921\"]]}],\"heatmapgl\":[{\"type\":\"heatmapgl\",\"colorbar\":{\"outlinewidth\":0,\"ticks\":\"\"},\"colorscale\":[[0.0,\"#0d0887\"],[0.1111111111111111,\"#46039f\"],[0.2222222222222222,\"#7201a8\"],[0.3333333333333333,\"#9c179e\"],[0.4444444444444444,\"#bd3786\"],[0.5555555555555556,\"#d8576b\"],[0.6666666666666666,\"#ed7953\"],[0.7777777777777778,\"#fb9f3a\"],[0.8888888888888888,\"#fdca26\"],[1.0,\"#f0f921\"]]}],\"contourcarpet\":[{\"type\":\"contourcarpet\",\"colorbar\":{\"outlinewidth\":0,\"ticks\":\"\"}}],\"contour\":[{\"type\":\"contour\",\"colorbar\":{\"outlinewidth\":0,\"ticks\":\"\"},\"colorscale\":[[0.0,\"#0d0887\"],[0.1111111111111111,\"#46039f\"],[0.2222222222222222,\"#7201a8\"],[0.3333333333333333,\"#9c179e\"],[0.4444444444444444,\"#bd3786\"],[0.5555555555555556,\"#d8576b\"],[0.6666666666666666,\"#ed7953\"],[0.7777777777777778,\"#fb9f3a\"],[0.8888888888888888,\"#fdca26\"],[1.0,\"#f0f921\"]]}],\"surface\":[{\"type\":\"surface\",\"colorbar\":{\"outlinewidth\":0,\"ticks\":\"\"},\"colorscale\":[[0.0,\"#0d0887\"],[0.1111111111111111,\"#46039f\"],[0.2222222222222222,\"#7201a8\"],[0.3333333333333333,\"#9c179e\"],[0.4444444444444444,\"#bd3786\"],[0.5555555555555556,\"#d8576b\"],[0.6666666666666666,\"#ed7953\"],[0.7777777777777778,\"#fb9f3a\"],[0.8888888888888888,\"#fdca26\"],[1.0,\"#f0f921\"]]}],\"mesh3d\":[{\"type\":\"mesh3d\",\"colorbar\":{\"outlinewidth\":0,\"ticks\":\"\"}}],\"scatter\":[{\"fillpattern\":{\"fillmode\":\"overlay\",\"size\":10,\"solidity\":0.2},\"type\":\"scatter\"}],\"parcoords\":[{\"type\":\"parcoords\",\"line\":{\"colorbar\":{\"outlinewidth\":0,\"ticks\":\"\"}}}],\"scatterpolargl\":[{\"type\":\"scatterpolargl\",\"marker\":{\"colorbar\":{\"outlinewidth\":0,\"ticks\":\"\"}}}],\"bar\":[{\"error_x\":{\"color\":\"#2a3f5f\"},\"error_y\":{\"color\":\"#2a3f5f\"},\"marker\":{\"line\":{\"color\":\"#E5ECF6\",\"width\":0.5},\"pattern\":{\"fillmode\":\"overlay\",\"size\":10,\"solidity\":0.2}},\"type\":\"bar\"}],\"scattergeo\":[{\"type\":\"scattergeo\",\"marker\":{\"colorbar\":{\"outlinewidth\":0,\"ticks\":\"\"}}}],\"scatterpolar\":[{\"type\":\"scatterpolar\",\"marker\":{\"colorbar\":{\"outlinewidth\":0,\"ticks\":\"\"}}}],\"histogram\":[{\"marker\":{\"pattern\":{\"fillmode\":\"overlay\",\"size\":10,\"solidity\":0.2}},\"type\":\"histogram\"}],\"scattergl\":[{\"type\":\"scattergl\",\"marker\":{\"colorbar\":{\"outlinewidth\":0,\"ticks\":\"\"}}}],\"scatter3d\":[{\"type\":\"scatter3d\",\"line\":{\"colorbar\":{\"outlinewidth\":0,\"ticks\":\"\"}},\"marker\":{\"colorbar\":{\"outlinewidth\":0,\"ticks\":\"\"}}}],\"scattermapbox\":[{\"type\":\"scattermapbox\",\"marker\":{\"colorbar\":{\"outlinewidth\":0,\"ticks\":\"\"}}}],\"scatterternary\":[{\"type\":\"scatterternary\",\"marker\":{\"colorbar\":{\"outlinewidth\":0,\"ticks\":\"\"}}}],\"scattercarpet\":[{\"type\":\"scattercarpet\",\"marker\":{\"colorbar\":{\"outlinewidth\":0,\"ticks\":\"\"}}}],\"carpet\":[{\"aaxis\":{\"endlinecolor\":\"#2a3f5f\",\"gridcolor\":\"white\",\"linecolor\":\"white\",\"minorgridcolor\":\"white\",\"startlinecolor\":\"#2a3f5f\"},\"baxis\":{\"endlinecolor\":\"#2a3f5f\",\"gridcolor\":\"white\",\"linecolor\":\"white\",\"minorgridcolor\":\"white\",\"startlinecolor\":\"#2a3f5f\"},\"type\":\"carpet\"}],\"table\":[{\"cells\":{\"fill\":{\"color\":\"#EBF0F8\"},\"line\":{\"color\":\"white\"}},\"header\":{\"fill\":{\"color\":\"#C8D4E3\"},\"line\":{\"color\":\"white\"}},\"type\":\"table\"}],\"barpolar\":[{\"marker\":{\"line\":{\"color\":\"#E5ECF6\",\"width\":0.5},\"pattern\":{\"fillmode\":\"overlay\",\"size\":10,\"solidity\":0.2}},\"type\":\"barpolar\"}],\"pie\":[{\"automargin\":true,\"type\":\"pie\"}]},\"layout\":{\"autotypenumbers\":\"strict\",\"colorway\":[\"#636efa\",\"#EF553B\",\"#00cc96\",\"#ab63fa\",\"#FFA15A\",\"#19d3f3\",\"#FF6692\",\"#B6E880\",\"#FF97FF\",\"#FECB52\"],\"font\":{\"color\":\"#2a3f5f\"},\"hovermode\":\"closest\",\"hoverlabel\":{\"align\":\"left\"},\"paper_bgcolor\":\"white\",\"plot_bgcolor\":\"#E5ECF6\",\"polar\":{\"bgcolor\":\"#E5ECF6\",\"angularaxis\":{\"gridcolor\":\"white\",\"linecolor\":\"white\",\"ticks\":\"\"},\"radialaxis\":{\"gridcolor\":\"white\",\"linecolor\":\"white\",\"ticks\":\"\"}},\"ternary\":{\"bgcolor\":\"#E5ECF6\",\"aaxis\":{\"gridcolor\":\"white\",\"linecolor\":\"white\",\"ticks\":\"\"},\"baxis\":{\"gridcolor\":\"white\",\"linecolor\":\"white\",\"ticks\":\"\"},\"caxis\":{\"gridcolor\":\"white\",\"linecolor\":\"white\",\"ticks\":\"\"}},\"coloraxis\":{\"colorbar\":{\"outlinewidth\":0,\"ticks\":\"\"}},\"colorscale\":{\"sequential\":[[0.0,\"#0d0887\"],[0.1111111111111111,\"#46039f\"],[0.2222222222222222,\"#7201a8\"],[0.3333333333333333,\"#9c179e\"],[0.4444444444444444,\"#bd3786\"],[0.5555555555555556,\"#d8576b\"],[0.6666666666666666,\"#ed7953\"],[0.7777777777777778,\"#fb9f3a\"],[0.8888888888888888,\"#fdca26\"],[1.0,\"#f0f921\"]],\"sequentialminus\":[[0.0,\"#0d0887\"],[0.1111111111111111,\"#46039f\"],[0.2222222222222222,\"#7201a8\"],[0.3333333333333333,\"#9c179e\"],[0.4444444444444444,\"#bd3786\"],[0.5555555555555556,\"#d8576b\"],[0.6666666666666666,\"#ed7953\"],[0.7777777777777778,\"#fb9f3a\"],[0.8888888888888888,\"#fdca26\"],[1.0,\"#f0f921\"]],\"diverging\":[[0,\"#8e0152\"],[0.1,\"#c51b7d\"],[0.2,\"#de77ae\"],[0.3,\"#f1b6da\"],[0.4,\"#fde0ef\"],[0.5,\"#f7f7f7\"],[0.6,\"#e6f5d0\"],[0.7,\"#b8e186\"],[0.8,\"#7fbc41\"],[0.9,\"#4d9221\"],[1,\"#276419\"]]},\"xaxis\":{\"gridcolor\":\"white\",\"linecolor\":\"white\",\"ticks\":\"\",\"title\":{\"standoff\":15},\"zerolinecolor\":\"white\",\"automargin\":true,\"zerolinewidth\":2},\"yaxis\":{\"gridcolor\":\"white\",\"linecolor\":\"white\",\"ticks\":\"\",\"title\":{\"standoff\":15},\"zerolinecolor\":\"white\",\"automargin\":true,\"zerolinewidth\":2},\"scene\":{\"xaxis\":{\"backgroundcolor\":\"#E5ECF6\",\"gridcolor\":\"white\",\"linecolor\":\"white\",\"showbackground\":true,\"ticks\":\"\",\"zerolinecolor\":\"white\",\"gridwidth\":2},\"yaxis\":{\"backgroundcolor\":\"#E5ECF6\",\"gridcolor\":\"white\",\"linecolor\":\"white\",\"showbackground\":true,\"ticks\":\"\",\"zerolinecolor\":\"white\",\"gridwidth\":2},\"zaxis\":{\"backgroundcolor\":\"#E5ECF6\",\"gridcolor\":\"white\",\"linecolor\":\"white\",\"showbackground\":true,\"ticks\":\"\",\"zerolinecolor\":\"white\",\"gridwidth\":2}},\"shapedefaults\":{\"line\":{\"color\":\"#2a3f5f\"}},\"annotationdefaults\":{\"arrowcolor\":\"#2a3f5f\",\"arrowhead\":0,\"arrowwidth\":1},\"geo\":{\"bgcolor\":\"white\",\"landcolor\":\"#E5ECF6\",\"subunitcolor\":\"white\",\"showland\":true,\"showlakes\":true,\"lakecolor\":\"white\"},\"title\":{\"x\":0.05},\"mapbox\":{\"style\":\"light\"}}},\"xaxis\":{\"anchor\":\"y\",\"domain\":[0.0,1.0],\"title\":{\"text\":\"age\"}},\"yaxis\":{\"anchor\":\"x\",\"domain\":[0.0,0.8316],\"title\":{\"text\":\"count\"}},\"xaxis2\":{\"anchor\":\"y2\",\"domain\":[0.0,1.0],\"matches\":\"x\",\"showticklabels\":false,\"showgrid\":true},\"yaxis2\":{\"anchor\":\"x2\",\"domain\":[0.8416,1.0],\"matches\":\"y2\",\"showticklabels\":false,\"showline\":false,\"ticks\":\"\",\"showgrid\":false},\"legend\":{\"tracegroupgap\":0},\"title\":{\"text\":\"Distribution of Age\"},\"barmode\":\"relative\",\"bargap\":0.1},                        {\"responsive\": true}                    ).then(function(){\n",
              "                            \n",
              "var gd = document.getElementById('7c281182-9750-4a11-a9c3-23d331702342');\n",
              "var x = new MutationObserver(function (mutations, observer) {{\n",
              "        var display = window.getComputedStyle(gd).display;\n",
              "        if (!display || display === 'none') {{\n",
              "            console.log([gd, 'removed!']);\n",
              "            Plotly.purge(gd);\n",
              "            observer.disconnect();\n",
              "        }}\n",
              "}});\n",
              "\n",
              "// Listen for the removal of the full notebook cells\n",
              "var notebookContainer = gd.closest('#notebook-container');\n",
              "if (notebookContainer) {{\n",
              "    x.observe(notebookContainer, {childList: true});\n",
              "}}\n",
              "\n",
              "// Listen for the clearing of the current output cell\n",
              "var outputEl = gd.closest('.output');\n",
              "if (outputEl) {{\n",
              "    x.observe(outputEl, {childList: true});\n",
              "}}\n",
              "\n",
              "                        })                };                            </script>        </div>\n",
              "</body>\n",
              "</html>"
            ]
          },
          "metadata": {}
        }
      ],
      "source": [
        "fig = px.histogram(medical_df,\n",
        "                   x='age',\n",
        "                   marginal='box',\n",
        "                   nbins=47,\n",
        "                   title='Distribution of Age')\n",
        "fig.update_layout(bargap=0.1)\n",
        "fig.show()"
      ]
    },
    {
      "cell_type": "markdown",
      "id": "75c5caa6",
      "metadata": {
        "id": "75c5caa6"
      },
      "source": [
        "The distribution of ages in the dataset is almost uniform, with 20-30 customers at every age, except for the ages 18 and 19, which seem to have over twice as many customers as other ages. The uniform distribution might arise from the fact that there isn't a big variation in the [number of people of any given age](https://www.statista.com/statistics/241488/population-of-the-us-by-sex-and-age/) (between 18 & 64) in the USA.\n",
        "\n",
        "\n",
        "\n",
        "> **EXERCISE**: Can you explain why there are over twice as many customers with ages 18 and 19, compared to other ages?\n",
        ">\n",
        "> ???\n"
      ]
    },
    {
      "cell_type": "markdown",
      "id": "cd8e283b",
      "metadata": {
        "id": "cd8e283b"
      },
      "source": [
        "### Body Mass Index\n",
        "\n",
        "Let's look at the distribution of BMI (Body Mass Index) of customers, using a histogram and box plot."
      ]
    },
    {
      "cell_type": "code",
      "execution_count": 36,
      "id": "8ab40b89",
      "metadata": {
        "scrolled": false,
        "colab": {
          "base_uri": "https://localhost:8080/",
          "height": 542
        },
        "id": "8ab40b89",
        "outputId": "614a7b2b-69e3-4545-ab5b-15d8f1789089"
      },
      "outputs": [
        {
          "output_type": "display_data",
          "data": {
            "text/html": [
              "<html>\n",
              "<head><meta charset=\"utf-8\" /></head>\n",
              "<body>\n",
              "    <div>            <script src=\"https://cdnjs.cloudflare.com/ajax/libs/mathjax/2.7.5/MathJax.js?config=TeX-AMS-MML_SVG\"></script><script type=\"text/javascript\">if (window.MathJax && window.MathJax.Hub && window.MathJax.Hub.Config) {window.MathJax.Hub.Config({SVG: {font: \"STIX-Web\"}});}</script>                <script type=\"text/javascript\">window.PlotlyConfig = {MathJaxConfig: 'local'};</script>\n",
              "        <script charset=\"utf-8\" src=\"https://cdn.plot.ly/plotly-2.24.1.min.js\"></script>                <div id=\"b6558a73-d46c-4db6-9932-084435fa5f7f\" class=\"plotly-graph-div\" style=\"height:525px; width:100%;\"></div>            <script type=\"text/javascript\">                                    window.PLOTLYENV=window.PLOTLYENV || {};                                    if (document.getElementById(\"b6558a73-d46c-4db6-9932-084435fa5f7f\")) {                    Plotly.newPlot(                        \"b6558a73-d46c-4db6-9932-084435fa5f7f\",                        [{\"alignmentgroup\":\"True\",\"bingroup\":\"x\",\"hovertemplate\":\"bmi=%{x}\\u003cbr\\u003ecount=%{y}\\u003cextra\\u003e\\u003c\\u002fextra\\u003e\",\"legendgroup\":\"\",\"marker\":{\"color\":\"red\",\"pattern\":{\"shape\":\"\"}},\"name\":\"\",\"offsetgroup\":\"\",\"orientation\":\"v\",\"showlegend\":false,\"x\":[27.9,33.77,33.0,22.705,28.88,25.74,33.44,27.74,29.83,25.84,26.22,26.29,34.4,39.82,42.13,24.6,30.78,23.845,40.3,35.3,36.005,32.4,34.1,31.92,28.025,27.72,23.085,32.775,17.385,36.3,35.6,26.315,28.6,28.31,36.4,20.425,32.965,20.8,36.67,39.9,26.6,36.63,21.78,30.8,37.05,37.3,38.665,34.77,24.53,35.2,35.625,33.63,28.0,34.43,28.69,36.955,31.825,31.68,22.88,37.335,27.36,33.66,24.7,25.935,22.42,28.9,39.1,26.315,36.19,23.98,24.75,28.5,28.1,32.01,27.4,34.01,29.59,35.53,39.805,32.965,26.885,38.285,37.62,41.23,34.8,22.895,31.16,27.2,27.74,26.98,39.49,24.795,29.83,34.77,31.3,37.62,30.8,38.28,19.95,19.3,31.6,25.46,30.115,29.92,27.5,28.025,28.4,30.875,27.94,35.09,33.63,29.7,30.8,35.72,32.205,28.595,49.06,27.94,27.17,23.37,37.1,23.75,28.975,31.35,33.915,28.785,28.3,37.4,17.765,34.7,26.505,22.04,35.9,25.555,28.785,28.05,34.1,25.175,31.9,36.0,22.42,32.49,25.3,29.735,28.69,38.83,30.495,37.73,37.43,28.4,24.13,29.7,37.145,23.37,25.46,39.52,24.42,25.175,35.53,27.83,26.6,36.85,39.6,29.8,29.64,28.215,37.0,33.155,31.825,18.905,41.47,30.3,15.96,34.8,33.345,37.7,27.835,29.2,28.9,33.155,28.595,38.28,19.95,26.41,30.69,41.895,29.92,30.9,32.2,32.11,31.57,26.2,25.74,26.6,34.43,30.59,32.8,28.6,18.05,39.33,32.11,32.23,24.035,36.08,22.3,28.88,26.4,27.74,31.8,41.23,33.0,30.875,28.5,26.73,30.9,37.1,26.6,23.1,29.92,23.21,33.7,33.25,30.8,34.8,24.64,33.88,38.06,41.91,31.635,25.46,36.195,27.83,17.8,27.5,24.51,22.22,26.73,38.39,29.07,38.06,36.67,22.135,26.8,35.3,27.74,30.02,38.06,35.86,20.9,28.975,17.29,32.2,34.21,30.3,31.825,25.365,33.63,40.15,24.415,31.92,25.2,26.84,24.32,36.955,38.06,42.35,19.8,32.395,30.2,25.84,29.37,34.2,37.05,27.455,27.55,26.6,20.615,24.3,31.79,21.56,28.12,40.565,27.645,32.395,31.2,26.62,48.07,26.22,36.765,26.4,33.4,29.64,45.54,28.82,26.8,22.99,27.7,25.41,34.39,28.88,27.55,22.61,37.51,33.0,38.0,33.345,27.5,33.33,34.865,33.06,26.6,24.7,35.97,35.86,31.4,33.25,32.205,32.775,27.645,37.335,25.27,29.64,30.8,40.945,27.2,34.105,23.21,36.48,33.8,36.7,36.385,27.36,31.16,28.785,35.72,34.5,25.74,27.55,32.3,27.72,27.6,30.02,27.55,36.765,41.47,29.26,35.75,33.345,29.92,27.835,23.18,25.6,27.7,35.245,38.28,27.6,43.89,29.83,41.91,20.79,32.3,30.5,21.7,26.4,21.89,30.78,32.3,24.985,32.015,30.4,21.09,22.23,33.155,32.9,33.33,28.31,24.89,40.15,30.115,31.46,17.955,30.685,33.0,43.34,22.135,34.4,39.05,25.365,22.61,30.21,35.625,37.43,31.445,31.35,32.3,19.855,34.4,31.02,25.6,38.17,20.6,47.52,32.965,32.3,20.4,38.38,24.31,23.6,21.12,30.03,17.48,20.235,17.195,23.9,35.15,35.64,34.1,22.6,39.16,26.98,33.88,35.86,32.775,30.59,30.2,24.31,27.265,29.165,16.815,30.4,33.1,20.235,26.9,30.5,28.595,33.11,31.73,28.9,46.75,29.45,32.68,33.5,43.01,36.52,26.695,33.1,29.64,25.65,29.6,38.6,29.6,24.13,23.4,29.735,46.53,37.4,30.14,30.495,39.6,33.0,36.63,30.0,38.095,25.935,25.175,28.38,28.7,33.82,24.32,24.09,32.67,30.115,29.8,33.345,25.1,28.31,28.5,35.625,36.85,32.56,41.325,37.51,31.35,39.5,34.3,31.065,21.47,28.7,38.06,31.16,32.9,25.08,25.08,43.4,25.7,27.93,23.6,28.7,23.98,39.2,34.4,26.03,23.21,30.25,28.93,30.875,31.35,23.75,25.27,28.7,32.11,33.66,22.42,30.4,28.3,35.7,35.31,30.495,31.0,30.875,27.36,44.22,33.915,37.73,26.07,33.88,30.59,25.8,39.425,25.46,42.13,31.73,29.7,36.19,40.48,28.025,38.9,30.2,28.05,31.35,38.0,31.79,36.3,47.41,30.21,25.84,35.435,46.7,28.595,46.2,30.8,28.93,21.4,31.73,41.325,23.8,33.44,34.21,34.105,35.53,19.95,32.68,30.5,44.77,32.12,30.495,40.565,30.59,31.9,40.565,29.1,37.29,43.12,36.86,34.295,27.17,26.84,38.095,30.2,23.465,25.46,30.59,45.43,23.65,20.7,28.27,20.235,30.21,35.91,30.69,29.0,19.57,31.13,21.85,40.26,33.725,29.48,33.25,32.6,37.525,39.16,31.635,25.3,39.05,28.31,34.1,25.175,23.655,26.98,37.8,29.37,34.8,33.155,19.0,33.0,36.63,28.595,25.6,33.11,37.1,31.4,34.1,21.3,33.535,28.785,26.03,28.88,42.46,38.0,38.95,36.1,29.3,35.53,22.705,39.7,38.19,24.51,38.095,26.41,33.66,42.4,28.31,33.915,34.96,35.31,30.78,26.22,23.37,28.5,32.965,42.68,39.6,31.13,36.3,35.2,25.3,42.4,33.155,35.91,28.785,46.53,23.98,31.54,33.66,22.99,38.06,28.7,32.775,32.015,29.81,31.57,31.16,29.7,31.02,43.89,21.375,40.81,31.35,36.1,23.18,17.4,20.3,35.3,24.32,18.5,26.41,26.125,41.69,24.1,31.13,27.36,36.2,32.395,23.655,34.8,40.185,32.3,35.75,33.725,39.27,34.87,44.745,41.47,26.41,29.545,32.9,38.06,28.69,30.495,27.74,35.2,23.54,30.685,40.47,22.6,28.9,22.61,24.32,36.67,33.44,40.66,36.6,37.4,35.4,27.075,39.05,28.405,21.755,40.28,36.08,24.42,21.4,30.1,27.265,32.1,34.77,38.39,23.7,31.73,35.5,24.035,29.15,34.105,26.62,26.41,30.115,27.0,21.755,36.0,30.875,26.4,28.975,37.905,22.77,33.63,27.645,22.8,27.83,37.43,38.17,34.58,35.2,27.1,26.03,25.175,31.825,32.3,29.0,39.7,19.475,36.1,26.7,36.48,28.88,34.2,33.33,32.3,39.805,34.32,28.88,24.4,41.14,35.97,27.6,29.26,27.7,36.955,36.86,22.515,29.92,41.8,27.6,23.18,20.9,31.92,28.5,44.22,22.895,33.1,24.795,26.18,35.97,22.3,42.24,26.51,35.815,41.42,36.575,30.14,25.84,30.8,42.94,21.01,22.515,34.43,31.46,24.225,37.1,26.125,35.53,33.7,17.67,31.13,29.81,24.32,31.825,31.79,28.025,30.78,21.85,33.1,25.84,23.845,34.39,33.82,35.97,31.5,28.31,23.465,31.35,31.1,24.7,32.78,29.81,30.495,32.45,34.2,50.38,24.1,32.775,30.78,32.3,35.53,23.75,23.845,29.6,33.11,24.13,32.23,28.1,47.6,28.0,33.535,19.855,25.4,29.9,37.29,43.7,23.655,24.3,36.2,29.48,24.86,30.1,21.85,28.12,27.1,33.44,28.8,29.5,34.8,27.36,22.135,37.05,26.695,28.93,28.975,30.02,39.5,33.63,26.885,29.04,24.035,38.94,32.11,44.0,20.045,25.555,40.26,22.515,22.515,40.92,27.265,36.85,35.1,29.355,32.585,32.34,39.8,24.6,28.31,31.73,26.695,27.5,24.605,33.99,26.885,22.895,28.2,34.21,25.0,33.2,31.0,35.815,23.2,32.11,23.4,20.1,39.16,34.21,46.53,32.5,25.8,35.3,37.18,27.5,29.735,24.225,26.18,29.48,23.21,46.09,40.185,22.61,39.93,35.8,35.8,34.2,31.255,29.7,18.335,42.9,28.405,30.2,27.835,39.49,30.8,26.79,34.96,36.67,39.615,25.9,35.2,24.795,36.765,27.1,24.795,25.365,25.745,34.32,28.16,23.56,20.235,40.5,35.42,22.895,40.15,29.15,39.995,29.92,25.46,21.375,25.9,30.59,30.115,25.8,30.115,27.645,34.675,20.52,19.8,27.835,31.6,28.27,20.045,23.275,34.1,36.85,36.29,26.885,22.99,32.7,25.8,29.6,19.19,31.73,29.26,28.215,24.985,27.74,22.8,20.13,33.33,32.3,27.6,25.46,24.605,34.2,35.815,32.68,37.0,31.02,36.08,23.32,45.32,34.6,26.03,18.715,31.6,17.29,23.655,35.2,27.93,21.565,38.38,23.0,37.07,30.495,28.88,27.265,28.025,23.085,30.685,25.8,35.245,24.7,25.08,52.58,22.515,30.9,36.955,26.41,29.83,29.8,21.47,27.645,28.9,31.79,39.49,33.82,32.01,27.94,41.14,28.595,25.6,25.3,37.29,42.655,21.66,31.9,37.07,31.445,31.255,28.88,18.335,29.59,32.0,26.03,31.68,33.66,21.78,27.835,19.95,31.5,30.495,18.3,28.975,31.54,47.74,22.1,36.19,29.83,32.7,30.4,33.7,31.35,34.96,33.77,30.875,33.99,19.095,28.6,38.94,36.08,29.8,31.24,29.925,26.22,30.0,20.35,32.3,38.39,25.85,26.315,24.51,32.67,29.64,33.33,35.75,19.95,31.4,38.17,36.86,32.395,42.75,25.08,29.9,35.86,32.8,18.6,23.87,45.9,40.28,18.335,33.82,28.12,25.0,22.23,30.25,32.49,37.07,32.6,24.86,32.34,32.3,32.775,32.8,31.92,21.5,34.1,30.305,36.48,32.56,35.815,27.93,22.135,44.88,23.18,30.59,41.1,34.58,42.13,38.83,28.215,28.31,26.125,40.37,24.6,35.2,34.105,27.36,26.7,41.91,29.26,32.11,27.1,24.13,27.4,34.865,29.81,41.325,29.925,30.3,27.36,28.49,23.56,35.625,32.68,25.27,28.0,32.775,21.755,32.395,36.575,21.755,27.93,30.02,33.55,29.355,25.8,24.32,40.375,32.11,32.3,27.28,17.86,34.8,33.4,25.555,37.1,30.875,34.1,21.47,33.3,31.255,39.14,25.08,37.29,34.6,30.21,21.945,24.97,25.3,24.42,23.94,39.82,16.815,37.18,34.43,30.305,34.485,21.8,24.605,23.3,27.83,31.065,21.66,28.215,22.705,42.13,41.8,36.96,21.28,33.11,33.33,24.3,25.7,29.4,39.82,33.63,29.83,19.8,27.3,29.3,27.72,37.9,36.385,27.645,37.715,23.18,20.52,37.1,28.05,29.9,33.345,23.76,30.5,31.065,33.3,27.5,33.915,34.485,25.52,27.61,27.06,23.7,30.4,29.735,29.925,26.79,33.33,27.645,21.66,30.03,36.3,24.32,17.29,25.9,39.4,34.32,19.95,34.9,23.21,25.745,25.175,22.0,26.125,26.51,27.455,25.745,30.36,30.875,20.8,27.8,24.605,27.72,21.85,28.12,30.2,32.2,26.315,26.695,42.9,34.7,23.655,28.31,20.6,53.13,39.71,26.315,31.065,26.695,38.83,40.37,25.935,33.535,32.87,30.03,24.225,38.6,25.74,33.4,44.7,30.97,31.92,36.85,25.8,29.07],\"xaxis\":\"x\",\"yaxis\":\"y\",\"type\":\"histogram\"},{\"alignmentgroup\":\"True\",\"hovertemplate\":\"bmi=%{x}\\u003cextra\\u003e\\u003c\\u002fextra\\u003e\",\"legendgroup\":\"\",\"marker\":{\"color\":\"red\"},\"name\":\"\",\"notched\":true,\"offsetgroup\":\"\",\"showlegend\":false,\"x\":[27.9,33.77,33.0,22.705,28.88,25.74,33.44,27.74,29.83,25.84,26.22,26.29,34.4,39.82,42.13,24.6,30.78,23.845,40.3,35.3,36.005,32.4,34.1,31.92,28.025,27.72,23.085,32.775,17.385,36.3,35.6,26.315,28.6,28.31,36.4,20.425,32.965,20.8,36.67,39.9,26.6,36.63,21.78,30.8,37.05,37.3,38.665,34.77,24.53,35.2,35.625,33.63,28.0,34.43,28.69,36.955,31.825,31.68,22.88,37.335,27.36,33.66,24.7,25.935,22.42,28.9,39.1,26.315,36.19,23.98,24.75,28.5,28.1,32.01,27.4,34.01,29.59,35.53,39.805,32.965,26.885,38.285,37.62,41.23,34.8,22.895,31.16,27.2,27.74,26.98,39.49,24.795,29.83,34.77,31.3,37.62,30.8,38.28,19.95,19.3,31.6,25.46,30.115,29.92,27.5,28.025,28.4,30.875,27.94,35.09,33.63,29.7,30.8,35.72,32.205,28.595,49.06,27.94,27.17,23.37,37.1,23.75,28.975,31.35,33.915,28.785,28.3,37.4,17.765,34.7,26.505,22.04,35.9,25.555,28.785,28.05,34.1,25.175,31.9,36.0,22.42,32.49,25.3,29.735,28.69,38.83,30.495,37.73,37.43,28.4,24.13,29.7,37.145,23.37,25.46,39.52,24.42,25.175,35.53,27.83,26.6,36.85,39.6,29.8,29.64,28.215,37.0,33.155,31.825,18.905,41.47,30.3,15.96,34.8,33.345,37.7,27.835,29.2,28.9,33.155,28.595,38.28,19.95,26.41,30.69,41.895,29.92,30.9,32.2,32.11,31.57,26.2,25.74,26.6,34.43,30.59,32.8,28.6,18.05,39.33,32.11,32.23,24.035,36.08,22.3,28.88,26.4,27.74,31.8,41.23,33.0,30.875,28.5,26.73,30.9,37.1,26.6,23.1,29.92,23.21,33.7,33.25,30.8,34.8,24.64,33.88,38.06,41.91,31.635,25.46,36.195,27.83,17.8,27.5,24.51,22.22,26.73,38.39,29.07,38.06,36.67,22.135,26.8,35.3,27.74,30.02,38.06,35.86,20.9,28.975,17.29,32.2,34.21,30.3,31.825,25.365,33.63,40.15,24.415,31.92,25.2,26.84,24.32,36.955,38.06,42.35,19.8,32.395,30.2,25.84,29.37,34.2,37.05,27.455,27.55,26.6,20.615,24.3,31.79,21.56,28.12,40.565,27.645,32.395,31.2,26.62,48.07,26.22,36.765,26.4,33.4,29.64,45.54,28.82,26.8,22.99,27.7,25.41,34.39,28.88,27.55,22.61,37.51,33.0,38.0,33.345,27.5,33.33,34.865,33.06,26.6,24.7,35.97,35.86,31.4,33.25,32.205,32.775,27.645,37.335,25.27,29.64,30.8,40.945,27.2,34.105,23.21,36.48,33.8,36.7,36.385,27.36,31.16,28.785,35.72,34.5,25.74,27.55,32.3,27.72,27.6,30.02,27.55,36.765,41.47,29.26,35.75,33.345,29.92,27.835,23.18,25.6,27.7,35.245,38.28,27.6,43.89,29.83,41.91,20.79,32.3,30.5,21.7,26.4,21.89,30.78,32.3,24.985,32.015,30.4,21.09,22.23,33.155,32.9,33.33,28.31,24.89,40.15,30.115,31.46,17.955,30.685,33.0,43.34,22.135,34.4,39.05,25.365,22.61,30.21,35.625,37.43,31.445,31.35,32.3,19.855,34.4,31.02,25.6,38.17,20.6,47.52,32.965,32.3,20.4,38.38,24.31,23.6,21.12,30.03,17.48,20.235,17.195,23.9,35.15,35.64,34.1,22.6,39.16,26.98,33.88,35.86,32.775,30.59,30.2,24.31,27.265,29.165,16.815,30.4,33.1,20.235,26.9,30.5,28.595,33.11,31.73,28.9,46.75,29.45,32.68,33.5,43.01,36.52,26.695,33.1,29.64,25.65,29.6,38.6,29.6,24.13,23.4,29.735,46.53,37.4,30.14,30.495,39.6,33.0,36.63,30.0,38.095,25.935,25.175,28.38,28.7,33.82,24.32,24.09,32.67,30.115,29.8,33.345,25.1,28.31,28.5,35.625,36.85,32.56,41.325,37.51,31.35,39.5,34.3,31.065,21.47,28.7,38.06,31.16,32.9,25.08,25.08,43.4,25.7,27.93,23.6,28.7,23.98,39.2,34.4,26.03,23.21,30.25,28.93,30.875,31.35,23.75,25.27,28.7,32.11,33.66,22.42,30.4,28.3,35.7,35.31,30.495,31.0,30.875,27.36,44.22,33.915,37.73,26.07,33.88,30.59,25.8,39.425,25.46,42.13,31.73,29.7,36.19,40.48,28.025,38.9,30.2,28.05,31.35,38.0,31.79,36.3,47.41,30.21,25.84,35.435,46.7,28.595,46.2,30.8,28.93,21.4,31.73,41.325,23.8,33.44,34.21,34.105,35.53,19.95,32.68,30.5,44.77,32.12,30.495,40.565,30.59,31.9,40.565,29.1,37.29,43.12,36.86,34.295,27.17,26.84,38.095,30.2,23.465,25.46,30.59,45.43,23.65,20.7,28.27,20.235,30.21,35.91,30.69,29.0,19.57,31.13,21.85,40.26,33.725,29.48,33.25,32.6,37.525,39.16,31.635,25.3,39.05,28.31,34.1,25.175,23.655,26.98,37.8,29.37,34.8,33.155,19.0,33.0,36.63,28.595,25.6,33.11,37.1,31.4,34.1,21.3,33.535,28.785,26.03,28.88,42.46,38.0,38.95,36.1,29.3,35.53,22.705,39.7,38.19,24.51,38.095,26.41,33.66,42.4,28.31,33.915,34.96,35.31,30.78,26.22,23.37,28.5,32.965,42.68,39.6,31.13,36.3,35.2,25.3,42.4,33.155,35.91,28.785,46.53,23.98,31.54,33.66,22.99,38.06,28.7,32.775,32.015,29.81,31.57,31.16,29.7,31.02,43.89,21.375,40.81,31.35,36.1,23.18,17.4,20.3,35.3,24.32,18.5,26.41,26.125,41.69,24.1,31.13,27.36,36.2,32.395,23.655,34.8,40.185,32.3,35.75,33.725,39.27,34.87,44.745,41.47,26.41,29.545,32.9,38.06,28.69,30.495,27.74,35.2,23.54,30.685,40.47,22.6,28.9,22.61,24.32,36.67,33.44,40.66,36.6,37.4,35.4,27.075,39.05,28.405,21.755,40.28,36.08,24.42,21.4,30.1,27.265,32.1,34.77,38.39,23.7,31.73,35.5,24.035,29.15,34.105,26.62,26.41,30.115,27.0,21.755,36.0,30.875,26.4,28.975,37.905,22.77,33.63,27.645,22.8,27.83,37.43,38.17,34.58,35.2,27.1,26.03,25.175,31.825,32.3,29.0,39.7,19.475,36.1,26.7,36.48,28.88,34.2,33.33,32.3,39.805,34.32,28.88,24.4,41.14,35.97,27.6,29.26,27.7,36.955,36.86,22.515,29.92,41.8,27.6,23.18,20.9,31.92,28.5,44.22,22.895,33.1,24.795,26.18,35.97,22.3,42.24,26.51,35.815,41.42,36.575,30.14,25.84,30.8,42.94,21.01,22.515,34.43,31.46,24.225,37.1,26.125,35.53,33.7,17.67,31.13,29.81,24.32,31.825,31.79,28.025,30.78,21.85,33.1,25.84,23.845,34.39,33.82,35.97,31.5,28.31,23.465,31.35,31.1,24.7,32.78,29.81,30.495,32.45,34.2,50.38,24.1,32.775,30.78,32.3,35.53,23.75,23.845,29.6,33.11,24.13,32.23,28.1,47.6,28.0,33.535,19.855,25.4,29.9,37.29,43.7,23.655,24.3,36.2,29.48,24.86,30.1,21.85,28.12,27.1,33.44,28.8,29.5,34.8,27.36,22.135,37.05,26.695,28.93,28.975,30.02,39.5,33.63,26.885,29.04,24.035,38.94,32.11,44.0,20.045,25.555,40.26,22.515,22.515,40.92,27.265,36.85,35.1,29.355,32.585,32.34,39.8,24.6,28.31,31.73,26.695,27.5,24.605,33.99,26.885,22.895,28.2,34.21,25.0,33.2,31.0,35.815,23.2,32.11,23.4,20.1,39.16,34.21,46.53,32.5,25.8,35.3,37.18,27.5,29.735,24.225,26.18,29.48,23.21,46.09,40.185,22.61,39.93,35.8,35.8,34.2,31.255,29.7,18.335,42.9,28.405,30.2,27.835,39.49,30.8,26.79,34.96,36.67,39.615,25.9,35.2,24.795,36.765,27.1,24.795,25.365,25.745,34.32,28.16,23.56,20.235,40.5,35.42,22.895,40.15,29.15,39.995,29.92,25.46,21.375,25.9,30.59,30.115,25.8,30.115,27.645,34.675,20.52,19.8,27.835,31.6,28.27,20.045,23.275,34.1,36.85,36.29,26.885,22.99,32.7,25.8,29.6,19.19,31.73,29.26,28.215,24.985,27.74,22.8,20.13,33.33,32.3,27.6,25.46,24.605,34.2,35.815,32.68,37.0,31.02,36.08,23.32,45.32,34.6,26.03,18.715,31.6,17.29,23.655,35.2,27.93,21.565,38.38,23.0,37.07,30.495,28.88,27.265,28.025,23.085,30.685,25.8,35.245,24.7,25.08,52.58,22.515,30.9,36.955,26.41,29.83,29.8,21.47,27.645,28.9,31.79,39.49,33.82,32.01,27.94,41.14,28.595,25.6,25.3,37.29,42.655,21.66,31.9,37.07,31.445,31.255,28.88,18.335,29.59,32.0,26.03,31.68,33.66,21.78,27.835,19.95,31.5,30.495,18.3,28.975,31.54,47.74,22.1,36.19,29.83,32.7,30.4,33.7,31.35,34.96,33.77,30.875,33.99,19.095,28.6,38.94,36.08,29.8,31.24,29.925,26.22,30.0,20.35,32.3,38.39,25.85,26.315,24.51,32.67,29.64,33.33,35.75,19.95,31.4,38.17,36.86,32.395,42.75,25.08,29.9,35.86,32.8,18.6,23.87,45.9,40.28,18.335,33.82,28.12,25.0,22.23,30.25,32.49,37.07,32.6,24.86,32.34,32.3,32.775,32.8,31.92,21.5,34.1,30.305,36.48,32.56,35.815,27.93,22.135,44.88,23.18,30.59,41.1,34.58,42.13,38.83,28.215,28.31,26.125,40.37,24.6,35.2,34.105,27.36,26.7,41.91,29.26,32.11,27.1,24.13,27.4,34.865,29.81,41.325,29.925,30.3,27.36,28.49,23.56,35.625,32.68,25.27,28.0,32.775,21.755,32.395,36.575,21.755,27.93,30.02,33.55,29.355,25.8,24.32,40.375,32.11,32.3,27.28,17.86,34.8,33.4,25.555,37.1,30.875,34.1,21.47,33.3,31.255,39.14,25.08,37.29,34.6,30.21,21.945,24.97,25.3,24.42,23.94,39.82,16.815,37.18,34.43,30.305,34.485,21.8,24.605,23.3,27.83,31.065,21.66,28.215,22.705,42.13,41.8,36.96,21.28,33.11,33.33,24.3,25.7,29.4,39.82,33.63,29.83,19.8,27.3,29.3,27.72,37.9,36.385,27.645,37.715,23.18,20.52,37.1,28.05,29.9,33.345,23.76,30.5,31.065,33.3,27.5,33.915,34.485,25.52,27.61,27.06,23.7,30.4,29.735,29.925,26.79,33.33,27.645,21.66,30.03,36.3,24.32,17.29,25.9,39.4,34.32,19.95,34.9,23.21,25.745,25.175,22.0,26.125,26.51,27.455,25.745,30.36,30.875,20.8,27.8,24.605,27.72,21.85,28.12,30.2,32.2,26.315,26.695,42.9,34.7,23.655,28.31,20.6,53.13,39.71,26.315,31.065,26.695,38.83,40.37,25.935,33.535,32.87,30.03,24.225,38.6,25.74,33.4,44.7,30.97,31.92,36.85,25.8,29.07],\"xaxis\":\"x2\",\"yaxis\":\"y2\",\"type\":\"box\"}],                        {\"template\":{\"data\":{\"histogram2dcontour\":[{\"type\":\"histogram2dcontour\",\"colorbar\":{\"outlinewidth\":0,\"ticks\":\"\"},\"colorscale\":[[0.0,\"#0d0887\"],[0.1111111111111111,\"#46039f\"],[0.2222222222222222,\"#7201a8\"],[0.3333333333333333,\"#9c179e\"],[0.4444444444444444,\"#bd3786\"],[0.5555555555555556,\"#d8576b\"],[0.6666666666666666,\"#ed7953\"],[0.7777777777777778,\"#fb9f3a\"],[0.8888888888888888,\"#fdca26\"],[1.0,\"#f0f921\"]]}],\"choropleth\":[{\"type\":\"choropleth\",\"colorbar\":{\"outlinewidth\":0,\"ticks\":\"\"}}],\"histogram2d\":[{\"type\":\"histogram2d\",\"colorbar\":{\"outlinewidth\":0,\"ticks\":\"\"},\"colorscale\":[[0.0,\"#0d0887\"],[0.1111111111111111,\"#46039f\"],[0.2222222222222222,\"#7201a8\"],[0.3333333333333333,\"#9c179e\"],[0.4444444444444444,\"#bd3786\"],[0.5555555555555556,\"#d8576b\"],[0.6666666666666666,\"#ed7953\"],[0.7777777777777778,\"#fb9f3a\"],[0.8888888888888888,\"#fdca26\"],[1.0,\"#f0f921\"]]}],\"heatmap\":[{\"type\":\"heatmap\",\"colorbar\":{\"outlinewidth\":0,\"ticks\":\"\"},\"colorscale\":[[0.0,\"#0d0887\"],[0.1111111111111111,\"#46039f\"],[0.2222222222222222,\"#7201a8\"],[0.3333333333333333,\"#9c179e\"],[0.4444444444444444,\"#bd3786\"],[0.5555555555555556,\"#d8576b\"],[0.6666666666666666,\"#ed7953\"],[0.7777777777777778,\"#fb9f3a\"],[0.8888888888888888,\"#fdca26\"],[1.0,\"#f0f921\"]]}],\"heatmapgl\":[{\"type\":\"heatmapgl\",\"colorbar\":{\"outlinewidth\":0,\"ticks\":\"\"},\"colorscale\":[[0.0,\"#0d0887\"],[0.1111111111111111,\"#46039f\"],[0.2222222222222222,\"#7201a8\"],[0.3333333333333333,\"#9c179e\"],[0.4444444444444444,\"#bd3786\"],[0.5555555555555556,\"#d8576b\"],[0.6666666666666666,\"#ed7953\"],[0.7777777777777778,\"#fb9f3a\"],[0.8888888888888888,\"#fdca26\"],[1.0,\"#f0f921\"]]}],\"contourcarpet\":[{\"type\":\"contourcarpet\",\"colorbar\":{\"outlinewidth\":0,\"ticks\":\"\"}}],\"contour\":[{\"type\":\"contour\",\"colorbar\":{\"outlinewidth\":0,\"ticks\":\"\"},\"colorscale\":[[0.0,\"#0d0887\"],[0.1111111111111111,\"#46039f\"],[0.2222222222222222,\"#7201a8\"],[0.3333333333333333,\"#9c179e\"],[0.4444444444444444,\"#bd3786\"],[0.5555555555555556,\"#d8576b\"],[0.6666666666666666,\"#ed7953\"],[0.7777777777777778,\"#fb9f3a\"],[0.8888888888888888,\"#fdca26\"],[1.0,\"#f0f921\"]]}],\"surface\":[{\"type\":\"surface\",\"colorbar\":{\"outlinewidth\":0,\"ticks\":\"\"},\"colorscale\":[[0.0,\"#0d0887\"],[0.1111111111111111,\"#46039f\"],[0.2222222222222222,\"#7201a8\"],[0.3333333333333333,\"#9c179e\"],[0.4444444444444444,\"#bd3786\"],[0.5555555555555556,\"#d8576b\"],[0.6666666666666666,\"#ed7953\"],[0.7777777777777778,\"#fb9f3a\"],[0.8888888888888888,\"#fdca26\"],[1.0,\"#f0f921\"]]}],\"mesh3d\":[{\"type\":\"mesh3d\",\"colorbar\":{\"outlinewidth\":0,\"ticks\":\"\"}}],\"scatter\":[{\"fillpattern\":{\"fillmode\":\"overlay\",\"size\":10,\"solidity\":0.2},\"type\":\"scatter\"}],\"parcoords\":[{\"type\":\"parcoords\",\"line\":{\"colorbar\":{\"outlinewidth\":0,\"ticks\":\"\"}}}],\"scatterpolargl\":[{\"type\":\"scatterpolargl\",\"marker\":{\"colorbar\":{\"outlinewidth\":0,\"ticks\":\"\"}}}],\"bar\":[{\"error_x\":{\"color\":\"#2a3f5f\"},\"error_y\":{\"color\":\"#2a3f5f\"},\"marker\":{\"line\":{\"color\":\"#E5ECF6\",\"width\":0.5},\"pattern\":{\"fillmode\":\"overlay\",\"size\":10,\"solidity\":0.2}},\"type\":\"bar\"}],\"scattergeo\":[{\"type\":\"scattergeo\",\"marker\":{\"colorbar\":{\"outlinewidth\":0,\"ticks\":\"\"}}}],\"scatterpolar\":[{\"type\":\"scatterpolar\",\"marker\":{\"colorbar\":{\"outlinewidth\":0,\"ticks\":\"\"}}}],\"histogram\":[{\"marker\":{\"pattern\":{\"fillmode\":\"overlay\",\"size\":10,\"solidity\":0.2}},\"type\":\"histogram\"}],\"scattergl\":[{\"type\":\"scattergl\",\"marker\":{\"colorbar\":{\"outlinewidth\":0,\"ticks\":\"\"}}}],\"scatter3d\":[{\"type\":\"scatter3d\",\"line\":{\"colorbar\":{\"outlinewidth\":0,\"ticks\":\"\"}},\"marker\":{\"colorbar\":{\"outlinewidth\":0,\"ticks\":\"\"}}}],\"scattermapbox\":[{\"type\":\"scattermapbox\",\"marker\":{\"colorbar\":{\"outlinewidth\":0,\"ticks\":\"\"}}}],\"scatterternary\":[{\"type\":\"scatterternary\",\"marker\":{\"colorbar\":{\"outlinewidth\":0,\"ticks\":\"\"}}}],\"scattercarpet\":[{\"type\":\"scattercarpet\",\"marker\":{\"colorbar\":{\"outlinewidth\":0,\"ticks\":\"\"}}}],\"carpet\":[{\"aaxis\":{\"endlinecolor\":\"#2a3f5f\",\"gridcolor\":\"white\",\"linecolor\":\"white\",\"minorgridcolor\":\"white\",\"startlinecolor\":\"#2a3f5f\"},\"baxis\":{\"endlinecolor\":\"#2a3f5f\",\"gridcolor\":\"white\",\"linecolor\":\"white\",\"minorgridcolor\":\"white\",\"startlinecolor\":\"#2a3f5f\"},\"type\":\"carpet\"}],\"table\":[{\"cells\":{\"fill\":{\"color\":\"#EBF0F8\"},\"line\":{\"color\":\"white\"}},\"header\":{\"fill\":{\"color\":\"#C8D4E3\"},\"line\":{\"color\":\"white\"}},\"type\":\"table\"}],\"barpolar\":[{\"marker\":{\"line\":{\"color\":\"#E5ECF6\",\"width\":0.5},\"pattern\":{\"fillmode\":\"overlay\",\"size\":10,\"solidity\":0.2}},\"type\":\"barpolar\"}],\"pie\":[{\"automargin\":true,\"type\":\"pie\"}]},\"layout\":{\"autotypenumbers\":\"strict\",\"colorway\":[\"#636efa\",\"#EF553B\",\"#00cc96\",\"#ab63fa\",\"#FFA15A\",\"#19d3f3\",\"#FF6692\",\"#B6E880\",\"#FF97FF\",\"#FECB52\"],\"font\":{\"color\":\"#2a3f5f\"},\"hovermode\":\"closest\",\"hoverlabel\":{\"align\":\"left\"},\"paper_bgcolor\":\"white\",\"plot_bgcolor\":\"#E5ECF6\",\"polar\":{\"bgcolor\":\"#E5ECF6\",\"angularaxis\":{\"gridcolor\":\"white\",\"linecolor\":\"white\",\"ticks\":\"\"},\"radialaxis\":{\"gridcolor\":\"white\",\"linecolor\":\"white\",\"ticks\":\"\"}},\"ternary\":{\"bgcolor\":\"#E5ECF6\",\"aaxis\":{\"gridcolor\":\"white\",\"linecolor\":\"white\",\"ticks\":\"\"},\"baxis\":{\"gridcolor\":\"white\",\"linecolor\":\"white\",\"ticks\":\"\"},\"caxis\":{\"gridcolor\":\"white\",\"linecolor\":\"white\",\"ticks\":\"\"}},\"coloraxis\":{\"colorbar\":{\"outlinewidth\":0,\"ticks\":\"\"}},\"colorscale\":{\"sequential\":[[0.0,\"#0d0887\"],[0.1111111111111111,\"#46039f\"],[0.2222222222222222,\"#7201a8\"],[0.3333333333333333,\"#9c179e\"],[0.4444444444444444,\"#bd3786\"],[0.5555555555555556,\"#d8576b\"],[0.6666666666666666,\"#ed7953\"],[0.7777777777777778,\"#fb9f3a\"],[0.8888888888888888,\"#fdca26\"],[1.0,\"#f0f921\"]],\"sequentialminus\":[[0.0,\"#0d0887\"],[0.1111111111111111,\"#46039f\"],[0.2222222222222222,\"#7201a8\"],[0.3333333333333333,\"#9c179e\"],[0.4444444444444444,\"#bd3786\"],[0.5555555555555556,\"#d8576b\"],[0.6666666666666666,\"#ed7953\"],[0.7777777777777778,\"#fb9f3a\"],[0.8888888888888888,\"#fdca26\"],[1.0,\"#f0f921\"]],\"diverging\":[[0,\"#8e0152\"],[0.1,\"#c51b7d\"],[0.2,\"#de77ae\"],[0.3,\"#f1b6da\"],[0.4,\"#fde0ef\"],[0.5,\"#f7f7f7\"],[0.6,\"#e6f5d0\"],[0.7,\"#b8e186\"],[0.8,\"#7fbc41\"],[0.9,\"#4d9221\"],[1,\"#276419\"]]},\"xaxis\":{\"gridcolor\":\"white\",\"linecolor\":\"white\",\"ticks\":\"\",\"title\":{\"standoff\":15},\"zerolinecolor\":\"white\",\"automargin\":true,\"zerolinewidth\":2},\"yaxis\":{\"gridcolor\":\"white\",\"linecolor\":\"white\",\"ticks\":\"\",\"title\":{\"standoff\":15},\"zerolinecolor\":\"white\",\"automargin\":true,\"zerolinewidth\":2},\"scene\":{\"xaxis\":{\"backgroundcolor\":\"#E5ECF6\",\"gridcolor\":\"white\",\"linecolor\":\"white\",\"showbackground\":true,\"ticks\":\"\",\"zerolinecolor\":\"white\",\"gridwidth\":2},\"yaxis\":{\"backgroundcolor\":\"#E5ECF6\",\"gridcolor\":\"white\",\"linecolor\":\"white\",\"showbackground\":true,\"ticks\":\"\",\"zerolinecolor\":\"white\",\"gridwidth\":2},\"zaxis\":{\"backgroundcolor\":\"#E5ECF6\",\"gridcolor\":\"white\",\"linecolor\":\"white\",\"showbackground\":true,\"ticks\":\"\",\"zerolinecolor\":\"white\",\"gridwidth\":2}},\"shapedefaults\":{\"line\":{\"color\":\"#2a3f5f\"}},\"annotationdefaults\":{\"arrowcolor\":\"#2a3f5f\",\"arrowhead\":0,\"arrowwidth\":1},\"geo\":{\"bgcolor\":\"white\",\"landcolor\":\"#E5ECF6\",\"subunitcolor\":\"white\",\"showland\":true,\"showlakes\":true,\"lakecolor\":\"white\"},\"title\":{\"x\":0.05},\"mapbox\":{\"style\":\"light\"}}},\"xaxis\":{\"anchor\":\"y\",\"domain\":[0.0,1.0],\"title\":{\"text\":\"bmi\"}},\"yaxis\":{\"anchor\":\"x\",\"domain\":[0.0,0.8316],\"title\":{\"text\":\"count\"}},\"xaxis2\":{\"anchor\":\"y2\",\"domain\":[0.0,1.0],\"matches\":\"x\",\"showticklabels\":false,\"showgrid\":true},\"yaxis2\":{\"anchor\":\"x2\",\"domain\":[0.8416,1.0],\"matches\":\"y2\",\"showticklabels\":false,\"showline\":false,\"ticks\":\"\",\"showgrid\":false},\"legend\":{\"tracegroupgap\":0},\"title\":{\"text\":\"Distribution of BMI (Body Mass Index)\"},\"barmode\":\"relative\",\"bargap\":0.1},                        {\"responsive\": true}                    ).then(function(){\n",
              "                            \n",
              "var gd = document.getElementById('b6558a73-d46c-4db6-9932-084435fa5f7f');\n",
              "var x = new MutationObserver(function (mutations, observer) {{\n",
              "        var display = window.getComputedStyle(gd).display;\n",
              "        if (!display || display === 'none') {{\n",
              "            console.log([gd, 'removed!']);\n",
              "            Plotly.purge(gd);\n",
              "            observer.disconnect();\n",
              "        }}\n",
              "}});\n",
              "\n",
              "// Listen for the removal of the full notebook cells\n",
              "var notebookContainer = gd.closest('#notebook-container');\n",
              "if (notebookContainer) {{\n",
              "    x.observe(notebookContainer, {childList: true});\n",
              "}}\n",
              "\n",
              "// Listen for the clearing of the current output cell\n",
              "var outputEl = gd.closest('.output');\n",
              "if (outputEl) {{\n",
              "    x.observe(outputEl, {childList: true});\n",
              "}}\n",
              "\n",
              "                        })                };                            </script>        </div>\n",
              "</body>\n",
              "</html>"
            ]
          },
          "metadata": {}
        }
      ],
      "source": [
        "fig = px.histogram(medical_df,\n",
        "                   x='bmi',\n",
        "                   marginal='box',\n",
        "                   color_discrete_sequence=['red'],\n",
        "                   title='Distribution of BMI (Body Mass Index)')\n",
        "fig.update_layout(bargap=0.1)\n",
        "fig.show()"
      ]
    },
    {
      "cell_type": "markdown",
      "id": "028fe64f",
      "metadata": {
        "id": "028fe64f"
      },
      "source": [
        "The measurements of body mass index seem to form a [Gaussian distribution](https://en.wikipedia.org/wiki/Normal_distribution) centered around the value 30, with a few outliers towards the right. Here's how BMI values can be interpreted ([source](https://study.com/academy/lesson/what-is-bmi-definition-formula-calculation.html)):\n",
        "\n",
        "![](https://i.imgur.com/lh23OiY.jpg)\n",
        "\n",
        "> **EXERCISE**: Can you explain why the distribution of ages forms a uniform distribution while the distribution of BMIs forms a gaussian distribution?\n",
        ">\n",
        "> ???"
      ]
    },
    {
      "cell_type": "markdown",
      "id": "a6a6b297",
      "metadata": {
        "id": "a6a6b297"
      },
      "source": [
        "### Charges\n",
        "\n",
        "Let's visualize the distribution of \"charges\" i.e. the annual medical charges for customers. This is the column we're trying to predict. Let's also use the categorical column \"smoker\" to distinguish the charges for smokers and non-smokers."
      ]
    },
    {
      "cell_type": "code",
      "execution_count": 25,
      "id": "56afc784",
      "metadata": {
        "colab": {
          "base_uri": "https://localhost:8080/",
          "height": 542
        },
        "id": "56afc784",
        "outputId": "f5ae7710-5932-47cf-8a78-a26ba4cd5068"
      },
      "outputs": [
        {
          "output_type": "display_data",
          "data": {
            "text/html": [
              "<html>\n",
              "<head><meta charset=\"utf-8\" /></head>\n",
              "<body>\n",
              "    <div>            <script src=\"https://cdnjs.cloudflare.com/ajax/libs/mathjax/2.7.5/MathJax.js?config=TeX-AMS-MML_SVG\"></script><script type=\"text/javascript\">if (window.MathJax && window.MathJax.Hub && window.MathJax.Hub.Config) {window.MathJax.Hub.Config({SVG: {font: \"STIX-Web\"}});}</script>                <script type=\"text/javascript\">window.PlotlyConfig = {MathJaxConfig: 'local'};</script>\n",
              "        <script charset=\"utf-8\" src=\"https://cdn.plot.ly/plotly-2.24.1.min.js\"></script>                <div id=\"ffbcc446-9d9d-4eed-9d97-6433e5a3105d\" class=\"plotly-graph-div\" style=\"height:525px; width:100%;\"></div>            <script type=\"text/javascript\">                                    window.PLOTLYENV=window.PLOTLYENV || {};                                    if (document.getElementById(\"ffbcc446-9d9d-4eed-9d97-6433e5a3105d\")) {                    Plotly.newPlot(                        \"ffbcc446-9d9d-4eed-9d97-6433e5a3105d\",                        [{\"alignmentgroup\":\"True\",\"bingroup\":\"x\",\"hovertemplate\":\"smoker=yes\\u003cbr\\u003echarges=%{x}\\u003cbr\\u003ecount=%{y}\\u003cextra\\u003e\\u003c\\u002fextra\\u003e\",\"legendgroup\":\"yes\",\"marker\":{\"color\":\"grey\",\"pattern\":{\"shape\":\"\"}},\"name\":\"yes\",\"offsetgroup\":\"yes\",\"orientation\":\"v\",\"showlegend\":true,\"x\":[16884.924,27808.7251,39611.7577,36837.467,37701.8768,38711.0,35585.576,51194.55914,39774.2763,48173.361,38709.176,23568.272,37742.5757,47496.49445,34303.1672,23244.7902,14711.7438,17663.1442,16577.7795,37165.1638,39836.519,21098.55405,43578.9394,30184.9367,47291.055,22412.6485,15820.699,30942.1918,17560.37975,47055.5321,19107.7796,39556.4945,17081.08,32734.1863,18972.495,20745.9891,40720.55105,19964.7463,21223.6758,15518.18025,36950.2567,21348.706,36149.4835,48824.45,43753.33705,37133.8982,20984.0936,34779.615,19515.5416,19444.2658,17352.6803,38511.6283,29523.1656,12829.4551,47305.305,44260.7499,41097.16175,43921.1837,33750.2918,17085.2676,24869.8368,36219.40545,46151.1245,17179.522,42856.838,22331.5668,48549.17835,47896.79135,42112.2356,16297.846,21978.6769,38746.3551,24873.3849,42124.5153,34838.873,35491.64,42760.5022,47928.03,48517.56315,24393.6224,41919.097,13844.506,36085.219,18033.9679,21659.9301,38126.2465,15006.57945,42303.69215,19594.80965,14455.64405,18608.262,28950.4692,46889.2612,46599.1084,39125.33225,37079.372,26109.32905,22144.032,19521.9682,25382.297,28868.6639,35147.52848,48885.13561,17942.106,36197.699,22218.1149,32548.3405,21082.16,38245.59327,48675.5177,63770.42801,23807.2406,45863.205,39983.42595,45702.02235,58571.07448,43943.8761,15359.1045,17468.9839,25678.77845,39241.442,42969.8527,23306.547,34439.8559,40182.246,34617.84065,42983.4585,20149.3229,32787.45859,24667.419,27037.9141,42560.4304,40003.33225,45710.20785,46200.9851,46130.5265,40103.89,34806.4677,40273.6455,44400.4064,40932.4295,16657.71745,19361.9988,40419.0191,36189.1017,44585.45587,18246.4955,43254.41795,19539.243,23065.4207,36307.7983,19040.876,17748.5062,18259.216,24520.264,21195.818,18310.742,17904.52705,38792.6856,23401.30575,55135.40209,43813.8661,20773.62775,39597.4072,36021.0112,27533.9129,45008.9555,37270.1512,42111.6647,24106.91255,40974.1649,15817.9857,46113.511,46255.1125,19719.6947,27218.43725,29330.98315,44202.6536,19798.05455,48673.5588,17496.306,33732.6867,21774.32215,35069.37452,39047.285,19933.458,47462.894,38998.546,20009.63365,41999.52,41034.2214,23967.38305,16138.76205,19199.944,14571.8908,16420.49455,17361.7661,34472.841,24915.22085,18767.7377,35595.5898,42211.1382,16450.8947,21677.28345,44423.803,13747.87235,37484.4493,39725.51805,20234.85475,33475.81715,21880.82,44501.3982,39727.614,25309.489,48970.2476,39871.7043,34672.1472,19023.26,41676.0811,33907.548,44641.1974,16776.30405,41949.2441,24180.9335,36124.5737,38282.7495,34166.273,46661.4424,40904.1995,36898.73308,52590.82939,40941.2854,39722.7462,17178.6824,22478.6,23887.6627,19350.3689,18328.2381,37465.34375,21771.3423,33307.5508,18223.4512,38415.474,20296.86345,41661.602,26125.67477,60021.39897,20167.33603,47269.854,49577.6624,37607.5277,18648.4217,16232.847,26926.5144,34254.05335,17043.3414,22462.04375,24535.69855,14283.4594,47403.88,38344.566,34828.654,62592.87309,46718.16325,37829.7242,21259.37795,16115.3045,21472.4788,33900.653,36397.576,18765.87545,28101.33305,43896.3763,29141.3603],\"xaxis\":\"x\",\"yaxis\":\"y\",\"type\":\"histogram\"},{\"alignmentgroup\":\"True\",\"hovertemplate\":\"smoker=yes\\u003cbr\\u003echarges=%{x}\\u003cextra\\u003e\\u003c\\u002fextra\\u003e\",\"legendgroup\":\"yes\",\"marker\":{\"color\":\"grey\"},\"name\":\"yes\",\"notched\":true,\"offsetgroup\":\"yes\",\"showlegend\":false,\"x\":[16884.924,27808.7251,39611.7577,36837.467,37701.8768,38711.0,35585.576,51194.55914,39774.2763,48173.361,38709.176,23568.272,37742.5757,47496.49445,34303.1672,23244.7902,14711.7438,17663.1442,16577.7795,37165.1638,39836.519,21098.55405,43578.9394,30184.9367,47291.055,22412.6485,15820.699,30942.1918,17560.37975,47055.5321,19107.7796,39556.4945,17081.08,32734.1863,18972.495,20745.9891,40720.55105,19964.7463,21223.6758,15518.18025,36950.2567,21348.706,36149.4835,48824.45,43753.33705,37133.8982,20984.0936,34779.615,19515.5416,19444.2658,17352.6803,38511.6283,29523.1656,12829.4551,47305.305,44260.7499,41097.16175,43921.1837,33750.2918,17085.2676,24869.8368,36219.40545,46151.1245,17179.522,42856.838,22331.5668,48549.17835,47896.79135,42112.2356,16297.846,21978.6769,38746.3551,24873.3849,42124.5153,34838.873,35491.64,42760.5022,47928.03,48517.56315,24393.6224,41919.097,13844.506,36085.219,18033.9679,21659.9301,38126.2465,15006.57945,42303.69215,19594.80965,14455.64405,18608.262,28950.4692,46889.2612,46599.1084,39125.33225,37079.372,26109.32905,22144.032,19521.9682,25382.297,28868.6639,35147.52848,48885.13561,17942.106,36197.699,22218.1149,32548.3405,21082.16,38245.59327,48675.5177,63770.42801,23807.2406,45863.205,39983.42595,45702.02235,58571.07448,43943.8761,15359.1045,17468.9839,25678.77845,39241.442,42969.8527,23306.547,34439.8559,40182.246,34617.84065,42983.4585,20149.3229,32787.45859,24667.419,27037.9141,42560.4304,40003.33225,45710.20785,46200.9851,46130.5265,40103.89,34806.4677,40273.6455,44400.4064,40932.4295,16657.71745,19361.9988,40419.0191,36189.1017,44585.45587,18246.4955,43254.41795,19539.243,23065.4207,36307.7983,19040.876,17748.5062,18259.216,24520.264,21195.818,18310.742,17904.52705,38792.6856,23401.30575,55135.40209,43813.8661,20773.62775,39597.4072,36021.0112,27533.9129,45008.9555,37270.1512,42111.6647,24106.91255,40974.1649,15817.9857,46113.511,46255.1125,19719.6947,27218.43725,29330.98315,44202.6536,19798.05455,48673.5588,17496.306,33732.6867,21774.32215,35069.37452,39047.285,19933.458,47462.894,38998.546,20009.63365,41999.52,41034.2214,23967.38305,16138.76205,19199.944,14571.8908,16420.49455,17361.7661,34472.841,24915.22085,18767.7377,35595.5898,42211.1382,16450.8947,21677.28345,44423.803,13747.87235,37484.4493,39725.51805,20234.85475,33475.81715,21880.82,44501.3982,39727.614,25309.489,48970.2476,39871.7043,34672.1472,19023.26,41676.0811,33907.548,44641.1974,16776.30405,41949.2441,24180.9335,36124.5737,38282.7495,34166.273,46661.4424,40904.1995,36898.73308,52590.82939,40941.2854,39722.7462,17178.6824,22478.6,23887.6627,19350.3689,18328.2381,37465.34375,21771.3423,33307.5508,18223.4512,38415.474,20296.86345,41661.602,26125.67477,60021.39897,20167.33603,47269.854,49577.6624,37607.5277,18648.4217,16232.847,26926.5144,34254.05335,17043.3414,22462.04375,24535.69855,14283.4594,47403.88,38344.566,34828.654,62592.87309,46718.16325,37829.7242,21259.37795,16115.3045,21472.4788,33900.653,36397.576,18765.87545,28101.33305,43896.3763,29141.3603],\"xaxis\":\"x2\",\"yaxis\":\"y2\",\"type\":\"box\"},{\"alignmentgroup\":\"True\",\"bingroup\":\"x\",\"hovertemplate\":\"smoker=no\\u003cbr\\u003echarges=%{x}\\u003cbr\\u003ecount=%{y}\\u003cextra\\u003e\\u003c\\u002fextra\\u003e\",\"legendgroup\":\"no\",\"marker\":{\"color\":\"green\",\"pattern\":{\"shape\":\"\"}},\"name\":\"no\",\"offsetgroup\":\"no\",\"orientation\":\"v\",\"showlegend\":true,\"x\":[1725.5523,4449.462,21984.47061,3866.8552,3756.6216,8240.5896,7281.5056,6406.4107,28923.13692,2721.3208,1826.843,11090.7178,1837.237,10797.3362,2395.17155,10602.385,13228.84695,4149.736,1137.011,6203.90175,14001.1338,14451.83515,12268.63225,2775.19215,2198.18985,4687.797,13770.0979,1625.43375,15612.19335,2302.3,3046.062,4949.7587,6272.4772,6313.759,6079.6715,20630.28351,3393.35635,3556.9223,12629.8967,2211.13075,3579.8287,8059.6791,13607.36875,5989.52365,8606.2174,4504.6624,30166.61817,4133.64165,1743.214,14235.072,6389.37785,5920.1041,6799.458,11741.726,11946.6259,7726.854,11356.6609,3947.4131,1532.4697,2755.02095,6571.02435,4441.21315,7935.29115,11033.6617,11073.176,8026.6666,11082.5772,2026.9741,10942.13205,5729.0053,3766.8838,12105.32,10226.2842,6186.127,3645.0894,21344.8467,5003.853,2331.519,3877.30425,2867.1196,10825.2537,11881.358,4646.759,2404.7338,11488.31695,30259.99556,11381.3254,8601.3293,6686.4313,7740.337,1705.6245,2257.47525,10115.00885,3385.39915,9634.538,6082.405,12815.44495,13616.3586,11163.568,1632.56445,2457.21115,2155.6815,1261.442,2045.68525,27322.73386,2166.732,27375.90478,3490.5491,18157.876,5138.2567,9877.6077,10959.6947,1842.519,5125.2157,7789.635,6334.34355,7077.1894,6948.7008,19749.38338,10450.552,5152.134,5028.1466,10407.08585,4830.63,6128.79745,2719.27975,4827.90495,13405.3903,8116.68,1694.7964,5246.047,2855.43755,6455.86265,10436.096,8823.279,8538.28845,11735.87905,1631.8212,4005.4225,7419.4779,7731.4271,3981.9768,5325.651,6775.961,4922.9159,12557.6053,4883.866,2137.6536,12044.342,1137.4697,1639.5631,5649.715,8516.829,9644.2525,14901.5167,2130.6759,8871.1517,13012.20865,7147.105,4337.7352,11743.299,13880.949,6610.1097,1980.07,8162.71625,3537.703,5002.7827,8520.026,7371.772,10355.641,2483.736,3392.9768,25081.76784,5012.471,10564.8845,5253.524,11987.1682,2689.4954,24227.33724,7358.17565,9225.2564,7443.64305,14001.2867,1727.785,12333.828,6710.1919,1615.7667,4463.2051,7152.6714,5354.07465,35160.13457,7196.867,24476.47851,12648.7034,1986.9334,1832.094,4040.55825,4260.744,13047.33235,5400.9805,11520.09985,11837.16,20462.99766,14590.63205,7441.053,9282.4806,1719.4363,7265.7025,9617.66245,2523.1695,9715.841,2803.69785,2150.469,12928.7911,9855.1314,4237.12655,11879.10405,9625.92,7742.1098,9432.9253,14256.1928,25992.82104,3172.018,20277.80751,2156.7518,3906.127,1704.5681,9249.4952,6746.7425,12265.5069,4349.462,12646.207,19442.3535,20177.67113,4151.0287,11944.59435,7749.1564,8444.474,1737.376,8124.4084,9722.7695,8835.26495,10435.06525,7421.19455,4667.60765,4894.7533,24671.66334,11566.30055,2866.091,6600.20595,3561.8889,9144.565,13429.0354,11658.37915,19144.57652,13822.803,12142.5786,13937.6665,8232.6388,18955.22017,13352.0998,13217.0945,13981.85035,10977.2063,6184.2994,4889.9995,8334.45755,5478.0368,1635.73365,11830.6072,8932.084,3554.203,12404.8791,14133.03775,24603.04837,8944.1151,9620.3307,1837.2819,1607.5101,10043.249,4751.07,2597.779,3180.5101,9778.3472,13430.265,8017.06115,8116.26885,3481.868,13415.0381,12029.2867,7639.41745,1391.5287,16455.70785,27000.98473,20781.48892,5846.9176,8302.53565,1261.859,11856.4115,30284.64294,3176.8159,4618.0799,10736.87075,2138.0707,8964.06055,9290.1395,9411.005,7526.70645,8522.003,16586.49771,14988.432,1631.6683,9264.797,8083.9198,14692.66935,10269.46,3260.199,11396.9002,4185.0979,8539.671,6652.5288,4074.4537,1621.3402,5080.096,2134.9015,7345.7266,9140.951,14418.2804,2727.3951,8968.33,9788.8659,6555.07035,7323.734819,3167.45585,18804.7524,23082.95533,4906.40965,5969.723,12638.195,4243.59005,13919.8229,2254.7967,5926.846,12592.5345,2897.3235,4738.2682,1149.3959,28287.89766,7345.084,12730.9996,11454.0215,5910.944,4762.329,7512.267,4032.2407,1969.614,1769.53165,4686.3887,21797.0004,11881.9696,11840.77505,10601.412,7682.67,10381.4787,15230.32405,11165.41765,1632.03625,13224.693,12643.3778,23288.9284,2201.0971,2497.0383,2203.47185,1744.465,20878.78443,2534.39375,1534.3045,1824.2854,15555.18875,9304.7019,1622.1885,9880.068,9563.029,4347.02335,12475.3513,1253.936,10461.9794,1748.774,24513.09126,2196.4732,12574.049,1967.0227,4931.647,8027.968,8211.1002,13470.86,6837.3687,5974.3847,6796.86325,2643.2685,3077.0955,3044.2133,11455.28,11763.0009,2498.4144,9361.3268,1256.299,11362.755,27724.28875,8413.46305,5240.765,3857.75925,25656.57526,3994.1778,9866.30485,5397.6167,11482.63485,24059.68019,9861.025,8342.90875,1708.0014,14043.4767,12925.886,19214.70553,13831.1152,6067.12675,5972.378,8825.086,8233.0975,27346.04207,6196.448,3056.3881,13887.204,10231.4999,3268.84665,11538.421,3213.62205,13390.559,3972.9247,12957.118,11187.6567,17878.90068,3847.674,8334.5896,3935.1799,1646.4297,9193.8385,10923.9332,2494.022,9058.7303,2801.2588,2128.43105,6373.55735,7256.7231,11552.904,3761.292,2219.4451,4753.6368,31620.00106,13224.05705,12222.8983,1664.9996,9724.53,3206.49135,12913.9924,1639.5631,6356.2707,17626.23951,1242.816,4779.6023,3861.20965,13635.6379,5976.8311,11842.442,8428.0693,2566.4707,5709.1644,8823.98575,7640.3092,5594.8455,7441.501,33471.97189,1633.0444,9174.13565,11070.535,16085.1275,9283.562,3558.62025,4435.0942,8547.6913,6571.544,2207.69745,6753.038,1880.07,11658.11505,10713.644,3659.346,9182.17,12129.61415,3736.4647,6748.5912,11326.71487,11365.952,10085.846,1977.815,3366.6697,7173.35995,9391.346,14410.9321,2709.1119,24915.04626,12949.1554,6666.243,13143.86485,4466.6214,18806.14547,10141.1362,6123.5688,8252.2843,1712.227,12430.95335,9800.8882,10579.711,8280.6227,8527.532,12244.531,3410.324,4058.71245,26392.26029,14394.39815,6435.6237,22192.43711,5148.5526,1136.3994,8703.456,6500.2359,4837.5823,3943.5954,4399.731,6185.3208,7222.78625,12485.8009,12363.547,10156.7832,2585.269,1242.26,9863.4718,4766.022,11244.3769,7729.64575,5438.7491,26236.57997,2104.1134,8068.185,2362.22905,2352.96845,3577.999,3201.24515,29186.48236,10976.24575,3500.6123,2020.5523,9541.69555,9504.3103,5385.3379,8930.93455,5375.038,10264.4421,6113.23105,5469.0066,1727.54,10107.2206,8310.83915,1984.4533,2457.502,12146.971,9566.9909,13112.6048,10848.1343,12231.6136,9875.6804,11264.541,12979.358,1263.249,10106.13425,6664.68595,2217.6012,6781.3542,10065.413,4234.927,9447.25035,14007.222,9583.8933,3484.331,8604.48365,3757.8448,8827.2099,9910.35985,11737.84884,1627.28245,8556.907,3062.50825,1906.35825,14210.53595,11833.7823,17128.42608,5031.26955,7985.815,5428.7277,3925.7582,2416.955,3070.8087,9095.06825,11842.62375,8062.764,7050.642,14319.031,6933.24225,27941.28758,11150.78,12797.20962,7261.741,10560.4917,6986.697,7448.40395,5934.3798,9869.8102,1146.7966,9386.1613,4350.5144,6414.178,12741.16745,1917.3184,5209.57885,13457.9608,5662.225,1252.407,2731.9122,7209.4918,4266.1658,4719.52405,11848.141,7046.7222,14313.8463,2103.08,1815.8759,7731.85785,28476.73499,2136.88225,1131.5066,3309.7926,9414.92,6360.9936,11013.7119,4428.88785,5584.3057,1877.9294,2842.76075,3597.596,7445.918,2680.9493,1621.8827,8219.2039,12523.6048,16069.08475,6117.4945,13393.756,5266.3656,4719.73655,11743.9341,5377.4578,7160.3303,4402.233,11657.7189,6402.29135,12622.1795,1526.312,12323.936,10072.05505,9872.701,2438.0552,2974.126,10601.63225,14119.62,11729.6795,1875.344,18218.16139,10965.446,7151.092,12269.68865,5458.04645,8782.469,6600.361,1141.4451,11576.13,13129.60345,4391.652,8457.818,3392.3652,5966.8874,6849.026,8891.1395,2690.1138,26140.3603,6653.7886,6282.235,6311.952,3443.064,2789.0574,2585.85065,4877.98105,5272.1758,1682.597,11945.1327,7243.8136,10422.91665,13555.0049,13063.883,2221.56445,1634.5734,2117.33885,8688.85885,4661.28635,8125.7845,12644.589,4564.19145,4846.92015,7633.7206,15170.069,2639.0429,14382.70905,7626.993,5257.50795,2473.3341,13041.921,5245.2269,13451.122,13462.52,5488.262,4320.41085,6250.435,25333.33284,2913.569,12032.326,13470.8044,6289.7549,2927.0647,6238.298,10096.97,7348.142,4673.3922,12233.828,32108.66282,8965.79575,2304.0022,9487.6442,1121.8739,9549.5651,2217.46915,1628.4709,12982.8747,11674.13,7160.094,6358.77645,11534.87265,4527.18295,3875.7341,12609.88702,28468.91901,2730.10785,3353.284,14474.675,9500.57305,26467.09737,4746.344,7518.02535,3279.86855,8596.8278,10702.6424,4992.3764,2527.81865,1759.338,2322.6218,7804.1605,2902.9065,9704.66805,4889.0368,25517.11363,4500.33925,16796.41194,4915.05985,7624.63,8410.04685,28340.18885,4518.82625,3378.91,7144.86265,10118.424,5484.4673,7986.47525,7418.522,13887.9685,6551.7501,5267.81815,1972.95,21232.18226,8627.5411,4433.3877,4438.2634,23241.47453,9957.7216,8269.044,36580.28216,8765.249,5383.536,12124.9924,2709.24395,3987.926,12495.29085,26018.95052,8798.593,1711.0268,8569.8618,2020.177,21595.38229,9850.432,6877.9801,4137.5227,12950.0712,12094.478,2250.8352,22493.65964,1704.70015,3161.454,11394.06555,7325.0482,3594.17085,8023.13545,14394.5579,9288.0267,3353.4703,10594.50155,8277.523,17929.30337,2480.9791,4462.7218,1981.5819,11554.2236,6548.19505,5708.867,7045.499,8978.1851,5757.41345,14349.8544,10928.849,13974.45555,1909.52745,12096.6512,13204.28565,4562.8421,8551.347,2102.2647,15161.5344,11884.04858,4454.40265,5855.9025,4076.497,15019.76005,10796.35025,11353.2276,9748.9106,10577.087,11286.5387,3591.48,11299.343,4561.1885,1674.6323,23045.56616,3227.1211,11253.421,3471.4096,11363.2832,20420.60465,10338.9316,8988.15875,10493.9458,2904.088,8605.3615,11512.405,5312.16985,2396.0959,10807.4863,9222.4026,5693.4305,8347.1643,18903.49141,14254.6082,10214.636,5836.5204,14358.36437,1728.897,8582.3023,3693.428,20709.02034,9991.03765,19673.33573,11085.5868,7623.518,3176.2877,3704.3545,9048.0273,7954.517,27117.99378,6338.0756,9630.397,11289.10925,2261.5688,10791.96,5979.731,2203.73595,12235.8392,5630.45785,11015.1747,7228.21565,14426.07385,2459.7201,3989.841,7727.2532,5124.1887,18963.17192,2200.83085,7153.5539,5227.98875,10982.5013,4529.477,4670.64,6112.35295,11093.6229,6457.8434,4433.9159,2154.361,6496.886,2899.48935,7650.77375,2850.68375,2632.992,9447.3824,8603.8234,13844.7972,13126.67745,5327.40025,13725.47184,13019.16105,8671.19125,4134.08245,18838.70366,5699.8375,6393.60345,4934.705,6198.7518,8733.22925,2055.3249,9964.06,5116.5004,36910.60803,12347.172,5373.36425,23563.01618,1702.4553,10806.839,3956.07145,12890.05765,5415.6612,4058.1161,7537.1639,4718.20355,6593.5083,8442.667,6858.4796,4795.6568,6640.54485,7162.0122,10594.2257,11938.25595,12479.70895,11345.519,8515.7587,2699.56835,14449.8544,12224.35085,6985.50695,3238.4357,4296.2712,3171.6149,1135.9407,5615.369,9101.798,6059.173,1633.9618,1241.565,15828.82173,4415.1588,6474.013,11436.73815,11305.93455,30063.58055,10197.7722,4544.2348,3277.161,6770.1925,7337.748,10370.91255,10704.47,1880.487,8615.3,3292.52985,3021.80915,14478.33015,4747.0529,10959.33,2741.948,4357.04365,4189.1131,8283.6807,1720.3537,8534.6718,3732.6251,5472.449,7147.4728,7133.9025,1515.3449,9301.89355,11931.12525,1964.78,1708.92575,4340.4409,5261.46945,2710.82855,3208.787,2464.6188,6875.961,6940.90985,4571.41305,4536.259,11272.33139,1731.677,1163.4627,19496.71917,7201.70085,5425.02335,12981.3457,4239.89265,13143.33665,7050.0213,9377.9047,22395.74424,10325.206,12629.1656,10795.93733,11411.685,10600.5483,2205.9808,1629.8335,2007.945],\"xaxis\":\"x\",\"yaxis\":\"y\",\"type\":\"histogram\"},{\"alignmentgroup\":\"True\",\"hovertemplate\":\"smoker=no\\u003cbr\\u003echarges=%{x}\\u003cextra\\u003e\\u003c\\u002fextra\\u003e\",\"legendgroup\":\"no\",\"marker\":{\"color\":\"green\"},\"name\":\"no\",\"notched\":true,\"offsetgroup\":\"no\",\"showlegend\":false,\"x\":[1725.5523,4449.462,21984.47061,3866.8552,3756.6216,8240.5896,7281.5056,6406.4107,28923.13692,2721.3208,1826.843,11090.7178,1837.237,10797.3362,2395.17155,10602.385,13228.84695,4149.736,1137.011,6203.90175,14001.1338,14451.83515,12268.63225,2775.19215,2198.18985,4687.797,13770.0979,1625.43375,15612.19335,2302.3,3046.062,4949.7587,6272.4772,6313.759,6079.6715,20630.28351,3393.35635,3556.9223,12629.8967,2211.13075,3579.8287,8059.6791,13607.36875,5989.52365,8606.2174,4504.6624,30166.61817,4133.64165,1743.214,14235.072,6389.37785,5920.1041,6799.458,11741.726,11946.6259,7726.854,11356.6609,3947.4131,1532.4697,2755.02095,6571.02435,4441.21315,7935.29115,11033.6617,11073.176,8026.6666,11082.5772,2026.9741,10942.13205,5729.0053,3766.8838,12105.32,10226.2842,6186.127,3645.0894,21344.8467,5003.853,2331.519,3877.30425,2867.1196,10825.2537,11881.358,4646.759,2404.7338,11488.31695,30259.99556,11381.3254,8601.3293,6686.4313,7740.337,1705.6245,2257.47525,10115.00885,3385.39915,9634.538,6082.405,12815.44495,13616.3586,11163.568,1632.56445,2457.21115,2155.6815,1261.442,2045.68525,27322.73386,2166.732,27375.90478,3490.5491,18157.876,5138.2567,9877.6077,10959.6947,1842.519,5125.2157,7789.635,6334.34355,7077.1894,6948.7008,19749.38338,10450.552,5152.134,5028.1466,10407.08585,4830.63,6128.79745,2719.27975,4827.90495,13405.3903,8116.68,1694.7964,5246.047,2855.43755,6455.86265,10436.096,8823.279,8538.28845,11735.87905,1631.8212,4005.4225,7419.4779,7731.4271,3981.9768,5325.651,6775.961,4922.9159,12557.6053,4883.866,2137.6536,12044.342,1137.4697,1639.5631,5649.715,8516.829,9644.2525,14901.5167,2130.6759,8871.1517,13012.20865,7147.105,4337.7352,11743.299,13880.949,6610.1097,1980.07,8162.71625,3537.703,5002.7827,8520.026,7371.772,10355.641,2483.736,3392.9768,25081.76784,5012.471,10564.8845,5253.524,11987.1682,2689.4954,24227.33724,7358.17565,9225.2564,7443.64305,14001.2867,1727.785,12333.828,6710.1919,1615.7667,4463.2051,7152.6714,5354.07465,35160.13457,7196.867,24476.47851,12648.7034,1986.9334,1832.094,4040.55825,4260.744,13047.33235,5400.9805,11520.09985,11837.16,20462.99766,14590.63205,7441.053,9282.4806,1719.4363,7265.7025,9617.66245,2523.1695,9715.841,2803.69785,2150.469,12928.7911,9855.1314,4237.12655,11879.10405,9625.92,7742.1098,9432.9253,14256.1928,25992.82104,3172.018,20277.80751,2156.7518,3906.127,1704.5681,9249.4952,6746.7425,12265.5069,4349.462,12646.207,19442.3535,20177.67113,4151.0287,11944.59435,7749.1564,8444.474,1737.376,8124.4084,9722.7695,8835.26495,10435.06525,7421.19455,4667.60765,4894.7533,24671.66334,11566.30055,2866.091,6600.20595,3561.8889,9144.565,13429.0354,11658.37915,19144.57652,13822.803,12142.5786,13937.6665,8232.6388,18955.22017,13352.0998,13217.0945,13981.85035,10977.2063,6184.2994,4889.9995,8334.45755,5478.0368,1635.73365,11830.6072,8932.084,3554.203,12404.8791,14133.03775,24603.04837,8944.1151,9620.3307,1837.2819,1607.5101,10043.249,4751.07,2597.779,3180.5101,9778.3472,13430.265,8017.06115,8116.26885,3481.868,13415.0381,12029.2867,7639.41745,1391.5287,16455.70785,27000.98473,20781.48892,5846.9176,8302.53565,1261.859,11856.4115,30284.64294,3176.8159,4618.0799,10736.87075,2138.0707,8964.06055,9290.1395,9411.005,7526.70645,8522.003,16586.49771,14988.432,1631.6683,9264.797,8083.9198,14692.66935,10269.46,3260.199,11396.9002,4185.0979,8539.671,6652.5288,4074.4537,1621.3402,5080.096,2134.9015,7345.7266,9140.951,14418.2804,2727.3951,8968.33,9788.8659,6555.07035,7323.734819,3167.45585,18804.7524,23082.95533,4906.40965,5969.723,12638.195,4243.59005,13919.8229,2254.7967,5926.846,12592.5345,2897.3235,4738.2682,1149.3959,28287.89766,7345.084,12730.9996,11454.0215,5910.944,4762.329,7512.267,4032.2407,1969.614,1769.53165,4686.3887,21797.0004,11881.9696,11840.77505,10601.412,7682.67,10381.4787,15230.32405,11165.41765,1632.03625,13224.693,12643.3778,23288.9284,2201.0971,2497.0383,2203.47185,1744.465,20878.78443,2534.39375,1534.3045,1824.2854,15555.18875,9304.7019,1622.1885,9880.068,9563.029,4347.02335,12475.3513,1253.936,10461.9794,1748.774,24513.09126,2196.4732,12574.049,1967.0227,4931.647,8027.968,8211.1002,13470.86,6837.3687,5974.3847,6796.86325,2643.2685,3077.0955,3044.2133,11455.28,11763.0009,2498.4144,9361.3268,1256.299,11362.755,27724.28875,8413.46305,5240.765,3857.75925,25656.57526,3994.1778,9866.30485,5397.6167,11482.63485,24059.68019,9861.025,8342.90875,1708.0014,14043.4767,12925.886,19214.70553,13831.1152,6067.12675,5972.378,8825.086,8233.0975,27346.04207,6196.448,3056.3881,13887.204,10231.4999,3268.84665,11538.421,3213.62205,13390.559,3972.9247,12957.118,11187.6567,17878.90068,3847.674,8334.5896,3935.1799,1646.4297,9193.8385,10923.9332,2494.022,9058.7303,2801.2588,2128.43105,6373.55735,7256.7231,11552.904,3761.292,2219.4451,4753.6368,31620.00106,13224.05705,12222.8983,1664.9996,9724.53,3206.49135,12913.9924,1639.5631,6356.2707,17626.23951,1242.816,4779.6023,3861.20965,13635.6379,5976.8311,11842.442,8428.0693,2566.4707,5709.1644,8823.98575,7640.3092,5594.8455,7441.501,33471.97189,1633.0444,9174.13565,11070.535,16085.1275,9283.562,3558.62025,4435.0942,8547.6913,6571.544,2207.69745,6753.038,1880.07,11658.11505,10713.644,3659.346,9182.17,12129.61415,3736.4647,6748.5912,11326.71487,11365.952,10085.846,1977.815,3366.6697,7173.35995,9391.346,14410.9321,2709.1119,24915.04626,12949.1554,6666.243,13143.86485,4466.6214,18806.14547,10141.1362,6123.5688,8252.2843,1712.227,12430.95335,9800.8882,10579.711,8280.6227,8527.532,12244.531,3410.324,4058.71245,26392.26029,14394.39815,6435.6237,22192.43711,5148.5526,1136.3994,8703.456,6500.2359,4837.5823,3943.5954,4399.731,6185.3208,7222.78625,12485.8009,12363.547,10156.7832,2585.269,1242.26,9863.4718,4766.022,11244.3769,7729.64575,5438.7491,26236.57997,2104.1134,8068.185,2362.22905,2352.96845,3577.999,3201.24515,29186.48236,10976.24575,3500.6123,2020.5523,9541.69555,9504.3103,5385.3379,8930.93455,5375.038,10264.4421,6113.23105,5469.0066,1727.54,10107.2206,8310.83915,1984.4533,2457.502,12146.971,9566.9909,13112.6048,10848.1343,12231.6136,9875.6804,11264.541,12979.358,1263.249,10106.13425,6664.68595,2217.6012,6781.3542,10065.413,4234.927,9447.25035,14007.222,9583.8933,3484.331,8604.48365,3757.8448,8827.2099,9910.35985,11737.84884,1627.28245,8556.907,3062.50825,1906.35825,14210.53595,11833.7823,17128.42608,5031.26955,7985.815,5428.7277,3925.7582,2416.955,3070.8087,9095.06825,11842.62375,8062.764,7050.642,14319.031,6933.24225,27941.28758,11150.78,12797.20962,7261.741,10560.4917,6986.697,7448.40395,5934.3798,9869.8102,1146.7966,9386.1613,4350.5144,6414.178,12741.16745,1917.3184,5209.57885,13457.9608,5662.225,1252.407,2731.9122,7209.4918,4266.1658,4719.52405,11848.141,7046.7222,14313.8463,2103.08,1815.8759,7731.85785,28476.73499,2136.88225,1131.5066,3309.7926,9414.92,6360.9936,11013.7119,4428.88785,5584.3057,1877.9294,2842.76075,3597.596,7445.918,2680.9493,1621.8827,8219.2039,12523.6048,16069.08475,6117.4945,13393.756,5266.3656,4719.73655,11743.9341,5377.4578,7160.3303,4402.233,11657.7189,6402.29135,12622.1795,1526.312,12323.936,10072.05505,9872.701,2438.0552,2974.126,10601.63225,14119.62,11729.6795,1875.344,18218.16139,10965.446,7151.092,12269.68865,5458.04645,8782.469,6600.361,1141.4451,11576.13,13129.60345,4391.652,8457.818,3392.3652,5966.8874,6849.026,8891.1395,2690.1138,26140.3603,6653.7886,6282.235,6311.952,3443.064,2789.0574,2585.85065,4877.98105,5272.1758,1682.597,11945.1327,7243.8136,10422.91665,13555.0049,13063.883,2221.56445,1634.5734,2117.33885,8688.85885,4661.28635,8125.7845,12644.589,4564.19145,4846.92015,7633.7206,15170.069,2639.0429,14382.70905,7626.993,5257.50795,2473.3341,13041.921,5245.2269,13451.122,13462.52,5488.262,4320.41085,6250.435,25333.33284,2913.569,12032.326,13470.8044,6289.7549,2927.0647,6238.298,10096.97,7348.142,4673.3922,12233.828,32108.66282,8965.79575,2304.0022,9487.6442,1121.8739,9549.5651,2217.46915,1628.4709,12982.8747,11674.13,7160.094,6358.77645,11534.87265,4527.18295,3875.7341,12609.88702,28468.91901,2730.10785,3353.284,14474.675,9500.57305,26467.09737,4746.344,7518.02535,3279.86855,8596.8278,10702.6424,4992.3764,2527.81865,1759.338,2322.6218,7804.1605,2902.9065,9704.66805,4889.0368,25517.11363,4500.33925,16796.41194,4915.05985,7624.63,8410.04685,28340.18885,4518.82625,3378.91,7144.86265,10118.424,5484.4673,7986.47525,7418.522,13887.9685,6551.7501,5267.81815,1972.95,21232.18226,8627.5411,4433.3877,4438.2634,23241.47453,9957.7216,8269.044,36580.28216,8765.249,5383.536,12124.9924,2709.24395,3987.926,12495.29085,26018.95052,8798.593,1711.0268,8569.8618,2020.177,21595.38229,9850.432,6877.9801,4137.5227,12950.0712,12094.478,2250.8352,22493.65964,1704.70015,3161.454,11394.06555,7325.0482,3594.17085,8023.13545,14394.5579,9288.0267,3353.4703,10594.50155,8277.523,17929.30337,2480.9791,4462.7218,1981.5819,11554.2236,6548.19505,5708.867,7045.499,8978.1851,5757.41345,14349.8544,10928.849,13974.45555,1909.52745,12096.6512,13204.28565,4562.8421,8551.347,2102.2647,15161.5344,11884.04858,4454.40265,5855.9025,4076.497,15019.76005,10796.35025,11353.2276,9748.9106,10577.087,11286.5387,3591.48,11299.343,4561.1885,1674.6323,23045.56616,3227.1211,11253.421,3471.4096,11363.2832,20420.60465,10338.9316,8988.15875,10493.9458,2904.088,8605.3615,11512.405,5312.16985,2396.0959,10807.4863,9222.4026,5693.4305,8347.1643,18903.49141,14254.6082,10214.636,5836.5204,14358.36437,1728.897,8582.3023,3693.428,20709.02034,9991.03765,19673.33573,11085.5868,7623.518,3176.2877,3704.3545,9048.0273,7954.517,27117.99378,6338.0756,9630.397,11289.10925,2261.5688,10791.96,5979.731,2203.73595,12235.8392,5630.45785,11015.1747,7228.21565,14426.07385,2459.7201,3989.841,7727.2532,5124.1887,18963.17192,2200.83085,7153.5539,5227.98875,10982.5013,4529.477,4670.64,6112.35295,11093.6229,6457.8434,4433.9159,2154.361,6496.886,2899.48935,7650.77375,2850.68375,2632.992,9447.3824,8603.8234,13844.7972,13126.67745,5327.40025,13725.47184,13019.16105,8671.19125,4134.08245,18838.70366,5699.8375,6393.60345,4934.705,6198.7518,8733.22925,2055.3249,9964.06,5116.5004,36910.60803,12347.172,5373.36425,23563.01618,1702.4553,10806.839,3956.07145,12890.05765,5415.6612,4058.1161,7537.1639,4718.20355,6593.5083,8442.667,6858.4796,4795.6568,6640.54485,7162.0122,10594.2257,11938.25595,12479.70895,11345.519,8515.7587,2699.56835,14449.8544,12224.35085,6985.50695,3238.4357,4296.2712,3171.6149,1135.9407,5615.369,9101.798,6059.173,1633.9618,1241.565,15828.82173,4415.1588,6474.013,11436.73815,11305.93455,30063.58055,10197.7722,4544.2348,3277.161,6770.1925,7337.748,10370.91255,10704.47,1880.487,8615.3,3292.52985,3021.80915,14478.33015,4747.0529,10959.33,2741.948,4357.04365,4189.1131,8283.6807,1720.3537,8534.6718,3732.6251,5472.449,7147.4728,7133.9025,1515.3449,9301.89355,11931.12525,1964.78,1708.92575,4340.4409,5261.46945,2710.82855,3208.787,2464.6188,6875.961,6940.90985,4571.41305,4536.259,11272.33139,1731.677,1163.4627,19496.71917,7201.70085,5425.02335,12981.3457,4239.89265,13143.33665,7050.0213,9377.9047,22395.74424,10325.206,12629.1656,10795.93733,11411.685,10600.5483,2205.9808,1629.8335,2007.945],\"xaxis\":\"x2\",\"yaxis\":\"y2\",\"type\":\"box\"}],                        {\"template\":{\"data\":{\"histogram2dcontour\":[{\"type\":\"histogram2dcontour\",\"colorbar\":{\"outlinewidth\":0,\"ticks\":\"\"},\"colorscale\":[[0.0,\"#0d0887\"],[0.1111111111111111,\"#46039f\"],[0.2222222222222222,\"#7201a8\"],[0.3333333333333333,\"#9c179e\"],[0.4444444444444444,\"#bd3786\"],[0.5555555555555556,\"#d8576b\"],[0.6666666666666666,\"#ed7953\"],[0.7777777777777778,\"#fb9f3a\"],[0.8888888888888888,\"#fdca26\"],[1.0,\"#f0f921\"]]}],\"choropleth\":[{\"type\":\"choropleth\",\"colorbar\":{\"outlinewidth\":0,\"ticks\":\"\"}}],\"histogram2d\":[{\"type\":\"histogram2d\",\"colorbar\":{\"outlinewidth\":0,\"ticks\":\"\"},\"colorscale\":[[0.0,\"#0d0887\"],[0.1111111111111111,\"#46039f\"],[0.2222222222222222,\"#7201a8\"],[0.3333333333333333,\"#9c179e\"],[0.4444444444444444,\"#bd3786\"],[0.5555555555555556,\"#d8576b\"],[0.6666666666666666,\"#ed7953\"],[0.7777777777777778,\"#fb9f3a\"],[0.8888888888888888,\"#fdca26\"],[1.0,\"#f0f921\"]]}],\"heatmap\":[{\"type\":\"heatmap\",\"colorbar\":{\"outlinewidth\":0,\"ticks\":\"\"},\"colorscale\":[[0.0,\"#0d0887\"],[0.1111111111111111,\"#46039f\"],[0.2222222222222222,\"#7201a8\"],[0.3333333333333333,\"#9c179e\"],[0.4444444444444444,\"#bd3786\"],[0.5555555555555556,\"#d8576b\"],[0.6666666666666666,\"#ed7953\"],[0.7777777777777778,\"#fb9f3a\"],[0.8888888888888888,\"#fdca26\"],[1.0,\"#f0f921\"]]}],\"heatmapgl\":[{\"type\":\"heatmapgl\",\"colorbar\":{\"outlinewidth\":0,\"ticks\":\"\"},\"colorscale\":[[0.0,\"#0d0887\"],[0.1111111111111111,\"#46039f\"],[0.2222222222222222,\"#7201a8\"],[0.3333333333333333,\"#9c179e\"],[0.4444444444444444,\"#bd3786\"],[0.5555555555555556,\"#d8576b\"],[0.6666666666666666,\"#ed7953\"],[0.7777777777777778,\"#fb9f3a\"],[0.8888888888888888,\"#fdca26\"],[1.0,\"#f0f921\"]]}],\"contourcarpet\":[{\"type\":\"contourcarpet\",\"colorbar\":{\"outlinewidth\":0,\"ticks\":\"\"}}],\"contour\":[{\"type\":\"contour\",\"colorbar\":{\"outlinewidth\":0,\"ticks\":\"\"},\"colorscale\":[[0.0,\"#0d0887\"],[0.1111111111111111,\"#46039f\"],[0.2222222222222222,\"#7201a8\"],[0.3333333333333333,\"#9c179e\"],[0.4444444444444444,\"#bd3786\"],[0.5555555555555556,\"#d8576b\"],[0.6666666666666666,\"#ed7953\"],[0.7777777777777778,\"#fb9f3a\"],[0.8888888888888888,\"#fdca26\"],[1.0,\"#f0f921\"]]}],\"surface\":[{\"type\":\"surface\",\"colorbar\":{\"outlinewidth\":0,\"ticks\":\"\"},\"colorscale\":[[0.0,\"#0d0887\"],[0.1111111111111111,\"#46039f\"],[0.2222222222222222,\"#7201a8\"],[0.3333333333333333,\"#9c179e\"],[0.4444444444444444,\"#bd3786\"],[0.5555555555555556,\"#d8576b\"],[0.6666666666666666,\"#ed7953\"],[0.7777777777777778,\"#fb9f3a\"],[0.8888888888888888,\"#fdca26\"],[1.0,\"#f0f921\"]]}],\"mesh3d\":[{\"type\":\"mesh3d\",\"colorbar\":{\"outlinewidth\":0,\"ticks\":\"\"}}],\"scatter\":[{\"fillpattern\":{\"fillmode\":\"overlay\",\"size\":10,\"solidity\":0.2},\"type\":\"scatter\"}],\"parcoords\":[{\"type\":\"parcoords\",\"line\":{\"colorbar\":{\"outlinewidth\":0,\"ticks\":\"\"}}}],\"scatterpolargl\":[{\"type\":\"scatterpolargl\",\"marker\":{\"colorbar\":{\"outlinewidth\":0,\"ticks\":\"\"}}}],\"bar\":[{\"error_x\":{\"color\":\"#2a3f5f\"},\"error_y\":{\"color\":\"#2a3f5f\"},\"marker\":{\"line\":{\"color\":\"#E5ECF6\",\"width\":0.5},\"pattern\":{\"fillmode\":\"overlay\",\"size\":10,\"solidity\":0.2}},\"type\":\"bar\"}],\"scattergeo\":[{\"type\":\"scattergeo\",\"marker\":{\"colorbar\":{\"outlinewidth\":0,\"ticks\":\"\"}}}],\"scatterpolar\":[{\"type\":\"scatterpolar\",\"marker\":{\"colorbar\":{\"outlinewidth\":0,\"ticks\":\"\"}}}],\"histogram\":[{\"marker\":{\"pattern\":{\"fillmode\":\"overlay\",\"size\":10,\"solidity\":0.2}},\"type\":\"histogram\"}],\"scattergl\":[{\"type\":\"scattergl\",\"marker\":{\"colorbar\":{\"outlinewidth\":0,\"ticks\":\"\"}}}],\"scatter3d\":[{\"type\":\"scatter3d\",\"line\":{\"colorbar\":{\"outlinewidth\":0,\"ticks\":\"\"}},\"marker\":{\"colorbar\":{\"outlinewidth\":0,\"ticks\":\"\"}}}],\"scattermapbox\":[{\"type\":\"scattermapbox\",\"marker\":{\"colorbar\":{\"outlinewidth\":0,\"ticks\":\"\"}}}],\"scatterternary\":[{\"type\":\"scatterternary\",\"marker\":{\"colorbar\":{\"outlinewidth\":0,\"ticks\":\"\"}}}],\"scattercarpet\":[{\"type\":\"scattercarpet\",\"marker\":{\"colorbar\":{\"outlinewidth\":0,\"ticks\":\"\"}}}],\"carpet\":[{\"aaxis\":{\"endlinecolor\":\"#2a3f5f\",\"gridcolor\":\"white\",\"linecolor\":\"white\",\"minorgridcolor\":\"white\",\"startlinecolor\":\"#2a3f5f\"},\"baxis\":{\"endlinecolor\":\"#2a3f5f\",\"gridcolor\":\"white\",\"linecolor\":\"white\",\"minorgridcolor\":\"white\",\"startlinecolor\":\"#2a3f5f\"},\"type\":\"carpet\"}],\"table\":[{\"cells\":{\"fill\":{\"color\":\"#EBF0F8\"},\"line\":{\"color\":\"white\"}},\"header\":{\"fill\":{\"color\":\"#C8D4E3\"},\"line\":{\"color\":\"white\"}},\"type\":\"table\"}],\"barpolar\":[{\"marker\":{\"line\":{\"color\":\"#E5ECF6\",\"width\":0.5},\"pattern\":{\"fillmode\":\"overlay\",\"size\":10,\"solidity\":0.2}},\"type\":\"barpolar\"}],\"pie\":[{\"automargin\":true,\"type\":\"pie\"}]},\"layout\":{\"autotypenumbers\":\"strict\",\"colorway\":[\"#636efa\",\"#EF553B\",\"#00cc96\",\"#ab63fa\",\"#FFA15A\",\"#19d3f3\",\"#FF6692\",\"#B6E880\",\"#FF97FF\",\"#FECB52\"],\"font\":{\"color\":\"#2a3f5f\"},\"hovermode\":\"closest\",\"hoverlabel\":{\"align\":\"left\"},\"paper_bgcolor\":\"white\",\"plot_bgcolor\":\"#E5ECF6\",\"polar\":{\"bgcolor\":\"#E5ECF6\",\"angularaxis\":{\"gridcolor\":\"white\",\"linecolor\":\"white\",\"ticks\":\"\"},\"radialaxis\":{\"gridcolor\":\"white\",\"linecolor\":\"white\",\"ticks\":\"\"}},\"ternary\":{\"bgcolor\":\"#E5ECF6\",\"aaxis\":{\"gridcolor\":\"white\",\"linecolor\":\"white\",\"ticks\":\"\"},\"baxis\":{\"gridcolor\":\"white\",\"linecolor\":\"white\",\"ticks\":\"\"},\"caxis\":{\"gridcolor\":\"white\",\"linecolor\":\"white\",\"ticks\":\"\"}},\"coloraxis\":{\"colorbar\":{\"outlinewidth\":0,\"ticks\":\"\"}},\"colorscale\":{\"sequential\":[[0.0,\"#0d0887\"],[0.1111111111111111,\"#46039f\"],[0.2222222222222222,\"#7201a8\"],[0.3333333333333333,\"#9c179e\"],[0.4444444444444444,\"#bd3786\"],[0.5555555555555556,\"#d8576b\"],[0.6666666666666666,\"#ed7953\"],[0.7777777777777778,\"#fb9f3a\"],[0.8888888888888888,\"#fdca26\"],[1.0,\"#f0f921\"]],\"sequentialminus\":[[0.0,\"#0d0887\"],[0.1111111111111111,\"#46039f\"],[0.2222222222222222,\"#7201a8\"],[0.3333333333333333,\"#9c179e\"],[0.4444444444444444,\"#bd3786\"],[0.5555555555555556,\"#d8576b\"],[0.6666666666666666,\"#ed7953\"],[0.7777777777777778,\"#fb9f3a\"],[0.8888888888888888,\"#fdca26\"],[1.0,\"#f0f921\"]],\"diverging\":[[0,\"#8e0152\"],[0.1,\"#c51b7d\"],[0.2,\"#de77ae\"],[0.3,\"#f1b6da\"],[0.4,\"#fde0ef\"],[0.5,\"#f7f7f7\"],[0.6,\"#e6f5d0\"],[0.7,\"#b8e186\"],[0.8,\"#7fbc41\"],[0.9,\"#4d9221\"],[1,\"#276419\"]]},\"xaxis\":{\"gridcolor\":\"white\",\"linecolor\":\"white\",\"ticks\":\"\",\"title\":{\"standoff\":15},\"zerolinecolor\":\"white\",\"automargin\":true,\"zerolinewidth\":2},\"yaxis\":{\"gridcolor\":\"white\",\"linecolor\":\"white\",\"ticks\":\"\",\"title\":{\"standoff\":15},\"zerolinecolor\":\"white\",\"automargin\":true,\"zerolinewidth\":2},\"scene\":{\"xaxis\":{\"backgroundcolor\":\"#E5ECF6\",\"gridcolor\":\"white\",\"linecolor\":\"white\",\"showbackground\":true,\"ticks\":\"\",\"zerolinecolor\":\"white\",\"gridwidth\":2},\"yaxis\":{\"backgroundcolor\":\"#E5ECF6\",\"gridcolor\":\"white\",\"linecolor\":\"white\",\"showbackground\":true,\"ticks\":\"\",\"zerolinecolor\":\"white\",\"gridwidth\":2},\"zaxis\":{\"backgroundcolor\":\"#E5ECF6\",\"gridcolor\":\"white\",\"linecolor\":\"white\",\"showbackground\":true,\"ticks\":\"\",\"zerolinecolor\":\"white\",\"gridwidth\":2}},\"shapedefaults\":{\"line\":{\"color\":\"#2a3f5f\"}},\"annotationdefaults\":{\"arrowcolor\":\"#2a3f5f\",\"arrowhead\":0,\"arrowwidth\":1},\"geo\":{\"bgcolor\":\"white\",\"landcolor\":\"#E5ECF6\",\"subunitcolor\":\"white\",\"showland\":true,\"showlakes\":true,\"lakecolor\":\"white\"},\"title\":{\"x\":0.05},\"mapbox\":{\"style\":\"light\"}}},\"xaxis\":{\"anchor\":\"y\",\"domain\":[0.0,1.0],\"title\":{\"text\":\"charges\"}},\"yaxis\":{\"anchor\":\"x\",\"domain\":[0.0,0.7326],\"title\":{\"text\":\"count\"}},\"xaxis2\":{\"anchor\":\"y2\",\"domain\":[0.0,1.0],\"matches\":\"x\",\"showticklabels\":false,\"showgrid\":true},\"yaxis2\":{\"anchor\":\"x2\",\"domain\":[0.7426,1.0],\"matches\":\"y2\",\"showticklabels\":false,\"showline\":false,\"ticks\":\"\",\"showgrid\":false},\"legend\":{\"title\":{\"text\":\"smoker\"},\"tracegroupgap\":0},\"title\":{\"text\":\"Annual Medical Charges\"},\"barmode\":\"relative\",\"bargap\":0.1},                        {\"responsive\": true}                    ).then(function(){\n",
              "                            \n",
              "var gd = document.getElementById('ffbcc446-9d9d-4eed-9d97-6433e5a3105d');\n",
              "var x = new MutationObserver(function (mutations, observer) {{\n",
              "        var display = window.getComputedStyle(gd).display;\n",
              "        if (!display || display === 'none') {{\n",
              "            console.log([gd, 'removed!']);\n",
              "            Plotly.purge(gd);\n",
              "            observer.disconnect();\n",
              "        }}\n",
              "}});\n",
              "\n",
              "// Listen for the removal of the full notebook cells\n",
              "var notebookContainer = gd.closest('#notebook-container');\n",
              "if (notebookContainer) {{\n",
              "    x.observe(notebookContainer, {childList: true});\n",
              "}}\n",
              "\n",
              "// Listen for the clearing of the current output cell\n",
              "var outputEl = gd.closest('.output');\n",
              "if (outputEl) {{\n",
              "    x.observe(outputEl, {childList: true});\n",
              "}}\n",
              "\n",
              "                        })                };                            </script>        </div>\n",
              "</body>\n",
              "</html>"
            ]
          },
          "metadata": {}
        }
      ],
      "source": [
        "fig = px.histogram(medical_df,\n",
        "                   x='charges',\n",
        "                   marginal='box',\n",
        "                   color='smoker',\n",
        "                   color_discrete_sequence=['green', 'grey'],\n",
        "                   title='Annual Medical Charges')\n",
        "fig.update_layout(bargap=0.1)\n",
        "fig.show()"
      ]
    },
    {
      "cell_type": "markdown",
      "id": "dc428947",
      "metadata": {
        "id": "dc428947"
      },
      "source": [
        "We can make the following observations from the above graph:\n",
        "\n",
        "* For most customers, the annual medical charges are under \\\\$10,000. Only a small fraction of customer have higher medical expenses, possibly due to accidents, major illnesses and genetic diseases. The distribution follows a \"power law\"\n",
        "* There is a significant difference in medical expenses between smokers and non-smokers. While the median for non-smokers is \\\\$7300, the median for smokers is close to \\\\$35,000.\n",
        "\n",
        "\n",
        "> **EXERCISE**: Visualize the distribution of medical charges in connection with other factors like \"sex\" and \"region\". What do you observe?"
      ]
    },
    {
      "cell_type": "code",
      "execution_count": 44,
      "id": "ca6c00ba",
      "metadata": {
        "colab": {
          "base_uri": "https://localhost:8080/",
          "height": 542
        },
        "id": "ca6c00ba",
        "outputId": "639017d0-72c0-4ec6-f04b-0a9ffaa579c5"
      },
      "outputs": [
        {
          "output_type": "display_data",
          "data": {
            "text/html": [
              "<html>\n",
              "<head><meta charset=\"utf-8\" /></head>\n",
              "<body>\n",
              "    <div>            <script src=\"https://cdnjs.cloudflare.com/ajax/libs/mathjax/2.7.5/MathJax.js?config=TeX-AMS-MML_SVG\"></script><script type=\"text/javascript\">if (window.MathJax && window.MathJax.Hub && window.MathJax.Hub.Config) {window.MathJax.Hub.Config({SVG: {font: \"STIX-Web\"}});}</script>                <script type=\"text/javascript\">window.PlotlyConfig = {MathJaxConfig: 'local'};</script>\n",
              "        <script charset=\"utf-8\" src=\"https://cdn.plot.ly/plotly-2.24.1.min.js\"></script>                <div id=\"e2494faa-7db3-4279-baca-fbe43481af58\" class=\"plotly-graph-div\" style=\"height:525px; width:100%;\"></div>            <script type=\"text/javascript\">                                    window.PLOTLYENV=window.PLOTLYENV || {};                                    if (document.getElementById(\"e2494faa-7db3-4279-baca-fbe43481af58\")) {                    Plotly.newPlot(                        \"e2494faa-7db3-4279-baca-fbe43481af58\",                        [{\"alignmentgroup\":\"True\",\"bingroup\":\"x\",\"hovertemplate\":\"sex=female\\u003cbr\\u003eregion=%{x}\\u003cbr\\u003ecount=%{y}\\u003cextra\\u003e\\u003c\\u002fextra\\u003e\",\"legendgroup\":\"female\",\"marker\":{\"color\":\"grey\",\"pattern\":{\"shape\":\"\"}},\"name\":\"female\",\"offsetgroup\":\"female\",\"orientation\":\"v\",\"showlegend\":true,\"x\":[\"southwest\",\"southeast\",\"southeast\",\"northwest\",\"northwest\",\"southeast\",\"southeast\",\"northeast\",\"northeast\",\"southwest\",\"northeast\",\"southeast\",\"northeast\",\"northwest\",\"northeast\",\"southwest\",\"northwest\",\"northeast\",\"southeast\",\"southeast\",\"northeast\",\"northwest\",\"southeast\",\"northeast\",\"northwest\",\"northwest\",\"northeast\",\"southeast\",\"northwest\",\"northwest\",\"northwest\",\"southwest\",\"southwest\",\"southeast\",\"southeast\",\"southwest\",\"southeast\",\"northeast\",\"northwest\",\"northeast\",\"northwest\",\"southwest\",\"northwest\",\"southwest\",\"northwest\",\"northwest\",\"southeast\",\"northwest\",\"southwest\",\"southeast\",\"southwest\",\"southwest\",\"northeast\",\"southeast\",\"southwest\",\"southwest\",\"southwest\",\"northwest\",\"southeast\",\"southeast\",\"northwest\",\"northwest\",\"northwest\",\"northeast\",\"southwest\",\"southwest\",\"northwest\",\"northeast\",\"northeast\",\"southwest\",\"northeast\",\"southeast\",\"southeast\",\"southwest\",\"southeast\",\"southeast\",\"northwest\",\"northeast\",\"northeast\",\"northeast\",\"southeast\",\"northwest\",\"southeast\",\"southwest\",\"southwest\",\"northwest\",\"northwest\",\"southwest\",\"northwest\",\"southwest\",\"southwest\",\"northeast\",\"southeast\",\"northwest\",\"southeast\",\"southwest\",\"southwest\",\"northwest\",\"southwest\",\"northwest\",\"southwest\",\"southeast\",\"northwest\",\"northeast\",\"northwest\",\"southeast\",\"northwest\",\"southeast\",\"northeast\",\"southwest\",\"southeast\",\"southwest\",\"southwest\",\"northwest\",\"southeast\",\"southeast\",\"southwest\",\"northeast\",\"southeast\",\"northeast\",\"northwest\",\"southeast\",\"southwest\",\"southeast\",\"southeast\",\"northeast\",\"northeast\",\"southwest\",\"northeast\",\"southeast\",\"southwest\",\"northeast\",\"southeast\",\"southwest\",\"southeast\",\"southeast\",\"northeast\",\"northeast\",\"southwest\",\"southeast\",\"northeast\",\"northeast\",\"southwest\",\"northeast\",\"northwest\",\"northeast\",\"southwest\",\"southeast\",\"northwest\",\"northeast\",\"southeast\",\"southeast\",\"southwest\",\"southwest\",\"southeast\",\"northwest\",\"southwest\",\"southwest\",\"northwest\",\"northeast\",\"southeast\",\"southwest\",\"northeast\",\"northwest\",\"northeast\",\"northeast\",\"southeast\",\"southwest\",\"northeast\",\"southeast\",\"southeast\",\"southeast\",\"northwest\",\"southwest\",\"southwest\",\"southeast\",\"southeast\",\"northeast\",\"southwest\",\"southwest\",\"southeast\",\"northeast\",\"northeast\",\"northwest\",\"northwest\",\"northeast\",\"northeast\",\"northwest\",\"northeast\",\"northwest\",\"northeast\",\"southeast\",\"southeast\",\"northwest\",\"northwest\",\"northwest\",\"northeast\",\"southwest\",\"southeast\",\"southwest\",\"northwest\",\"northeast\",\"southeast\",\"southwest\",\"northeast\",\"northeast\",\"northwest\",\"southeast\",\"southwest\",\"northwest\",\"northeast\",\"northeast\",\"northeast\",\"northwest\",\"northwest\",\"southwest\",\"southeast\",\"northwest\",\"southwest\",\"southeast\",\"southwest\",\"northwest\",\"southwest\",\"southeast\",\"northwest\",\"southeast\",\"southeast\",\"northeast\",\"southeast\",\"southwest\",\"northwest\",\"northeast\",\"southeast\",\"northeast\",\"southwest\",\"northeast\",\"southeast\",\"southwest\",\"northeast\",\"northwest\",\"southeast\",\"southwest\",\"southeast\",\"northeast\",\"southwest\",\"southeast\",\"southwest\",\"southeast\",\"northeast\",\"southwest\",\"southwest\",\"northeast\",\"southeast\",\"northeast\",\"southeast\",\"southeast\",\"northwest\",\"southwest\",\"northeast\",\"southwest\",\"southwest\",\"southeast\",\"southwest\",\"southeast\",\"southeast\",\"southeast\",\"southwest\",\"northeast\",\"southeast\",\"southeast\",\"northwest\",\"northeast\",\"northwest\",\"northwest\",\"northeast\",\"southeast\",\"northwest\",\"northwest\",\"southwest\",\"southwest\",\"southeast\",\"southeast\",\"northeast\",\"northeast\",\"northwest\",\"northeast\",\"northeast\",\"southeast\",\"southeast\",\"northwest\",\"northeast\",\"southeast\",\"southwest\",\"northeast\",\"northeast\",\"southeast\",\"northeast\",\"northwest\",\"southeast\",\"southwest\",\"southeast\",\"northwest\",\"southeast\",\"northeast\",\"northwest\",\"southeast\",\"southwest\",\"northeast\",\"northeast\",\"southeast\",\"southeast\",\"northeast\",\"southeast\",\"southwest\",\"southwest\",\"northwest\",\"northwest\",\"southeast\",\"northwest\",\"northeast\",\"northwest\",\"northeast\",\"northeast\",\"southeast\",\"southeast\",\"southeast\",\"southeast\",\"southeast\",\"southeast\",\"southwest\",\"northeast\",\"northeast\",\"southeast\",\"northeast\",\"southeast\",\"northwest\",\"southeast\",\"northeast\",\"southeast\",\"southeast\",\"southeast\",\"northwest\",\"southwest\",\"southwest\",\"southwest\",\"southwest\",\"northwest\",\"northeast\",\"southeast\",\"southeast\",\"northeast\",\"northwest\",\"northwest\",\"southwest\",\"southeast\",\"northeast\",\"northeast\",\"southeast\",\"northwest\",\"southwest\",\"northwest\",\"northwest\",\"northwest\",\"northeast\",\"northeast\",\"southeast\",\"northeast\",\"northeast\",\"southeast\",\"southwest\",\"northeast\",\"southwest\",\"northwest\",\"southeast\",\"southeast\",\"northwest\",\"southwest\",\"southeast\",\"southeast\",\"northeast\",\"southeast\",\"northeast\",\"northeast\",\"northwest\",\"southwest\",\"southwest\",\"northwest\",\"southwest\",\"northeast\",\"northwest\",\"southwest\",\"southeast\",\"southwest\",\"southeast\",\"southeast\",\"northeast\",\"northwest\",\"northeast\",\"southwest\",\"southeast\",\"southeast\",\"southeast\",\"northwest\",\"northwest\",\"northwest\",\"southwest\",\"northwest\",\"southeast\",\"northwest\",\"northeast\",\"northwest\",\"southeast\",\"southeast\",\"northeast\",\"northwest\",\"northwest\",\"northeast\",\"northeast\",\"northwest\",\"southeast\",\"southeast\",\"southeast\",\"southwest\",\"southwest\",\"northeast\",\"northeast\",\"northeast\",\"northeast\",\"southwest\",\"southeast\",\"southeast\",\"southwest\",\"southwest\",\"northwest\",\"northeast\",\"southwest\",\"southeast\",\"northwest\",\"southwest\",\"southwest\",\"northeast\",\"northeast\",\"northwest\",\"northwest\",\"southeast\",\"southwest\",\"northeast\",\"southeast\",\"northwest\",\"southwest\",\"northeast\",\"southeast\",\"southwest\",\"northwest\",\"southwest\",\"southeast\",\"northwest\",\"southwest\",\"southeast\",\"southwest\",\"southwest\",\"southwest\",\"southwest\",\"southeast\",\"southwest\",\"southwest\",\"southwest\",\"northwest\",\"southeast\",\"northeast\",\"southwest\",\"northwest\",\"northwest\",\"southwest\",\"southeast\",\"southeast\",\"southeast\",\"northeast\",\"northwest\",\"southwest\",\"northeast\",\"southeast\",\"northeast\",\"southwest\",\"northwest\",\"northeast\",\"southwest\",\"northeast\",\"southwest\",\"northwest\",\"northeast\",\"southwest\",\"southeast\",\"northeast\",\"northwest\",\"southwest\",\"southeast\",\"southwest\",\"northwest\",\"southwest\",\"northwest\",\"northwest\",\"southeast\",\"southeast\",\"southwest\",\"northeast\",\"northwest\",\"southeast\",\"northeast\",\"southwest\",\"northwest\",\"northwest\",\"southwest\",\"northwest\",\"northeast\",\"northwest\",\"northwest\",\"northwest\",\"southwest\",\"southeast\",\"southeast\",\"southwest\",\"southwest\",\"southeast\",\"northeast\",\"northeast\",\"southeast\",\"southwest\",\"northwest\",\"southwest\",\"northeast\",\"northwest\",\"southwest\",\"northeast\",\"northeast\",\"northeast\",\"southeast\",\"northeast\",\"southeast\",\"northwest\",\"northwest\",\"northeast\",\"southeast\",\"northwest\",\"northwest\",\"southwest\",\"northwest\",\"northeast\",\"northeast\",\"northwest\",\"southeast\",\"southwest\",\"southeast\",\"northwest\",\"northwest\",\"southwest\",\"northwest\",\"northwest\",\"southwest\",\"southeast\",\"northwest\",\"northeast\",\"northwest\",\"southeast\",\"northwest\",\"northwest\",\"northeast\",\"northwest\",\"northeast\",\"southwest\",\"northwest\",\"northeast\",\"northwest\",\"northeast\",\"southwest\",\"northwest\",\"southwest\",\"southeast\",\"southwest\",\"northwest\",\"southwest\",\"northeast\",\"northeast\",\"northwest\",\"southwest\",\"northeast\",\"southeast\",\"northwest\",\"northeast\",\"southwest\",\"northwest\",\"northeast\",\"northeast\",\"northwest\",\"northwest\",\"northwest\",\"northwest\",\"southwest\",\"southeast\",\"southwest\",\"northeast\",\"southwest\",\"northwest\",\"southwest\",\"northwest\",\"northeast\",\"southeast\",\"southeast\",\"southwest\",\"northwest\",\"southeast\",\"northeast\",\"northwest\",\"southeast\",\"northwest\",\"southeast\",\"southwest\",\"southeast\",\"southwest\",\"southeast\",\"southwest\",\"northwest\",\"northwest\",\"northeast\",\"northeast\",\"southeast\",\"southwest\",\"northeast\",\"southwest\",\"southwest\",\"northwest\",\"northeast\",\"northwest\",\"northwest\",\"southeast\",\"northwest\",\"northeast\",\"northeast\",\"northeast\",\"southwest\",\"northeast\",\"southeast\",\"northwest\",\"southwest\",\"southeast\",\"northeast\",\"southwest\",\"northwest\",\"southwest\",\"northwest\",\"southwest\",\"northwest\",\"southeast\",\"northeast\",\"northeast\",\"southeast\",\"southwest\",\"southwest\",\"northeast\",\"southeast\",\"southwest\",\"northwest\"],\"xaxis\":\"x\",\"yaxis\":\"y\",\"type\":\"histogram\"},{\"alignmentgroup\":\"True\",\"hovertemplate\":\"sex=female\\u003cbr\\u003eregion=%{x}\\u003cextra\\u003e\\u003c\\u002fextra\\u003e\",\"legendgroup\":\"female\",\"marker\":{\"color\":\"grey\"},\"name\":\"female\",\"notched\":true,\"offsetgroup\":\"female\",\"showlegend\":false,\"x\":[\"southwest\",\"southeast\",\"southeast\",\"northwest\",\"northwest\",\"southeast\",\"southeast\",\"northeast\",\"northeast\",\"southwest\",\"northeast\",\"southeast\",\"northeast\",\"northwest\",\"northeast\",\"southwest\",\"northwest\",\"northeast\",\"southeast\",\"southeast\",\"northeast\",\"northwest\",\"southeast\",\"northeast\",\"northwest\",\"northwest\",\"northeast\",\"southeast\",\"northwest\",\"northwest\",\"northwest\",\"southwest\",\"southwest\",\"southeast\",\"southeast\",\"southwest\",\"southeast\",\"northeast\",\"northwest\",\"northeast\",\"northwest\",\"southwest\",\"northwest\",\"southwest\",\"northwest\",\"northwest\",\"southeast\",\"northwest\",\"southwest\",\"southeast\",\"southwest\",\"southwest\",\"northeast\",\"southeast\",\"southwest\",\"southwest\",\"southwest\",\"northwest\",\"southeast\",\"southeast\",\"northwest\",\"northwest\",\"northwest\",\"northeast\",\"southwest\",\"southwest\",\"northwest\",\"northeast\",\"northeast\",\"southwest\",\"northeast\",\"southeast\",\"southeast\",\"southwest\",\"southeast\",\"southeast\",\"northwest\",\"northeast\",\"northeast\",\"northeast\",\"southeast\",\"northwest\",\"southeast\",\"southwest\",\"southwest\",\"northwest\",\"northwest\",\"southwest\",\"northwest\",\"southwest\",\"southwest\",\"northeast\",\"southeast\",\"northwest\",\"southeast\",\"southwest\",\"southwest\",\"northwest\",\"southwest\",\"northwest\",\"southwest\",\"southeast\",\"northwest\",\"northeast\",\"northwest\",\"southeast\",\"northwest\",\"southeast\",\"northeast\",\"southwest\",\"southeast\",\"southwest\",\"southwest\",\"northwest\",\"southeast\",\"southeast\",\"southwest\",\"northeast\",\"southeast\",\"northeast\",\"northwest\",\"southeast\",\"southwest\",\"southeast\",\"southeast\",\"northeast\",\"northeast\",\"southwest\",\"northeast\",\"southeast\",\"southwest\",\"northeast\",\"southeast\",\"southwest\",\"southeast\",\"southeast\",\"northeast\",\"northeast\",\"southwest\",\"southeast\",\"northeast\",\"northeast\",\"southwest\",\"northeast\",\"northwest\",\"northeast\",\"southwest\",\"southeast\",\"northwest\",\"northeast\",\"southeast\",\"southeast\",\"southwest\",\"southwest\",\"southeast\",\"northwest\",\"southwest\",\"southwest\",\"northwest\",\"northeast\",\"southeast\",\"southwest\",\"northeast\",\"northwest\",\"northeast\",\"northeast\",\"southeast\",\"southwest\",\"northeast\",\"southeast\",\"southeast\",\"southeast\",\"northwest\",\"southwest\",\"southwest\",\"southeast\",\"southeast\",\"northeast\",\"southwest\",\"southwest\",\"southeast\",\"northeast\",\"northeast\",\"northwest\",\"northwest\",\"northeast\",\"northeast\",\"northwest\",\"northeast\",\"northwest\",\"northeast\",\"southeast\",\"southeast\",\"northwest\",\"northwest\",\"northwest\",\"northeast\",\"southwest\",\"southeast\",\"southwest\",\"northwest\",\"northeast\",\"southeast\",\"southwest\",\"northeast\",\"northeast\",\"northwest\",\"southeast\",\"southwest\",\"northwest\",\"northeast\",\"northeast\",\"northeast\",\"northwest\",\"northwest\",\"southwest\",\"southeast\",\"northwest\",\"southwest\",\"southeast\",\"southwest\",\"northwest\",\"southwest\",\"southeast\",\"northwest\",\"southeast\",\"southeast\",\"northeast\",\"southeast\",\"southwest\",\"northwest\",\"northeast\",\"southeast\",\"northeast\",\"southwest\",\"northeast\",\"southeast\",\"southwest\",\"northeast\",\"northwest\",\"southeast\",\"southwest\",\"southeast\",\"northeast\",\"southwest\",\"southeast\",\"southwest\",\"southeast\",\"northeast\",\"southwest\",\"southwest\",\"northeast\",\"southeast\",\"northeast\",\"southeast\",\"southeast\",\"northwest\",\"southwest\",\"northeast\",\"southwest\",\"southwest\",\"southeast\",\"southwest\",\"southeast\",\"southeast\",\"southeast\",\"southwest\",\"northeast\",\"southeast\",\"southeast\",\"northwest\",\"northeast\",\"northwest\",\"northwest\",\"northeast\",\"southeast\",\"northwest\",\"northwest\",\"southwest\",\"southwest\",\"southeast\",\"southeast\",\"northeast\",\"northeast\",\"northwest\",\"northeast\",\"northeast\",\"southeast\",\"southeast\",\"northwest\",\"northeast\",\"southeast\",\"southwest\",\"northeast\",\"northeast\",\"southeast\",\"northeast\",\"northwest\",\"southeast\",\"southwest\",\"southeast\",\"northwest\",\"southeast\",\"northeast\",\"northwest\",\"southeast\",\"southwest\",\"northeast\",\"northeast\",\"southeast\",\"southeast\",\"northeast\",\"southeast\",\"southwest\",\"southwest\",\"northwest\",\"northwest\",\"southeast\",\"northwest\",\"northeast\",\"northwest\",\"northeast\",\"northeast\",\"southeast\",\"southeast\",\"southeast\",\"southeast\",\"southeast\",\"southeast\",\"southwest\",\"northeast\",\"northeast\",\"southeast\",\"northeast\",\"southeast\",\"northwest\",\"southeast\",\"northeast\",\"southeast\",\"southeast\",\"southeast\",\"northwest\",\"southwest\",\"southwest\",\"southwest\",\"southwest\",\"northwest\",\"northeast\",\"southeast\",\"southeast\",\"northeast\",\"northwest\",\"northwest\",\"southwest\",\"southeast\",\"northeast\",\"northeast\",\"southeast\",\"northwest\",\"southwest\",\"northwest\",\"northwest\",\"northwest\",\"northeast\",\"northeast\",\"southeast\",\"northeast\",\"northeast\",\"southeast\",\"southwest\",\"northeast\",\"southwest\",\"northwest\",\"southeast\",\"southeast\",\"northwest\",\"southwest\",\"southeast\",\"southeast\",\"northeast\",\"southeast\",\"northeast\",\"northeast\",\"northwest\",\"southwest\",\"southwest\",\"northwest\",\"southwest\",\"northeast\",\"northwest\",\"southwest\",\"southeast\",\"southwest\",\"southeast\",\"southeast\",\"northeast\",\"northwest\",\"northeast\",\"southwest\",\"southeast\",\"southeast\",\"southeast\",\"northwest\",\"northwest\",\"northwest\",\"southwest\",\"northwest\",\"southeast\",\"northwest\",\"northeast\",\"northwest\",\"southeast\",\"southeast\",\"northeast\",\"northwest\",\"northwest\",\"northeast\",\"northeast\",\"northwest\",\"southeast\",\"southeast\",\"southeast\",\"southwest\",\"southwest\",\"northeast\",\"northeast\",\"northeast\",\"northeast\",\"southwest\",\"southeast\",\"southeast\",\"southwest\",\"southwest\",\"northwest\",\"northeast\",\"southwest\",\"southeast\",\"northwest\",\"southwest\",\"southwest\",\"northeast\",\"northeast\",\"northwest\",\"northwest\",\"southeast\",\"southwest\",\"northeast\",\"southeast\",\"northwest\",\"southwest\",\"northeast\",\"southeast\",\"southwest\",\"northwest\",\"southwest\",\"southeast\",\"northwest\",\"southwest\",\"southeast\",\"southwest\",\"southwest\",\"southwest\",\"southwest\",\"southeast\",\"southwest\",\"southwest\",\"southwest\",\"northwest\",\"southeast\",\"northeast\",\"southwest\",\"northwest\",\"northwest\",\"southwest\",\"southeast\",\"southeast\",\"southeast\",\"northeast\",\"northwest\",\"southwest\",\"northeast\",\"southeast\",\"northeast\",\"southwest\",\"northwest\",\"northeast\",\"southwest\",\"northeast\",\"southwest\",\"northwest\",\"northeast\",\"southwest\",\"southeast\",\"northeast\",\"northwest\",\"southwest\",\"southeast\",\"southwest\",\"northwest\",\"southwest\",\"northwest\",\"northwest\",\"southeast\",\"southeast\",\"southwest\",\"northeast\",\"northwest\",\"southeast\",\"northeast\",\"southwest\",\"northwest\",\"northwest\",\"southwest\",\"northwest\",\"northeast\",\"northwest\",\"northwest\",\"northwest\",\"southwest\",\"southeast\",\"southeast\",\"southwest\",\"southwest\",\"southeast\",\"northeast\",\"northeast\",\"southeast\",\"southwest\",\"northwest\",\"southwest\",\"northeast\",\"northwest\",\"southwest\",\"northeast\",\"northeast\",\"northeast\",\"southeast\",\"northeast\",\"southeast\",\"northwest\",\"northwest\",\"northeast\",\"southeast\",\"northwest\",\"northwest\",\"southwest\",\"northwest\",\"northeast\",\"northeast\",\"northwest\",\"southeast\",\"southwest\",\"southeast\",\"northwest\",\"northwest\",\"southwest\",\"northwest\",\"northwest\",\"southwest\",\"southeast\",\"northwest\",\"northeast\",\"northwest\",\"southeast\",\"northwest\",\"northwest\",\"northeast\",\"northwest\",\"northeast\",\"southwest\",\"northwest\",\"northeast\",\"northwest\",\"northeast\",\"southwest\",\"northwest\",\"southwest\",\"southeast\",\"southwest\",\"northwest\",\"southwest\",\"northeast\",\"northeast\",\"northwest\",\"southwest\",\"northeast\",\"southeast\",\"northwest\",\"northeast\",\"southwest\",\"northwest\",\"northeast\",\"northeast\",\"northwest\",\"northwest\",\"northwest\",\"northwest\",\"southwest\",\"southeast\",\"southwest\",\"northeast\",\"southwest\",\"northwest\",\"southwest\",\"northwest\",\"northeast\",\"southeast\",\"southeast\",\"southwest\",\"northwest\",\"southeast\",\"northeast\",\"northwest\",\"southeast\",\"northwest\",\"southeast\",\"southwest\",\"southeast\",\"southwest\",\"southeast\",\"southwest\",\"northwest\",\"northwest\",\"northeast\",\"northeast\",\"southeast\",\"southwest\",\"northeast\",\"southwest\",\"southwest\",\"northwest\",\"northeast\",\"northwest\",\"northwest\",\"southeast\",\"northwest\",\"northeast\",\"northeast\",\"northeast\",\"southwest\",\"northeast\",\"southeast\",\"northwest\",\"southwest\",\"southeast\",\"northeast\",\"southwest\",\"northwest\",\"southwest\",\"northwest\",\"southwest\",\"northwest\",\"southeast\",\"northeast\",\"northeast\",\"southeast\",\"southwest\",\"southwest\",\"northeast\",\"southeast\",\"southwest\",\"northwest\"],\"xaxis\":\"x2\",\"yaxis\":\"y2\",\"type\":\"box\"},{\"alignmentgroup\":\"True\",\"bingroup\":\"x\",\"hovertemplate\":\"sex=male\\u003cbr\\u003eregion=%{x}\\u003cbr\\u003ecount=%{y}\\u003cextra\\u003e\\u003c\\u002fextra\\u003e\",\"legendgroup\":\"male\",\"marker\":{\"color\":\"brown\",\"pattern\":{\"shape\":\"\"}},\"name\":\"male\",\"offsetgroup\":\"male\",\"orientation\":\"v\",\"showlegend\":true,\"x\":[\"southeast\",\"southeast\",\"northwest\",\"northwest\",\"northeast\",\"northeast\",\"southwest\",\"southeast\",\"southwest\",\"northeast\",\"southwest\",\"southwest\",\"southeast\",\"northwest\",\"northwest\",\"southwest\",\"southwest\",\"northwest\",\"southwest\",\"northwest\",\"southwest\",\"northeast\",\"southwest\",\"southeast\",\"northeast\",\"southwest\",\"southeast\",\"southwest\",\"southeast\",\"northwest\",\"southeast\",\"northeast\",\"southeast\",\"northwest\",\"northwest\",\"southeast\",\"northeast\",\"southeast\",\"southwest\",\"northwest\",\"southeast\",\"northeast\",\"southeast\",\"northwest\",\"northeast\",\"northwest\",\"southeast\",\"northeast\",\"southwest\",\"northeast\",\"northwest\",\"northwest\",\"southeast\",\"southeast\",\"northwest\",\"southwest\",\"northeast\",\"northeast\",\"southeast\",\"southwest\",\"northeast\",\"northeast\",\"southwest\",\"northwest\",\"southwest\",\"northwest\",\"northeast\",\"northeast\",\"southeast\",\"northwest\",\"northwest\",\"northwest\",\"southwest\",\"northwest\",\"southeast\",\"northwest\",\"southeast\",\"northeast\",\"southeast\",\"southwest\",\"northwest\",\"northeast\",\"northeast\",\"southeast\",\"southwest\",\"northeast\",\"northwest\",\"southwest\",\"northwest\",\"northeast\",\"southeast\",\"northeast\",\"southeast\",\"southeast\",\"southeast\",\"northwest\",\"southwest\",\"southeast\",\"northeast\",\"northeast\",\"southwest\",\"northwest\",\"northwest\",\"southeast\",\"southwest\",\"southwest\",\"southeast\",\"southeast\",\"southeast\",\"northeast\",\"southwest\",\"northwest\",\"southeast\",\"northwest\",\"southeast\",\"southwest\",\"northwest\",\"southeast\",\"southwest\",\"northeast\",\"northeast\",\"southeast\",\"southwest\",\"northeast\",\"northwest\",\"northwest\",\"northwest\",\"northeast\",\"northwest\",\"southeast\",\"southeast\",\"southwest\",\"northeast\",\"southeast\",\"southwest\",\"northwest\",\"northeast\",\"northwest\",\"northwest\",\"southeast\",\"northeast\",\"northeast\",\"southeast\",\"southeast\",\"northeast\",\"southeast\",\"southwest\",\"northeast\",\"southwest\",\"southeast\",\"northwest\",\"northeast\",\"northwest\",\"northeast\",\"southwest\",\"southeast\",\"southeast\",\"northeast\",\"northwest\",\"northeast\",\"northeast\",\"northwest\",\"southwest\",\"northeast\",\"southwest\",\"northeast\",\"northwest\",\"southwest\",\"northwest\",\"southwest\",\"southeast\",\"northwest\",\"northeast\",\"northwest\",\"northeast\",\"southeast\",\"northeast\",\"northwest\",\"northeast\",\"southwest\",\"southeast\",\"northwest\",\"southeast\",\"southwest\",\"northwest\",\"northeast\",\"southwest\",\"southeast\",\"southeast\",\"southeast\",\"northeast\",\"southeast\",\"northeast\",\"southwest\",\"northwest\",\"northeast\",\"northeast\",\"northeast\",\"northwest\",\"southeast\",\"southwest\",\"southeast\",\"northwest\",\"southwest\",\"southeast\",\"southeast\",\"northwest\",\"southwest\",\"southeast\",\"southeast\",\"southeast\",\"southeast\",\"northeast\",\"northeast\",\"southwest\",\"southeast\",\"southwest\",\"southwest\",\"northwest\",\"southeast\",\"northeast\",\"southwest\",\"northeast\",\"southeast\",\"northwest\",\"northeast\",\"southwest\",\"southwest\",\"northwest\",\"southwest\",\"northwest\",\"southeast\",\"southwest\",\"southwest\",\"southwest\",\"northeast\",\"northwest\",\"southeast\",\"southwest\",\"northwest\",\"northeast\",\"northwest\",\"southeast\",\"southeast\",\"northwest\",\"southeast\",\"southwest\",\"southwest\",\"northwest\",\"southwest\",\"southwest\",\"northeast\",\"southwest\",\"southwest\",\"northeast\",\"southeast\",\"southeast\",\"northwest\",\"northwest\",\"northwest\",\"northeast\",\"southeast\",\"northeast\",\"southwest\",\"southwest\",\"southwest\",\"southeast\",\"northwest\",\"northeast\",\"southeast\",\"northeast\",\"northeast\",\"southeast\",\"southeast\",\"southeast\",\"southeast\",\"northeast\",\"southeast\",\"northwest\",\"northwest\",\"northeast\",\"southwest\",\"southwest\",\"southwest\",\"northeast\",\"southeast\",\"northwest\",\"southwest\",\"southeast\",\"northwest\",\"northwest\",\"southeast\",\"southwest\",\"northeast\",\"northwest\",\"southeast\",\"southwest\",\"northeast\",\"northwest\",\"southeast\",\"southeast\",\"southwest\",\"northwest\",\"northeast\",\"southwest\",\"southwest\",\"southwest\",\"southwest\",\"northeast\",\"northwest\",\"northeast\",\"southeast\",\"southwest\",\"southwest\",\"southwest\",\"northeast\",\"southwest\",\"northeast\",\"northeast\",\"southeast\",\"southwest\",\"northwest\",\"northeast\",\"southeast\",\"northeast\",\"northwest\",\"northeast\",\"northwest\",\"southeast\",\"southeast\",\"southeast\",\"southwest\",\"northeast\",\"southeast\",\"southeast\",\"northwest\",\"northwest\",\"southwest\",\"southwest\",\"southwest\",\"northwest\",\"northeast\",\"northeast\",\"southeast\",\"southeast\",\"northeast\",\"southwest\",\"northwest\",\"northwest\",\"southeast\",\"northwest\",\"southeast\",\"northwest\",\"southeast\",\"northeast\",\"southwest\",\"northwest\",\"southwest\",\"southwest\",\"southwest\",\"northwest\",\"southeast\",\"southwest\",\"southwest\",\"northeast\",\"southwest\",\"northeast\",\"southeast\",\"northeast\",\"northwest\",\"southwest\",\"northwest\",\"northwest\",\"northwest\",\"northwest\",\"northeast\",\"northeast\",\"northeast\",\"southeast\",\"southwest\",\"southwest\",\"northeast\",\"southwest\",\"southwest\",\"northwest\",\"southeast\",\"northwest\",\"northeast\",\"southeast\",\"northwest\",\"southwest\",\"southeast\",\"southeast\",\"northeast\",\"northwest\",\"northeast\",\"southwest\",\"southeast\",\"northwest\",\"southeast\",\"northeast\",\"southwest\",\"southeast\",\"southeast\",\"northeast\",\"southeast\",\"northeast\",\"southeast\",\"southwest\",\"southwest\",\"northwest\",\"northwest\",\"southeast\",\"northeast\",\"northeast\",\"northwest\",\"southwest\",\"northwest\",\"northwest\",\"southeast\",\"southwest\",\"southwest\",\"northeast\",\"northeast\",\"southeast\",\"northwest\",\"northwest\",\"northwest\",\"southwest\",\"southwest\",\"southwest\",\"southeast\",\"southwest\",\"northeast\",\"southwest\",\"southeast\",\"southwest\",\"northeast\",\"southeast\",\"southwest\",\"southwest\",\"northwest\",\"northwest\",\"southeast\",\"northeast\",\"southwest\",\"northwest\",\"northeast\",\"southeast\",\"northeast\",\"northwest\",\"northeast\",\"southeast\",\"northeast\",\"southeast\",\"northeast\",\"southwest\",\"northwest\",\"northeast\",\"northwest\",\"northeast\",\"southwest\",\"northwest\",\"southwest\",\"northeast\",\"southeast\",\"southeast\",\"southwest\",\"southeast\",\"northeast\",\"southeast\",\"southeast\",\"southeast\",\"northwest\",\"southeast\",\"southwest\",\"northeast\",\"northwest\",\"southwest\",\"northeast\",\"southeast\",\"southwest\",\"northwest\",\"southeast\",\"southeast\",\"northwest\",\"northeast\",\"northwest\",\"northeast\",\"northwest\",\"southwest\",\"northwest\",\"northwest\",\"northeast\",\"southeast\",\"northeast\",\"southeast\",\"southeast\",\"northeast\",\"northeast\",\"southwest\",\"northeast\",\"northwest\",\"northeast\",\"southeast\",\"northwest\",\"southwest\",\"southwest\",\"southwest\",\"northeast\",\"northwest\",\"northeast\",\"northwest\",\"northeast\",\"northeast\",\"southeast\",\"northwest\",\"northwest\",\"southwest\",\"southeast\",\"southeast\",\"northwest\",\"northwest\",\"southwest\",\"northeast\",\"northwest\",\"southeast\",\"northeast\",\"northwest\",\"northeast\",\"northeast\",\"northeast\",\"southeast\",\"southwest\",\"northeast\",\"northeast\",\"southwest\",\"northwest\",\"northwest\",\"southeast\",\"southeast\",\"southeast\",\"northwest\",\"southeast\",\"northeast\",\"northwest\",\"southeast\",\"northeast\",\"northwest\",\"northeast\",\"southeast\",\"southeast\",\"southeast\",\"northwest\",\"northwest\",\"southwest\",\"northeast\",\"northwest\",\"southeast\",\"southwest\",\"southeast\",\"southwest\",\"southeast\",\"southwest\",\"southeast\",\"southeast\",\"southwest\",\"southwest\",\"southeast\",\"southeast\",\"northeast\",\"southeast\",\"northeast\",\"southeast\",\"southeast\",\"southeast\",\"southwest\",\"southwest\",\"southwest\",\"northeast\",\"northwest\",\"southeast\",\"southeast\",\"southeast\",\"southwest\",\"northwest\",\"southwest\",\"southwest\",\"southwest\",\"southeast\",\"southeast\",\"southeast\",\"southeast\",\"southwest\",\"northeast\",\"northwest\",\"northwest\",\"southeast\",\"northeast\",\"northwest\",\"southeast\",\"northwest\",\"northwest\",\"northwest\",\"northwest\",\"northeast\",\"northwest\",\"southwest\",\"southwest\",\"northwest\",\"southeast\",\"northeast\",\"northeast\",\"southeast\",\"southeast\",\"southeast\",\"southeast\",\"northeast\",\"northeast\",\"southeast\",\"southeast\",\"northeast\",\"northwest\",\"southwest\",\"northwest\",\"northeast\",\"southeast\",\"southeast\",\"southeast\",\"southwest\",\"southwest\",\"northeast\",\"northeast\",\"southwest\",\"southwest\",\"northwest\",\"southwest\",\"southeast\",\"northeast\",\"southwest\",\"northwest\",\"southeast\",\"southeast\",\"southeast\",\"southwest\",\"northeast\",\"southeast\",\"southwest\",\"southwest\",\"southeast\",\"southwest\",\"southeast\",\"northwest\",\"northeast\",\"southwest\",\"northeast\",\"northwest\",\"southeast\",\"northwest\",\"southwest\",\"northeast\",\"northwest\",\"southwest\",\"northwest\",\"southwest\",\"northeast\",\"southeast\",\"northeast\",\"northwest\",\"northeast\",\"southeast\",\"northwest\",\"northeast\",\"southeast\",\"southwest\",\"northwest\"],\"xaxis\":\"x\",\"yaxis\":\"y\",\"type\":\"histogram\"},{\"alignmentgroup\":\"True\",\"hovertemplate\":\"sex=male\\u003cbr\\u003eregion=%{x}\\u003cextra\\u003e\\u003c\\u002fextra\\u003e\",\"legendgroup\":\"male\",\"marker\":{\"color\":\"brown\"},\"name\":\"male\",\"notched\":true,\"offsetgroup\":\"male\",\"showlegend\":false,\"x\":[\"southeast\",\"southeast\",\"northwest\",\"northwest\",\"northeast\",\"northeast\",\"southwest\",\"southeast\",\"southwest\",\"northeast\",\"southwest\",\"southwest\",\"southeast\",\"northwest\",\"northwest\",\"southwest\",\"southwest\",\"northwest\",\"southwest\",\"northwest\",\"southwest\",\"northeast\",\"southwest\",\"southeast\",\"northeast\",\"southwest\",\"southeast\",\"southwest\",\"southeast\",\"northwest\",\"southeast\",\"northeast\",\"southeast\",\"northwest\",\"northwest\",\"southeast\",\"northeast\",\"southeast\",\"southwest\",\"northwest\",\"southeast\",\"northeast\",\"southeast\",\"northwest\",\"northeast\",\"northwest\",\"southeast\",\"northeast\",\"southwest\",\"northeast\",\"northwest\",\"northwest\",\"southeast\",\"southeast\",\"northwest\",\"southwest\",\"northeast\",\"northeast\",\"southeast\",\"southwest\",\"northeast\",\"northeast\",\"southwest\",\"northwest\",\"southwest\",\"northwest\",\"northeast\",\"northeast\",\"southeast\",\"northwest\",\"northwest\",\"northwest\",\"southwest\",\"northwest\",\"southeast\",\"northwest\",\"southeast\",\"northeast\",\"southeast\",\"southwest\",\"northwest\",\"northeast\",\"northeast\",\"southeast\",\"southwest\",\"northeast\",\"northwest\",\"southwest\",\"northwest\",\"northeast\",\"southeast\",\"northeast\",\"southeast\",\"southeast\",\"southeast\",\"northwest\",\"southwest\",\"southeast\",\"northeast\",\"northeast\",\"southwest\",\"northwest\",\"northwest\",\"southeast\",\"southwest\",\"southwest\",\"southeast\",\"southeast\",\"southeast\",\"northeast\",\"southwest\",\"northwest\",\"southeast\",\"northwest\",\"southeast\",\"southwest\",\"northwest\",\"southeast\",\"southwest\",\"northeast\",\"northeast\",\"southeast\",\"southwest\",\"northeast\",\"northwest\",\"northwest\",\"northwest\",\"northeast\",\"northwest\",\"southeast\",\"southeast\",\"southwest\",\"northeast\",\"southeast\",\"southwest\",\"northwest\",\"northeast\",\"northwest\",\"northwest\",\"southeast\",\"northeast\",\"northeast\",\"southeast\",\"southeast\",\"northeast\",\"southeast\",\"southwest\",\"northeast\",\"southwest\",\"southeast\",\"northwest\",\"northeast\",\"northwest\",\"northeast\",\"southwest\",\"southeast\",\"southeast\",\"northeast\",\"northwest\",\"northeast\",\"northeast\",\"northwest\",\"southwest\",\"northeast\",\"southwest\",\"northeast\",\"northwest\",\"southwest\",\"northwest\",\"southwest\",\"southeast\",\"northwest\",\"northeast\",\"northwest\",\"northeast\",\"southeast\",\"northeast\",\"northwest\",\"northeast\",\"southwest\",\"southeast\",\"northwest\",\"southeast\",\"southwest\",\"northwest\",\"northeast\",\"southwest\",\"southeast\",\"southeast\",\"southeast\",\"northeast\",\"southeast\",\"northeast\",\"southwest\",\"northwest\",\"northeast\",\"northeast\",\"northeast\",\"northwest\",\"southeast\",\"southwest\",\"southeast\",\"northwest\",\"southwest\",\"southeast\",\"southeast\",\"northwest\",\"southwest\",\"southeast\",\"southeast\",\"southeast\",\"southeast\",\"northeast\",\"northeast\",\"southwest\",\"southeast\",\"southwest\",\"southwest\",\"northwest\",\"southeast\",\"northeast\",\"southwest\",\"northeast\",\"southeast\",\"northwest\",\"northeast\",\"southwest\",\"southwest\",\"northwest\",\"southwest\",\"northwest\",\"southeast\",\"southwest\",\"southwest\",\"southwest\",\"northeast\",\"northwest\",\"southeast\",\"southwest\",\"northwest\",\"northeast\",\"northwest\",\"southeast\",\"southeast\",\"northwest\",\"southeast\",\"southwest\",\"southwest\",\"northwest\",\"southwest\",\"southwest\",\"northeast\",\"southwest\",\"southwest\",\"northeast\",\"southeast\",\"southeast\",\"northwest\",\"northwest\",\"northwest\",\"northeast\",\"southeast\",\"northeast\",\"southwest\",\"southwest\",\"southwest\",\"southeast\",\"northwest\",\"northeast\",\"southeast\",\"northeast\",\"northeast\",\"southeast\",\"southeast\",\"southeast\",\"southeast\",\"northeast\",\"southeast\",\"northwest\",\"northwest\",\"northeast\",\"southwest\",\"southwest\",\"southwest\",\"northeast\",\"southeast\",\"northwest\",\"southwest\",\"southeast\",\"northwest\",\"northwest\",\"southeast\",\"southwest\",\"northeast\",\"northwest\",\"southeast\",\"southwest\",\"northeast\",\"northwest\",\"southeast\",\"southeast\",\"southwest\",\"northwest\",\"northeast\",\"southwest\",\"southwest\",\"southwest\",\"southwest\",\"northeast\",\"northwest\",\"northeast\",\"southeast\",\"southwest\",\"southwest\",\"southwest\",\"northeast\",\"southwest\",\"northeast\",\"northeast\",\"southeast\",\"southwest\",\"northwest\",\"northeast\",\"southeast\",\"northeast\",\"northwest\",\"northeast\",\"northwest\",\"southeast\",\"southeast\",\"southeast\",\"southwest\",\"northeast\",\"southeast\",\"southeast\",\"northwest\",\"northwest\",\"southwest\",\"southwest\",\"southwest\",\"northwest\",\"northeast\",\"northeast\",\"southeast\",\"southeast\",\"northeast\",\"southwest\",\"northwest\",\"northwest\",\"southeast\",\"northwest\",\"southeast\",\"northwest\",\"southeast\",\"northeast\",\"southwest\",\"northwest\",\"southwest\",\"southwest\",\"southwest\",\"northwest\",\"southeast\",\"southwest\",\"southwest\",\"northeast\",\"southwest\",\"northeast\",\"southeast\",\"northeast\",\"northwest\",\"southwest\",\"northwest\",\"northwest\",\"northwest\",\"northwest\",\"northeast\",\"northeast\",\"northeast\",\"southeast\",\"southwest\",\"southwest\",\"northeast\",\"southwest\",\"southwest\",\"northwest\",\"southeast\",\"northwest\",\"northeast\",\"southeast\",\"northwest\",\"southwest\",\"southeast\",\"southeast\",\"northeast\",\"northwest\",\"northeast\",\"southwest\",\"southeast\",\"northwest\",\"southeast\",\"northeast\",\"southwest\",\"southeast\",\"southeast\",\"northeast\",\"southeast\",\"northeast\",\"southeast\",\"southwest\",\"southwest\",\"northwest\",\"northwest\",\"southeast\",\"northeast\",\"northeast\",\"northwest\",\"southwest\",\"northwest\",\"northwest\",\"southeast\",\"southwest\",\"southwest\",\"northeast\",\"northeast\",\"southeast\",\"northwest\",\"northwest\",\"northwest\",\"southwest\",\"southwest\",\"southwest\",\"southeast\",\"southwest\",\"northeast\",\"southwest\",\"southeast\",\"southwest\",\"northeast\",\"southeast\",\"southwest\",\"southwest\",\"northwest\",\"northwest\",\"southeast\",\"northeast\",\"southwest\",\"northwest\",\"northeast\",\"southeast\",\"northeast\",\"northwest\",\"northeast\",\"southeast\",\"northeast\",\"southeast\",\"northeast\",\"southwest\",\"northwest\",\"northeast\",\"northwest\",\"northeast\",\"southwest\",\"northwest\",\"southwest\",\"northeast\",\"southeast\",\"southeast\",\"southwest\",\"southeast\",\"northeast\",\"southeast\",\"southeast\",\"southeast\",\"northwest\",\"southeast\",\"southwest\",\"northeast\",\"northwest\",\"southwest\",\"northeast\",\"southeast\",\"southwest\",\"northwest\",\"southeast\",\"southeast\",\"northwest\",\"northeast\",\"northwest\",\"northeast\",\"northwest\",\"southwest\",\"northwest\",\"northwest\",\"northeast\",\"southeast\",\"northeast\",\"southeast\",\"southeast\",\"northeast\",\"northeast\",\"southwest\",\"northeast\",\"northwest\",\"northeast\",\"southeast\",\"northwest\",\"southwest\",\"southwest\",\"southwest\",\"northeast\",\"northwest\",\"northeast\",\"northwest\",\"northeast\",\"northeast\",\"southeast\",\"northwest\",\"northwest\",\"southwest\",\"southeast\",\"southeast\",\"northwest\",\"northwest\",\"southwest\",\"northeast\",\"northwest\",\"southeast\",\"northeast\",\"northwest\",\"northeast\",\"northeast\",\"northeast\",\"southeast\",\"southwest\",\"northeast\",\"northeast\",\"southwest\",\"northwest\",\"northwest\",\"southeast\",\"southeast\",\"southeast\",\"northwest\",\"southeast\",\"northeast\",\"northwest\",\"southeast\",\"northeast\",\"northwest\",\"northeast\",\"southeast\",\"southeast\",\"southeast\",\"northwest\",\"northwest\",\"southwest\",\"northeast\",\"northwest\",\"southeast\",\"southwest\",\"southeast\",\"southwest\",\"southeast\",\"southwest\",\"southeast\",\"southeast\",\"southwest\",\"southwest\",\"southeast\",\"southeast\",\"northeast\",\"southeast\",\"northeast\",\"southeast\",\"southeast\",\"southeast\",\"southwest\",\"southwest\",\"southwest\",\"northeast\",\"northwest\",\"southeast\",\"southeast\",\"southeast\",\"southwest\",\"northwest\",\"southwest\",\"southwest\",\"southwest\",\"southeast\",\"southeast\",\"southeast\",\"southeast\",\"southwest\",\"northeast\",\"northwest\",\"northwest\",\"southeast\",\"northeast\",\"northwest\",\"southeast\",\"northwest\",\"northwest\",\"northwest\",\"northwest\",\"northeast\",\"northwest\",\"southwest\",\"southwest\",\"northwest\",\"southeast\",\"northeast\",\"northeast\",\"southeast\",\"southeast\",\"southeast\",\"southeast\",\"northeast\",\"northeast\",\"southeast\",\"southeast\",\"northeast\",\"northwest\",\"southwest\",\"northwest\",\"northeast\",\"southeast\",\"southeast\",\"southeast\",\"southwest\",\"southwest\",\"northeast\",\"northeast\",\"southwest\",\"southwest\",\"northwest\",\"southwest\",\"southeast\",\"northeast\",\"southwest\",\"northwest\",\"southeast\",\"southeast\",\"southeast\",\"southwest\",\"northeast\",\"southeast\",\"southwest\",\"southwest\",\"southeast\",\"southwest\",\"southeast\",\"northwest\",\"northeast\",\"southwest\",\"northeast\",\"northwest\",\"southeast\",\"northwest\",\"southwest\",\"northeast\",\"northwest\",\"southwest\",\"northwest\",\"southwest\",\"northeast\",\"southeast\",\"northeast\",\"northwest\",\"northeast\",\"southeast\",\"northwest\",\"northeast\",\"southeast\",\"southwest\",\"northwest\"],\"xaxis\":\"x2\",\"yaxis\":\"y2\",\"type\":\"box\"}],                        {\"template\":{\"data\":{\"histogram2dcontour\":[{\"type\":\"histogram2dcontour\",\"colorbar\":{\"outlinewidth\":0,\"ticks\":\"\"},\"colorscale\":[[0.0,\"#0d0887\"],[0.1111111111111111,\"#46039f\"],[0.2222222222222222,\"#7201a8\"],[0.3333333333333333,\"#9c179e\"],[0.4444444444444444,\"#bd3786\"],[0.5555555555555556,\"#d8576b\"],[0.6666666666666666,\"#ed7953\"],[0.7777777777777778,\"#fb9f3a\"],[0.8888888888888888,\"#fdca26\"],[1.0,\"#f0f921\"]]}],\"choropleth\":[{\"type\":\"choropleth\",\"colorbar\":{\"outlinewidth\":0,\"ticks\":\"\"}}],\"histogram2d\":[{\"type\":\"histogram2d\",\"colorbar\":{\"outlinewidth\":0,\"ticks\":\"\"},\"colorscale\":[[0.0,\"#0d0887\"],[0.1111111111111111,\"#46039f\"],[0.2222222222222222,\"#7201a8\"],[0.3333333333333333,\"#9c179e\"],[0.4444444444444444,\"#bd3786\"],[0.5555555555555556,\"#d8576b\"],[0.6666666666666666,\"#ed7953\"],[0.7777777777777778,\"#fb9f3a\"],[0.8888888888888888,\"#fdca26\"],[1.0,\"#f0f921\"]]}],\"heatmap\":[{\"type\":\"heatmap\",\"colorbar\":{\"outlinewidth\":0,\"ticks\":\"\"},\"colorscale\":[[0.0,\"#0d0887\"],[0.1111111111111111,\"#46039f\"],[0.2222222222222222,\"#7201a8\"],[0.3333333333333333,\"#9c179e\"],[0.4444444444444444,\"#bd3786\"],[0.5555555555555556,\"#d8576b\"],[0.6666666666666666,\"#ed7953\"],[0.7777777777777778,\"#fb9f3a\"],[0.8888888888888888,\"#fdca26\"],[1.0,\"#f0f921\"]]}],\"heatmapgl\":[{\"type\":\"heatmapgl\",\"colorbar\":{\"outlinewidth\":0,\"ticks\":\"\"},\"colorscale\":[[0.0,\"#0d0887\"],[0.1111111111111111,\"#46039f\"],[0.2222222222222222,\"#7201a8\"],[0.3333333333333333,\"#9c179e\"],[0.4444444444444444,\"#bd3786\"],[0.5555555555555556,\"#d8576b\"],[0.6666666666666666,\"#ed7953\"],[0.7777777777777778,\"#fb9f3a\"],[0.8888888888888888,\"#fdca26\"],[1.0,\"#f0f921\"]]}],\"contourcarpet\":[{\"type\":\"contourcarpet\",\"colorbar\":{\"outlinewidth\":0,\"ticks\":\"\"}}],\"contour\":[{\"type\":\"contour\",\"colorbar\":{\"outlinewidth\":0,\"ticks\":\"\"},\"colorscale\":[[0.0,\"#0d0887\"],[0.1111111111111111,\"#46039f\"],[0.2222222222222222,\"#7201a8\"],[0.3333333333333333,\"#9c179e\"],[0.4444444444444444,\"#bd3786\"],[0.5555555555555556,\"#d8576b\"],[0.6666666666666666,\"#ed7953\"],[0.7777777777777778,\"#fb9f3a\"],[0.8888888888888888,\"#fdca26\"],[1.0,\"#f0f921\"]]}],\"surface\":[{\"type\":\"surface\",\"colorbar\":{\"outlinewidth\":0,\"ticks\":\"\"},\"colorscale\":[[0.0,\"#0d0887\"],[0.1111111111111111,\"#46039f\"],[0.2222222222222222,\"#7201a8\"],[0.3333333333333333,\"#9c179e\"],[0.4444444444444444,\"#bd3786\"],[0.5555555555555556,\"#d8576b\"],[0.6666666666666666,\"#ed7953\"],[0.7777777777777778,\"#fb9f3a\"],[0.8888888888888888,\"#fdca26\"],[1.0,\"#f0f921\"]]}],\"mesh3d\":[{\"type\":\"mesh3d\",\"colorbar\":{\"outlinewidth\":0,\"ticks\":\"\"}}],\"scatter\":[{\"fillpattern\":{\"fillmode\":\"overlay\",\"size\":10,\"solidity\":0.2},\"type\":\"scatter\"}],\"parcoords\":[{\"type\":\"parcoords\",\"line\":{\"colorbar\":{\"outlinewidth\":0,\"ticks\":\"\"}}}],\"scatterpolargl\":[{\"type\":\"scatterpolargl\",\"marker\":{\"colorbar\":{\"outlinewidth\":0,\"ticks\":\"\"}}}],\"bar\":[{\"error_x\":{\"color\":\"#2a3f5f\"},\"error_y\":{\"color\":\"#2a3f5f\"},\"marker\":{\"line\":{\"color\":\"#E5ECF6\",\"width\":0.5},\"pattern\":{\"fillmode\":\"overlay\",\"size\":10,\"solidity\":0.2}},\"type\":\"bar\"}],\"scattergeo\":[{\"type\":\"scattergeo\",\"marker\":{\"colorbar\":{\"outlinewidth\":0,\"ticks\":\"\"}}}],\"scatterpolar\":[{\"type\":\"scatterpolar\",\"marker\":{\"colorbar\":{\"outlinewidth\":0,\"ticks\":\"\"}}}],\"histogram\":[{\"marker\":{\"pattern\":{\"fillmode\":\"overlay\",\"size\":10,\"solidity\":0.2}},\"type\":\"histogram\"}],\"scattergl\":[{\"type\":\"scattergl\",\"marker\":{\"colorbar\":{\"outlinewidth\":0,\"ticks\":\"\"}}}],\"scatter3d\":[{\"type\":\"scatter3d\",\"line\":{\"colorbar\":{\"outlinewidth\":0,\"ticks\":\"\"}},\"marker\":{\"colorbar\":{\"outlinewidth\":0,\"ticks\":\"\"}}}],\"scattermapbox\":[{\"type\":\"scattermapbox\",\"marker\":{\"colorbar\":{\"outlinewidth\":0,\"ticks\":\"\"}}}],\"scatterternary\":[{\"type\":\"scatterternary\",\"marker\":{\"colorbar\":{\"outlinewidth\":0,\"ticks\":\"\"}}}],\"scattercarpet\":[{\"type\":\"scattercarpet\",\"marker\":{\"colorbar\":{\"outlinewidth\":0,\"ticks\":\"\"}}}],\"carpet\":[{\"aaxis\":{\"endlinecolor\":\"#2a3f5f\",\"gridcolor\":\"white\",\"linecolor\":\"white\",\"minorgridcolor\":\"white\",\"startlinecolor\":\"#2a3f5f\"},\"baxis\":{\"endlinecolor\":\"#2a3f5f\",\"gridcolor\":\"white\",\"linecolor\":\"white\",\"minorgridcolor\":\"white\",\"startlinecolor\":\"#2a3f5f\"},\"type\":\"carpet\"}],\"table\":[{\"cells\":{\"fill\":{\"color\":\"#EBF0F8\"},\"line\":{\"color\":\"white\"}},\"header\":{\"fill\":{\"color\":\"#C8D4E3\"},\"line\":{\"color\":\"white\"}},\"type\":\"table\"}],\"barpolar\":[{\"marker\":{\"line\":{\"color\":\"#E5ECF6\",\"width\":0.5},\"pattern\":{\"fillmode\":\"overlay\",\"size\":10,\"solidity\":0.2}},\"type\":\"barpolar\"}],\"pie\":[{\"automargin\":true,\"type\":\"pie\"}]},\"layout\":{\"autotypenumbers\":\"strict\",\"colorway\":[\"#636efa\",\"#EF553B\",\"#00cc96\",\"#ab63fa\",\"#FFA15A\",\"#19d3f3\",\"#FF6692\",\"#B6E880\",\"#FF97FF\",\"#FECB52\"],\"font\":{\"color\":\"#2a3f5f\"},\"hovermode\":\"closest\",\"hoverlabel\":{\"align\":\"left\"},\"paper_bgcolor\":\"white\",\"plot_bgcolor\":\"#E5ECF6\",\"polar\":{\"bgcolor\":\"#E5ECF6\",\"angularaxis\":{\"gridcolor\":\"white\",\"linecolor\":\"white\",\"ticks\":\"\"},\"radialaxis\":{\"gridcolor\":\"white\",\"linecolor\":\"white\",\"ticks\":\"\"}},\"ternary\":{\"bgcolor\":\"#E5ECF6\",\"aaxis\":{\"gridcolor\":\"white\",\"linecolor\":\"white\",\"ticks\":\"\"},\"baxis\":{\"gridcolor\":\"white\",\"linecolor\":\"white\",\"ticks\":\"\"},\"caxis\":{\"gridcolor\":\"white\",\"linecolor\":\"white\",\"ticks\":\"\"}},\"coloraxis\":{\"colorbar\":{\"outlinewidth\":0,\"ticks\":\"\"}},\"colorscale\":{\"sequential\":[[0.0,\"#0d0887\"],[0.1111111111111111,\"#46039f\"],[0.2222222222222222,\"#7201a8\"],[0.3333333333333333,\"#9c179e\"],[0.4444444444444444,\"#bd3786\"],[0.5555555555555556,\"#d8576b\"],[0.6666666666666666,\"#ed7953\"],[0.7777777777777778,\"#fb9f3a\"],[0.8888888888888888,\"#fdca26\"],[1.0,\"#f0f921\"]],\"sequentialminus\":[[0.0,\"#0d0887\"],[0.1111111111111111,\"#46039f\"],[0.2222222222222222,\"#7201a8\"],[0.3333333333333333,\"#9c179e\"],[0.4444444444444444,\"#bd3786\"],[0.5555555555555556,\"#d8576b\"],[0.6666666666666666,\"#ed7953\"],[0.7777777777777778,\"#fb9f3a\"],[0.8888888888888888,\"#fdca26\"],[1.0,\"#f0f921\"]],\"diverging\":[[0,\"#8e0152\"],[0.1,\"#c51b7d\"],[0.2,\"#de77ae\"],[0.3,\"#f1b6da\"],[0.4,\"#fde0ef\"],[0.5,\"#f7f7f7\"],[0.6,\"#e6f5d0\"],[0.7,\"#b8e186\"],[0.8,\"#7fbc41\"],[0.9,\"#4d9221\"],[1,\"#276419\"]]},\"xaxis\":{\"gridcolor\":\"white\",\"linecolor\":\"white\",\"ticks\":\"\",\"title\":{\"standoff\":15},\"zerolinecolor\":\"white\",\"automargin\":true,\"zerolinewidth\":2},\"yaxis\":{\"gridcolor\":\"white\",\"linecolor\":\"white\",\"ticks\":\"\",\"title\":{\"standoff\":15},\"zerolinecolor\":\"white\",\"automargin\":true,\"zerolinewidth\":2},\"scene\":{\"xaxis\":{\"backgroundcolor\":\"#E5ECF6\",\"gridcolor\":\"white\",\"linecolor\":\"white\",\"showbackground\":true,\"ticks\":\"\",\"zerolinecolor\":\"white\",\"gridwidth\":2},\"yaxis\":{\"backgroundcolor\":\"#E5ECF6\",\"gridcolor\":\"white\",\"linecolor\":\"white\",\"showbackground\":true,\"ticks\":\"\",\"zerolinecolor\":\"white\",\"gridwidth\":2},\"zaxis\":{\"backgroundcolor\":\"#E5ECF6\",\"gridcolor\":\"white\",\"linecolor\":\"white\",\"showbackground\":true,\"ticks\":\"\",\"zerolinecolor\":\"white\",\"gridwidth\":2}},\"shapedefaults\":{\"line\":{\"color\":\"#2a3f5f\"}},\"annotationdefaults\":{\"arrowcolor\":\"#2a3f5f\",\"arrowhead\":0,\"arrowwidth\":1},\"geo\":{\"bgcolor\":\"white\",\"landcolor\":\"#E5ECF6\",\"subunitcolor\":\"white\",\"showland\":true,\"showlakes\":true,\"lakecolor\":\"white\"},\"title\":{\"x\":0.05},\"mapbox\":{\"style\":\"light\"}}},\"xaxis\":{\"anchor\":\"y\",\"domain\":[0.0,1.0],\"title\":{\"text\":\"region\"}},\"yaxis\":{\"anchor\":\"x\",\"domain\":[0.0,0.7326],\"title\":{\"text\":\"count\"}},\"xaxis2\":{\"anchor\":\"y2\",\"domain\":[0.0,1.0],\"matches\":\"x\",\"showticklabels\":false,\"showgrid\":true},\"yaxis2\":{\"anchor\":\"x2\",\"domain\":[0.7426,1.0],\"matches\":\"y2\",\"showticklabels\":false,\"showline\":false,\"ticks\":\"\",\"showgrid\":false},\"legend\":{\"title\":{\"text\":\"sex\"},\"tracegroupgap\":0},\"title\":{\"text\":\"Distribution based on sex\"},\"barmode\":\"relative\",\"bargap\":0.1},                        {\"responsive\": true}                    ).then(function(){\n",
              "                            \n",
              "var gd = document.getElementById('e2494faa-7db3-4279-baca-fbe43481af58');\n",
              "var x = new MutationObserver(function (mutations, observer) {{\n",
              "        var display = window.getComputedStyle(gd).display;\n",
              "        if (!display || display === 'none') {{\n",
              "            console.log([gd, 'removed!']);\n",
              "            Plotly.purge(gd);\n",
              "            observer.disconnect();\n",
              "        }}\n",
              "}});\n",
              "\n",
              "// Listen for the removal of the full notebook cells\n",
              "var notebookContainer = gd.closest('#notebook-container');\n",
              "if (notebookContainer) {{\n",
              "    x.observe(notebookContainer, {childList: true});\n",
              "}}\n",
              "\n",
              "// Listen for the clearing of the current output cell\n",
              "var outputEl = gd.closest('.output');\n",
              "if (outputEl) {{\n",
              "    x.observe(outputEl, {childList: true});\n",
              "}}\n",
              "\n",
              "                        })                };                            </script>        </div>\n",
              "</body>\n",
              "</html>"
            ]
          },
          "metadata": {}
        }
      ],
      "source": [
        "fgi_sex = px.histogram(medical_df,\n",
        "                       x='region',\n",
        "                       marginal='box',\n",
        "                       color=\"sex\",\n",
        "                       color_discrete_sequence=[\"grey\",\"brown\"],\n",
        "                       title=\"Distribution based on sex\")\n",
        "fgi_sex.update_layout(bargap=0.1)\n",
        "fgi_sex.show()"
      ]
    },
    {
      "cell_type": "code",
      "execution_count": 45,
      "id": "1cfe24e5",
      "metadata": {
        "colab": {
          "base_uri": "https://localhost:8080/",
          "height": 542
        },
        "id": "1cfe24e5",
        "outputId": "b7db01cb-5e9e-4d37-a947-c1a234cb7e6c"
      },
      "outputs": [
        {
          "output_type": "display_data",
          "data": {
            "text/html": [
              "<html>\n",
              "<head><meta charset=\"utf-8\" /></head>\n",
              "<body>\n",
              "    <div>            <script src=\"https://cdnjs.cloudflare.com/ajax/libs/mathjax/2.7.5/MathJax.js?config=TeX-AMS-MML_SVG\"></script><script type=\"text/javascript\">if (window.MathJax && window.MathJax.Hub && window.MathJax.Hub.Config) {window.MathJax.Hub.Config({SVG: {font: \"STIX-Web\"}});}</script>                <script type=\"text/javascript\">window.PlotlyConfig = {MathJaxConfig: 'local'};</script>\n",
              "        <script charset=\"utf-8\" src=\"https://cdn.plot.ly/plotly-2.24.1.min.js\"></script>                <div id=\"71988b57-18bc-43b0-aba6-7737155d6802\" class=\"plotly-graph-div\" style=\"height:525px; width:100%;\"></div>            <script type=\"text/javascript\">                                    window.PLOTLYENV=window.PLOTLYENV || {};                                    if (document.getElementById(\"71988b57-18bc-43b0-aba6-7737155d6802\")) {                    Plotly.newPlot(                        \"71988b57-18bc-43b0-aba6-7737155d6802\",                        [{\"alignmentgroup\":\"True\",\"bingroup\":\"x\",\"hovertemplate\":\"sex=female\\u003cbr\\u003eage=%{x}\\u003cbr\\u003ecount=%{y}\\u003cextra\\u003e\\u003c\\u002fextra\\u003e\",\"legendgroup\":\"female\",\"marker\":{\"color\":\"grey\",\"pattern\":{\"shape\":\"\"}},\"name\":\"female\",\"offsetgroup\":\"female\",\"orientation\":\"v\",\"showlegend\":true,\"x\":[19,31,46,37,60,62,56,52,60,30,34,59,63,55,18,19,62,24,31,37,18,28,60,18,21,40,58,53,34,28,20,19,61,40,27,53,29,22,41,45,48,37,57,56,46,55,21,53,64,28,54,41,18,61,34,19,55,21,29,49,37,20,47,26,19,52,32,59,61,53,20,22,54,22,29,51,53,32,42,40,50,42,18,32,20,32,19,35,24,63,46,41,18,44,26,30,41,29,36,56,39,45,51,64,19,48,60,27,28,63,34,45,41,53,26,24,34,53,58,41,42,59,19,40,18,23,33,55,63,60,63,55,38,58,20,53,59,47,22,51,40,55,52,46,63,59,28,22,48,53,56,28,57,28,30,41,19,27,44,26,27,64,61,61,56,43,46,24,60,49,34,36,57,50,30,18,18,48,19,21,21,49,56,42,61,57,42,23,39,64,27,35,58,26,24,19,46,43,18,51,64,52,33,47,44,26,19,43,36,63,38,18,21,27,29,60,52,31,33,59,45,56,40,55,57,40,49,62,30,60,56,28,18,18,19,47,18,51,31,54,44,19,61,18,31,44,62,38,24,57,35,50,32,51,38,18,19,51,62,33,46,46,34,20,63,54,54,25,43,32,52,25,35,46,54,18,19,38,49,31,18,30,62,57,58,31,25,32,33,34,61,38,58,21,46,42,34,52,18,56,64,19,51,27,59,47,38,18,34,20,47,56,19,55,49,29,44,29,19,35,23,40,58,49,53,48,45,59,52,26,48,57,57,32,64,40,40,29,41,44,55,49,21,33,47,27,26,53,23,21,50,34,47,33,51,31,36,50,43,24,49,51,58,51,50,30,29,18,41,24,48,59,49,37,31,50,47,37,58,39,47,22,45,57,42,64,38,53,44,19,50,31,35,62,39,22,39,30,58,42,64,18,45,40,19,46,33,20,24,47,33,18,44,64,36,28,56,35,59,23,57,60,51,27,37,46,53,49,20,48,25,37,38,55,36,25,26,23,49,37,21,51,36,64,36,61,43,18,19,60,26,44,32,59,44,24,43,61,35,62,62,19,57,62,39,45,59,39,50,18,56,30,19,29,63,39,50,34,22,19,45,36,27,44,45,24,26,38,50,27,39,39,63,33,36,48,61,38,19,26,54,21,22,47,21,37,46,55,30,54,45,35,28,43,43,25,44,27,48,45,24,29,42,54,54,60,32,47,62,39,55,22,50,18,51,52,25,33,54,49,50,54,48,28,30,23,53,27,23,63,35,19,39,52,50,44,26,19,41,52,20,18,58,43,35,48,36,23,20,32,43,18,41,35,29,37,43,56,22,52,40,23,42,24,25,48,23,62,43,23,31,41,58,48,31,19,19,31,18,59,37,52,27,46,38,30,20,33,20,54,45,63,58,25,22,28,45,18,40,34,42,51,54,52,32,41,43,49,55,20,25,22,32,25,48,47,18,47,28,36,38,28,19,25,24,29,25,33,19,30,19,39,42,42,23,57,23,52,18,18,21,61],\"xaxis\":\"x\",\"yaxis\":\"y\",\"type\":\"histogram\"},{\"alignmentgroup\":\"True\",\"hovertemplate\":\"sex=female\\u003cbr\\u003eage=%{x}\\u003cextra\\u003e\\u003c\\u002fextra\\u003e\",\"legendgroup\":\"female\",\"marker\":{\"color\":\"grey\"},\"name\":\"female\",\"notched\":true,\"offsetgroup\":\"female\",\"showlegend\":false,\"x\":[19,31,46,37,60,62,56,52,60,30,34,59,63,55,18,19,62,24,31,37,18,28,60,18,21,40,58,53,34,28,20,19,61,40,27,53,29,22,41,45,48,37,57,56,46,55,21,53,64,28,54,41,18,61,34,19,55,21,29,49,37,20,47,26,19,52,32,59,61,53,20,22,54,22,29,51,53,32,42,40,50,42,18,32,20,32,19,35,24,63,46,41,18,44,26,30,41,29,36,56,39,45,51,64,19,48,60,27,28,63,34,45,41,53,26,24,34,53,58,41,42,59,19,40,18,23,33,55,63,60,63,55,38,58,20,53,59,47,22,51,40,55,52,46,63,59,28,22,48,53,56,28,57,28,30,41,19,27,44,26,27,64,61,61,56,43,46,24,60,49,34,36,57,50,30,18,18,48,19,21,21,49,56,42,61,57,42,23,39,64,27,35,58,26,24,19,46,43,18,51,64,52,33,47,44,26,19,43,36,63,38,18,21,27,29,60,52,31,33,59,45,56,40,55,57,40,49,62,30,60,56,28,18,18,19,47,18,51,31,54,44,19,61,18,31,44,62,38,24,57,35,50,32,51,38,18,19,51,62,33,46,46,34,20,63,54,54,25,43,32,52,25,35,46,54,18,19,38,49,31,18,30,62,57,58,31,25,32,33,34,61,38,58,21,46,42,34,52,18,56,64,19,51,27,59,47,38,18,34,20,47,56,19,55,49,29,44,29,19,35,23,40,58,49,53,48,45,59,52,26,48,57,57,32,64,40,40,29,41,44,55,49,21,33,47,27,26,53,23,21,50,34,47,33,51,31,36,50,43,24,49,51,58,51,50,30,29,18,41,24,48,59,49,37,31,50,47,37,58,39,47,22,45,57,42,64,38,53,44,19,50,31,35,62,39,22,39,30,58,42,64,18,45,40,19,46,33,20,24,47,33,18,44,64,36,28,56,35,59,23,57,60,51,27,37,46,53,49,20,48,25,37,38,55,36,25,26,23,49,37,21,51,36,64,36,61,43,18,19,60,26,44,32,59,44,24,43,61,35,62,62,19,57,62,39,45,59,39,50,18,56,30,19,29,63,39,50,34,22,19,45,36,27,44,45,24,26,38,50,27,39,39,63,33,36,48,61,38,19,26,54,21,22,47,21,37,46,55,30,54,45,35,28,43,43,25,44,27,48,45,24,29,42,54,54,60,32,47,62,39,55,22,50,18,51,52,25,33,54,49,50,54,48,28,30,23,53,27,23,63,35,19,39,52,50,44,26,19,41,52,20,18,58,43,35,48,36,23,20,32,43,18,41,35,29,37,43,56,22,52,40,23,42,24,25,48,23,62,43,23,31,41,58,48,31,19,19,31,18,59,37,52,27,46,38,30,20,33,20,54,45,63,58,25,22,28,45,18,40,34,42,51,54,52,32,41,43,49,55,20,25,22,32,25,48,47,18,47,28,36,38,28,19,25,24,29,25,33,19,30,19,39,42,42,23,57,23,52,18,18,21,61],\"xaxis\":\"x2\",\"yaxis\":\"y2\",\"type\":\"box\"},{\"alignmentgroup\":\"True\",\"bingroup\":\"x\",\"hovertemplate\":\"sex=male\\u003cbr\\u003eage=%{x}\\u003cbr\\u003ecount=%{y}\\u003cextra\\u003e\\u003c\\u002fextra\\u003e\",\"legendgroup\":\"male\",\"marker\":{\"color\":\"black\",\"pattern\":{\"shape\":\"\"}},\"name\":\"male\",\"offsetgroup\":\"male\",\"orientation\":\"v\",\"showlegend\":true,\"x\":[18,28,33,32,37,25,23,27,19,23,56,30,18,37,23,31,22,63,28,19,26,35,60,41,38,55,36,48,36,58,18,43,25,64,40,28,31,58,44,57,21,31,22,45,59,35,55,56,38,30,20,26,29,63,54,37,52,60,58,44,18,44,38,19,19,22,34,26,34,29,30,46,19,35,48,44,48,18,30,54,37,47,27,63,49,18,38,54,58,22,44,36,61,25,18,19,46,59,35,40,20,40,24,27,32,19,42,55,28,47,59,39,31,19,44,40,54,24,19,29,18,54,27,50,56,51,19,52,19,46,40,45,49,18,50,41,50,25,19,59,54,30,46,52,29,25,25,18,19,47,31,36,29,58,50,43,49,52,50,54,32,34,34,57,29,40,45,52,52,64,60,62,50,62,63,33,46,19,33,46,46,47,23,35,44,18,26,20,24,62,55,55,44,19,50,48,48,49,46,21,64,47,49,31,38,32,19,25,52,64,64,61,40,25,48,45,19,42,31,60,22,35,26,18,56,60,35,39,30,24,20,32,59,56,42,56,19,27,54,61,24,25,21,23,63,49,48,19,53,61,21,20,45,29,43,51,19,37,22,21,56,27,51,19,39,58,20,45,31,42,46,18,57,59,37,64,38,53,54,49,28,63,62,28,46,34,19,27,50,41,48,22,52,59,19,39,19,21,47,20,41,43,51,28,30,49,30,37,18,59,36,33,58,53,24,40,51,64,39,56,33,42,61,43,48,39,18,27,37,18,43,49,62,30,36,45,60,56,19,39,53,53,42,40,27,21,47,20,24,41,56,53,49,18,20,60,60,53,62,19,41,35,53,26,23,29,45,27,53,50,34,19,28,21,64,24,31,30,18,23,33,27,47,61,41,51,40,45,35,53,30,18,51,60,21,29,19,53,27,30,33,21,23,18,25,54,28,36,23,45,26,60,56,36,41,39,63,58,36,42,36,21,59,53,23,55,61,25,57,51,40,18,57,61,50,42,43,44,33,41,22,23,25,32,57,22,57,54,47,62,19,49,60,26,49,27,63,22,18,33,45,38,34,43,50,41,26,46,32,44,18,53,18,19,62,42,37,42,25,57,51,44,34,31,54,24,43,48,46,52,35,51,44,21,26,29,48,26,54,34,31,20,43,34,38,30,24,24,48,47,29,28,47,25,51,43,48,59,51,47,18,19,23,54,18,61,22,22,19,18,20,55,22,49,64,49,47,55,32,24,57,59,36,48,39,63,37,63,21,21,28,63,18,32,38,32,55,57,52,56,47,23,22,53,29,58,37,26,45,38,23,55,41,25,33,46,55,34,27,57,28,33,50,39,50,52,60,55,42,19,34,30,57,32,18,38,29,31,45,20,41,40,37,46,22,51,35,36,59,36,39,18,18,40,29,40,50,41,38,42,56,58,52,58,26,37,52,64,18,28,33,32,24,19,20,55,28,64,24,45,26,43,35,26,57,39,18,61,20,44,19,21,46,58,20,18,33,45,62,43,42,32,41,42,34,18,18,35,31,62,62,31,61,51,52,50],\"xaxis\":\"x\",\"yaxis\":\"y\",\"type\":\"histogram\"},{\"alignmentgroup\":\"True\",\"hovertemplate\":\"sex=male\\u003cbr\\u003eage=%{x}\\u003cextra\\u003e\\u003c\\u002fextra\\u003e\",\"legendgroup\":\"male\",\"marker\":{\"color\":\"black\"},\"name\":\"male\",\"notched\":true,\"offsetgroup\":\"male\",\"showlegend\":false,\"x\":[18,28,33,32,37,25,23,27,19,23,56,30,18,37,23,31,22,63,28,19,26,35,60,41,38,55,36,48,36,58,18,43,25,64,40,28,31,58,44,57,21,31,22,45,59,35,55,56,38,30,20,26,29,63,54,37,52,60,58,44,18,44,38,19,19,22,34,26,34,29,30,46,19,35,48,44,48,18,30,54,37,47,27,63,49,18,38,54,58,22,44,36,61,25,18,19,46,59,35,40,20,40,24,27,32,19,42,55,28,47,59,39,31,19,44,40,54,24,19,29,18,54,27,50,56,51,19,52,19,46,40,45,49,18,50,41,50,25,19,59,54,30,46,52,29,25,25,18,19,47,31,36,29,58,50,43,49,52,50,54,32,34,34,57,29,40,45,52,52,64,60,62,50,62,63,33,46,19,33,46,46,47,23,35,44,18,26,20,24,62,55,55,44,19,50,48,48,49,46,21,64,47,49,31,38,32,19,25,52,64,64,61,40,25,48,45,19,42,31,60,22,35,26,18,56,60,35,39,30,24,20,32,59,56,42,56,19,27,54,61,24,25,21,23,63,49,48,19,53,61,21,20,45,29,43,51,19,37,22,21,56,27,51,19,39,58,20,45,31,42,46,18,57,59,37,64,38,53,54,49,28,63,62,28,46,34,19,27,50,41,48,22,52,59,19,39,19,21,47,20,41,43,51,28,30,49,30,37,18,59,36,33,58,53,24,40,51,64,39,56,33,42,61,43,48,39,18,27,37,18,43,49,62,30,36,45,60,56,19,39,53,53,42,40,27,21,47,20,24,41,56,53,49,18,20,60,60,53,62,19,41,35,53,26,23,29,45,27,53,50,34,19,28,21,64,24,31,30,18,23,33,27,47,61,41,51,40,45,35,53,30,18,51,60,21,29,19,53,27,30,33,21,23,18,25,54,28,36,23,45,26,60,56,36,41,39,63,58,36,42,36,21,59,53,23,55,61,25,57,51,40,18,57,61,50,42,43,44,33,41,22,23,25,32,57,22,57,54,47,62,19,49,60,26,49,27,63,22,18,33,45,38,34,43,50,41,26,46,32,44,18,53,18,19,62,42,37,42,25,57,51,44,34,31,54,24,43,48,46,52,35,51,44,21,26,29,48,26,54,34,31,20,43,34,38,30,24,24,48,47,29,28,47,25,51,43,48,59,51,47,18,19,23,54,18,61,22,22,19,18,20,55,22,49,64,49,47,55,32,24,57,59,36,48,39,63,37,63,21,21,28,63,18,32,38,32,55,57,52,56,47,23,22,53,29,58,37,26,45,38,23,55,41,25,33,46,55,34,27,57,28,33,50,39,50,52,60,55,42,19,34,30,57,32,18,38,29,31,45,20,41,40,37,46,22,51,35,36,59,36,39,18,18,40,29,40,50,41,38,42,56,58,52,58,26,37,52,64,18,28,33,32,24,19,20,55,28,64,24,45,26,43,35,26,57,39,18,61,20,44,19,21,46,58,20,18,33,45,62,43,42,32,41,42,34,18,18,35,31,62,62,31,61,51,52,50],\"xaxis\":\"x2\",\"yaxis\":\"y2\",\"type\":\"box\"}],                        {\"template\":{\"data\":{\"histogram2dcontour\":[{\"type\":\"histogram2dcontour\",\"colorbar\":{\"outlinewidth\":0,\"ticks\":\"\"},\"colorscale\":[[0.0,\"#0d0887\"],[0.1111111111111111,\"#46039f\"],[0.2222222222222222,\"#7201a8\"],[0.3333333333333333,\"#9c179e\"],[0.4444444444444444,\"#bd3786\"],[0.5555555555555556,\"#d8576b\"],[0.6666666666666666,\"#ed7953\"],[0.7777777777777778,\"#fb9f3a\"],[0.8888888888888888,\"#fdca26\"],[1.0,\"#f0f921\"]]}],\"choropleth\":[{\"type\":\"choropleth\",\"colorbar\":{\"outlinewidth\":0,\"ticks\":\"\"}}],\"histogram2d\":[{\"type\":\"histogram2d\",\"colorbar\":{\"outlinewidth\":0,\"ticks\":\"\"},\"colorscale\":[[0.0,\"#0d0887\"],[0.1111111111111111,\"#46039f\"],[0.2222222222222222,\"#7201a8\"],[0.3333333333333333,\"#9c179e\"],[0.4444444444444444,\"#bd3786\"],[0.5555555555555556,\"#d8576b\"],[0.6666666666666666,\"#ed7953\"],[0.7777777777777778,\"#fb9f3a\"],[0.8888888888888888,\"#fdca26\"],[1.0,\"#f0f921\"]]}],\"heatmap\":[{\"type\":\"heatmap\",\"colorbar\":{\"outlinewidth\":0,\"ticks\":\"\"},\"colorscale\":[[0.0,\"#0d0887\"],[0.1111111111111111,\"#46039f\"],[0.2222222222222222,\"#7201a8\"],[0.3333333333333333,\"#9c179e\"],[0.4444444444444444,\"#bd3786\"],[0.5555555555555556,\"#d8576b\"],[0.6666666666666666,\"#ed7953\"],[0.7777777777777778,\"#fb9f3a\"],[0.8888888888888888,\"#fdca26\"],[1.0,\"#f0f921\"]]}],\"heatmapgl\":[{\"type\":\"heatmapgl\",\"colorbar\":{\"outlinewidth\":0,\"ticks\":\"\"},\"colorscale\":[[0.0,\"#0d0887\"],[0.1111111111111111,\"#46039f\"],[0.2222222222222222,\"#7201a8\"],[0.3333333333333333,\"#9c179e\"],[0.4444444444444444,\"#bd3786\"],[0.5555555555555556,\"#d8576b\"],[0.6666666666666666,\"#ed7953\"],[0.7777777777777778,\"#fb9f3a\"],[0.8888888888888888,\"#fdca26\"],[1.0,\"#f0f921\"]]}],\"contourcarpet\":[{\"type\":\"contourcarpet\",\"colorbar\":{\"outlinewidth\":0,\"ticks\":\"\"}}],\"contour\":[{\"type\":\"contour\",\"colorbar\":{\"outlinewidth\":0,\"ticks\":\"\"},\"colorscale\":[[0.0,\"#0d0887\"],[0.1111111111111111,\"#46039f\"],[0.2222222222222222,\"#7201a8\"],[0.3333333333333333,\"#9c179e\"],[0.4444444444444444,\"#bd3786\"],[0.5555555555555556,\"#d8576b\"],[0.6666666666666666,\"#ed7953\"],[0.7777777777777778,\"#fb9f3a\"],[0.8888888888888888,\"#fdca26\"],[1.0,\"#f0f921\"]]}],\"surface\":[{\"type\":\"surface\",\"colorbar\":{\"outlinewidth\":0,\"ticks\":\"\"},\"colorscale\":[[0.0,\"#0d0887\"],[0.1111111111111111,\"#46039f\"],[0.2222222222222222,\"#7201a8\"],[0.3333333333333333,\"#9c179e\"],[0.4444444444444444,\"#bd3786\"],[0.5555555555555556,\"#d8576b\"],[0.6666666666666666,\"#ed7953\"],[0.7777777777777778,\"#fb9f3a\"],[0.8888888888888888,\"#fdca26\"],[1.0,\"#f0f921\"]]}],\"mesh3d\":[{\"type\":\"mesh3d\",\"colorbar\":{\"outlinewidth\":0,\"ticks\":\"\"}}],\"scatter\":[{\"fillpattern\":{\"fillmode\":\"overlay\",\"size\":10,\"solidity\":0.2},\"type\":\"scatter\"}],\"parcoords\":[{\"type\":\"parcoords\",\"line\":{\"colorbar\":{\"outlinewidth\":0,\"ticks\":\"\"}}}],\"scatterpolargl\":[{\"type\":\"scatterpolargl\",\"marker\":{\"colorbar\":{\"outlinewidth\":0,\"ticks\":\"\"}}}],\"bar\":[{\"error_x\":{\"color\":\"#2a3f5f\"},\"error_y\":{\"color\":\"#2a3f5f\"},\"marker\":{\"line\":{\"color\":\"#E5ECF6\",\"width\":0.5},\"pattern\":{\"fillmode\":\"overlay\",\"size\":10,\"solidity\":0.2}},\"type\":\"bar\"}],\"scattergeo\":[{\"type\":\"scattergeo\",\"marker\":{\"colorbar\":{\"outlinewidth\":0,\"ticks\":\"\"}}}],\"scatterpolar\":[{\"type\":\"scatterpolar\",\"marker\":{\"colorbar\":{\"outlinewidth\":0,\"ticks\":\"\"}}}],\"histogram\":[{\"marker\":{\"pattern\":{\"fillmode\":\"overlay\",\"size\":10,\"solidity\":0.2}},\"type\":\"histogram\"}],\"scattergl\":[{\"type\":\"scattergl\",\"marker\":{\"colorbar\":{\"outlinewidth\":0,\"ticks\":\"\"}}}],\"scatter3d\":[{\"type\":\"scatter3d\",\"line\":{\"colorbar\":{\"outlinewidth\":0,\"ticks\":\"\"}},\"marker\":{\"colorbar\":{\"outlinewidth\":0,\"ticks\":\"\"}}}],\"scattermapbox\":[{\"type\":\"scattermapbox\",\"marker\":{\"colorbar\":{\"outlinewidth\":0,\"ticks\":\"\"}}}],\"scatterternary\":[{\"type\":\"scatterternary\",\"marker\":{\"colorbar\":{\"outlinewidth\":0,\"ticks\":\"\"}}}],\"scattercarpet\":[{\"type\":\"scattercarpet\",\"marker\":{\"colorbar\":{\"outlinewidth\":0,\"ticks\":\"\"}}}],\"carpet\":[{\"aaxis\":{\"endlinecolor\":\"#2a3f5f\",\"gridcolor\":\"white\",\"linecolor\":\"white\",\"minorgridcolor\":\"white\",\"startlinecolor\":\"#2a3f5f\"},\"baxis\":{\"endlinecolor\":\"#2a3f5f\",\"gridcolor\":\"white\",\"linecolor\":\"white\",\"minorgridcolor\":\"white\",\"startlinecolor\":\"#2a3f5f\"},\"type\":\"carpet\"}],\"table\":[{\"cells\":{\"fill\":{\"color\":\"#EBF0F8\"},\"line\":{\"color\":\"white\"}},\"header\":{\"fill\":{\"color\":\"#C8D4E3\"},\"line\":{\"color\":\"white\"}},\"type\":\"table\"}],\"barpolar\":[{\"marker\":{\"line\":{\"color\":\"#E5ECF6\",\"width\":0.5},\"pattern\":{\"fillmode\":\"overlay\",\"size\":10,\"solidity\":0.2}},\"type\":\"barpolar\"}],\"pie\":[{\"automargin\":true,\"type\":\"pie\"}]},\"layout\":{\"autotypenumbers\":\"strict\",\"colorway\":[\"#636efa\",\"#EF553B\",\"#00cc96\",\"#ab63fa\",\"#FFA15A\",\"#19d3f3\",\"#FF6692\",\"#B6E880\",\"#FF97FF\",\"#FECB52\"],\"font\":{\"color\":\"#2a3f5f\"},\"hovermode\":\"closest\",\"hoverlabel\":{\"align\":\"left\"},\"paper_bgcolor\":\"white\",\"plot_bgcolor\":\"#E5ECF6\",\"polar\":{\"bgcolor\":\"#E5ECF6\",\"angularaxis\":{\"gridcolor\":\"white\",\"linecolor\":\"white\",\"ticks\":\"\"},\"radialaxis\":{\"gridcolor\":\"white\",\"linecolor\":\"white\",\"ticks\":\"\"}},\"ternary\":{\"bgcolor\":\"#E5ECF6\",\"aaxis\":{\"gridcolor\":\"white\",\"linecolor\":\"white\",\"ticks\":\"\"},\"baxis\":{\"gridcolor\":\"white\",\"linecolor\":\"white\",\"ticks\":\"\"},\"caxis\":{\"gridcolor\":\"white\",\"linecolor\":\"white\",\"ticks\":\"\"}},\"coloraxis\":{\"colorbar\":{\"outlinewidth\":0,\"ticks\":\"\"}},\"colorscale\":{\"sequential\":[[0.0,\"#0d0887\"],[0.1111111111111111,\"#46039f\"],[0.2222222222222222,\"#7201a8\"],[0.3333333333333333,\"#9c179e\"],[0.4444444444444444,\"#bd3786\"],[0.5555555555555556,\"#d8576b\"],[0.6666666666666666,\"#ed7953\"],[0.7777777777777778,\"#fb9f3a\"],[0.8888888888888888,\"#fdca26\"],[1.0,\"#f0f921\"]],\"sequentialminus\":[[0.0,\"#0d0887\"],[0.1111111111111111,\"#46039f\"],[0.2222222222222222,\"#7201a8\"],[0.3333333333333333,\"#9c179e\"],[0.4444444444444444,\"#bd3786\"],[0.5555555555555556,\"#d8576b\"],[0.6666666666666666,\"#ed7953\"],[0.7777777777777778,\"#fb9f3a\"],[0.8888888888888888,\"#fdca26\"],[1.0,\"#f0f921\"]],\"diverging\":[[0,\"#8e0152\"],[0.1,\"#c51b7d\"],[0.2,\"#de77ae\"],[0.3,\"#f1b6da\"],[0.4,\"#fde0ef\"],[0.5,\"#f7f7f7\"],[0.6,\"#e6f5d0\"],[0.7,\"#b8e186\"],[0.8,\"#7fbc41\"],[0.9,\"#4d9221\"],[1,\"#276419\"]]},\"xaxis\":{\"gridcolor\":\"white\",\"linecolor\":\"white\",\"ticks\":\"\",\"title\":{\"standoff\":15},\"zerolinecolor\":\"white\",\"automargin\":true,\"zerolinewidth\":2},\"yaxis\":{\"gridcolor\":\"white\",\"linecolor\":\"white\",\"ticks\":\"\",\"title\":{\"standoff\":15},\"zerolinecolor\":\"white\",\"automargin\":true,\"zerolinewidth\":2},\"scene\":{\"xaxis\":{\"backgroundcolor\":\"#E5ECF6\",\"gridcolor\":\"white\",\"linecolor\":\"white\",\"showbackground\":true,\"ticks\":\"\",\"zerolinecolor\":\"white\",\"gridwidth\":2},\"yaxis\":{\"backgroundcolor\":\"#E5ECF6\",\"gridcolor\":\"white\",\"linecolor\":\"white\",\"showbackground\":true,\"ticks\":\"\",\"zerolinecolor\":\"white\",\"gridwidth\":2},\"zaxis\":{\"backgroundcolor\":\"#E5ECF6\",\"gridcolor\":\"white\",\"linecolor\":\"white\",\"showbackground\":true,\"ticks\":\"\",\"zerolinecolor\":\"white\",\"gridwidth\":2}},\"shapedefaults\":{\"line\":{\"color\":\"#2a3f5f\"}},\"annotationdefaults\":{\"arrowcolor\":\"#2a3f5f\",\"arrowhead\":0,\"arrowwidth\":1},\"geo\":{\"bgcolor\":\"white\",\"landcolor\":\"#E5ECF6\",\"subunitcolor\":\"white\",\"showland\":true,\"showlakes\":true,\"lakecolor\":\"white\"},\"title\":{\"x\":0.05},\"mapbox\":{\"style\":\"light\"}}},\"xaxis\":{\"anchor\":\"y\",\"domain\":[0.0,1.0],\"title\":{\"text\":\"age\"}},\"yaxis\":{\"anchor\":\"x\",\"domain\":[0.0,0.7326],\"title\":{\"text\":\"count\"}},\"xaxis2\":{\"anchor\":\"y2\",\"domain\":[0.0,1.0],\"matches\":\"x\",\"showticklabels\":false,\"showgrid\":true},\"yaxis2\":{\"anchor\":\"x2\",\"domain\":[0.7426,1.0],\"matches\":\"y2\",\"showticklabels\":false,\"showline\":false,\"ticks\":\"\",\"showgrid\":false},\"legend\":{\"title\":{\"text\":\"sex\"},\"tracegroupgap\":0},\"title\":{\"text\":\"Distribution based on Region\"},\"barmode\":\"relative\",\"bargap\":0.1},                        {\"responsive\": true}                    ).then(function(){\n",
              "                            \n",
              "var gd = document.getElementById('71988b57-18bc-43b0-aba6-7737155d6802');\n",
              "var x = new MutationObserver(function (mutations, observer) {{\n",
              "        var display = window.getComputedStyle(gd).display;\n",
              "        if (!display || display === 'none') {{\n",
              "            console.log([gd, 'removed!']);\n",
              "            Plotly.purge(gd);\n",
              "            observer.disconnect();\n",
              "        }}\n",
              "}});\n",
              "\n",
              "// Listen for the removal of the full notebook cells\n",
              "var notebookContainer = gd.closest('#notebook-container');\n",
              "if (notebookContainer) {{\n",
              "    x.observe(notebookContainer, {childList: true});\n",
              "}}\n",
              "\n",
              "// Listen for the clearing of the current output cell\n",
              "var outputEl = gd.closest('.output');\n",
              "if (outputEl) {{\n",
              "    x.observe(outputEl, {childList: true});\n",
              "}}\n",
              "\n",
              "                        })                };                            </script>        </div>\n",
              "</body>\n",
              "</html>"
            ]
          },
          "metadata": {}
        }
      ],
      "source": [
        "fgi_region = px.histogram(medical_df,\n",
        "                       x='age',\n",
        "                       marginal='box',\n",
        "                       color=\"sex\",\n",
        "                       color_discrete_sequence=[\"grey\",\"black\"],\n",
        "                       title=\"Distribution based on Region\")\n",
        "fgi_region.update_layout(bargap=0.1)\n",
        "fgi_region.show()"
      ]
    },
    {
      "cell_type": "markdown",
      "id": "810f3059",
      "metadata": {
        "id": "810f3059"
      },
      "source": [
        "### Smoker\n",
        "\n",
        "Let's visualize the distribution of the \"smoker\" column (containing values \"yes\" and \"no\") using a histogram."
      ]
    },
    {
      "cell_type": "code",
      "execution_count": 46,
      "id": "b742e0d1",
      "metadata": {
        "colab": {
          "base_uri": "https://localhost:8080/"
        },
        "id": "b742e0d1",
        "outputId": "b1307cb6-8234-4d0e-9e79-994dfc00cb97"
      },
      "outputs": [
        {
          "output_type": "execute_result",
          "data": {
            "text/plain": [
              "smoker\n",
              "no     1064\n",
              "yes     274\n",
              "Name: count, dtype: int64"
            ]
          },
          "metadata": {},
          "execution_count": 46
        }
      ],
      "source": [
        "medical_df.smoker.value_counts()"
      ]
    },
    {
      "cell_type": "code",
      "execution_count": 47,
      "id": "131851de",
      "metadata": {
        "colab": {
          "base_uri": "https://localhost:8080/",
          "height": 542
        },
        "id": "131851de",
        "outputId": "50669001-7e28-41f1-c709-12a7f49314ae"
      },
      "outputs": [
        {
          "output_type": "display_data",
          "data": {
            "text/html": [
              "<html>\n",
              "<head><meta charset=\"utf-8\" /></head>\n",
              "<body>\n",
              "    <div>            <script src=\"https://cdnjs.cloudflare.com/ajax/libs/mathjax/2.7.5/MathJax.js?config=TeX-AMS-MML_SVG\"></script><script type=\"text/javascript\">if (window.MathJax && window.MathJax.Hub && window.MathJax.Hub.Config) {window.MathJax.Hub.Config({SVG: {font: \"STIX-Web\"}});}</script>                <script type=\"text/javascript\">window.PlotlyConfig = {MathJaxConfig: 'local'};</script>\n",
              "        <script charset=\"utf-8\" src=\"https://cdn.plot.ly/plotly-2.24.1.min.js\"></script>                <div id=\"c80cf570-52ed-4c13-9a41-8d292519dd20\" class=\"plotly-graph-div\" style=\"height:525px; width:100%;\"></div>            <script type=\"text/javascript\">                                    window.PLOTLYENV=window.PLOTLYENV || {};                                    if (document.getElementById(\"c80cf570-52ed-4c13-9a41-8d292519dd20\")) {                    Plotly.newPlot(                        \"c80cf570-52ed-4c13-9a41-8d292519dd20\",                        [{\"alignmentgroup\":\"True\",\"bingroup\":\"x\",\"hovertemplate\":\"sex=female\\u003cbr\\u003esmoker=%{x}\\u003cbr\\u003ecount=%{y}\\u003cextra\\u003e\\u003c\\u002fextra\\u003e\",\"legendgroup\":\"female\",\"marker\":{\"color\":\"#636efa\",\"pattern\":{\"shape\":\"\"}},\"name\":\"female\",\"offsetgroup\":\"female\",\"orientation\":\"v\",\"showlegend\":true,\"x\":[\"yes\",\"no\",\"no\",\"no\",\"no\",\"yes\",\"no\",\"no\",\"no\",\"no\",\"yes\",\"no\",\"no\",\"no\",\"no\",\"no\",\"no\",\"no\",\"no\",\"no\",\"no\",\"no\",\"no\",\"no\",\"no\",\"no\",\"no\",\"yes\",\"no\",\"no\",\"yes\",\"no\",\"no\",\"no\",\"yes\",\"no\",\"no\",\"no\",\"no\",\"no\",\"no\",\"yes\",\"yes\",\"no\",\"no\",\"no\",\"no\",\"no\",\"yes\",\"no\",\"no\",\"no\",\"no\",\"yes\",\"no\",\"no\",\"no\",\"no\",\"yes\",\"no\",\"no\",\"no\",\"no\",\"no\",\"yes\",\"no\",\"yes\",\"no\",\"no\",\"no\",\"no\",\"no\",\"no\",\"no\",\"no\",\"no\",\"no\",\"no\",\"yes\",\"no\",\"no\",\"yes\",\"yes\",\"no\",\"no\",\"no\",\"no\",\"no\",\"no\",\"yes\",\"no\",\"no\",\"no\",\"no\",\"no\",\"no\",\"no\",\"no\",\"no\",\"no\",\"no\",\"no\",\"no\",\"no\",\"no\",\"no\",\"no\",\"yes\",\"no\",\"no\",\"no\",\"no\",\"no\",\"no\",\"no\",\"no\",\"no\",\"no\",\"no\",\"no\",\"no\",\"no\",\"no\",\"yes\",\"no\",\"yes\",\"no\",\"no\",\"yes\",\"no\",\"yes\",\"no\",\"no\",\"no\",\"yes\",\"no\",\"no\",\"no\",\"no\",\"no\",\"yes\",\"no\",\"no\",\"no\",\"no\",\"yes\",\"no\",\"no\",\"no\",\"yes\",\"no\",\"no\",\"no\",\"no\",\"no\",\"no\",\"no\",\"yes\",\"no\",\"no\",\"no\",\"yes\",\"yes\",\"no\",\"no\",\"no\",\"no\",\"no\",\"no\",\"no\",\"no\",\"no\",\"no\",\"no\",\"no\",\"no\",\"no\",\"no\",\"yes\",\"no\",\"no\",\"no\",\"no\",\"no\",\"no\",\"no\",\"no\",\"yes\",\"yes\",\"no\",\"yes\",\"no\",\"no\",\"no\",\"no\",\"no\",\"no\",\"no\",\"no\",\"no\",\"no\",\"no\",\"no\",\"no\",\"yes\",\"yes\",\"no\",\"no\",\"yes\",\"yes\",\"no\",\"no\",\"no\",\"no\",\"no\",\"no\",\"no\",\"no\",\"yes\",\"no\",\"no\",\"no\",\"no\",\"no\",\"no\",\"no\",\"no\",\"no\",\"yes\",\"no\",\"no\",\"no\",\"no\",\"no\",\"no\",\"no\",\"no\",\"no\",\"no\",\"no\",\"yes\",\"no\",\"no\",\"no\",\"no\",\"no\",\"no\",\"no\",\"no\",\"no\",\"no\",\"no\",\"no\",\"no\",\"no\",\"no\",\"no\",\"no\",\"no\",\"no\",\"no\",\"no\",\"no\",\"no\",\"no\",\"yes\",\"no\",\"no\",\"yes\",\"no\",\"no\",\"no\",\"yes\",\"no\",\"no\",\"no\",\"no\",\"no\",\"no\",\"no\",\"no\",\"no\",\"no\",\"no\",\"no\",\"yes\",\"no\",\"no\",\"no\",\"yes\",\"no\",\"no\",\"no\",\"yes\",\"no\",\"no\",\"no\",\"no\",\"no\",\"no\",\"no\",\"yes\",\"no\",\"no\",\"yes\",\"no\",\"no\",\"no\",\"no\",\"no\",\"yes\",\"no\",\"yes\",\"no\",\"no\",\"no\",\"yes\",\"no\",\"no\",\"no\",\"no\",\"no\",\"no\",\"no\",\"no\",\"no\",\"no\",\"no\",\"yes\",\"no\",\"no\",\"no\",\"no\",\"no\",\"yes\",\"yes\",\"no\",\"no\",\"no\",\"yes\",\"no\",\"no\",\"no\",\"no\",\"no\",\"no\",\"no\",\"no\",\"no\",\"no\",\"no\",\"no\",\"no\",\"no\",\"yes\",\"no\",\"no\",\"no\",\"no\",\"no\",\"no\",\"no\",\"no\",\"no\",\"no\",\"yes\",\"yes\",\"no\",\"no\",\"no\",\"no\",\"no\",\"no\",\"yes\",\"no\",\"no\",\"no\",\"yes\",\"no\",\"no\",\"yes\",\"no\",\"no\",\"no\",\"no\",\"no\",\"no\",\"no\",\"no\",\"yes\",\"yes\",\"no\",\"no\",\"no\",\"no\",\"no\",\"no\",\"no\",\"no\",\"no\",\"no\",\"yes\",\"no\",\"no\",\"no\",\"no\",\"no\",\"no\",\"no\",\"yes\",\"yes\",\"no\",\"no\",\"no\",\"no\",\"no\",\"no\",\"no\",\"no\",\"yes\",\"yes\",\"yes\",\"no\",\"no\",\"yes\",\"yes\",\"no\",\"yes\",\"no\",\"yes\",\"no\",\"yes\",\"no\",\"no\",\"no\",\"no\",\"no\",\"no\",\"no\",\"no\",\"no\",\"yes\",\"no\",\"yes\",\"no\",\"no\",\"yes\",\"no\",\"no\",\"no\",\"no\",\"no\",\"yes\",\"no\",\"no\",\"no\",\"yes\",\"no\",\"no\",\"no\",\"no\",\"no\",\"no\",\"no\",\"no\",\"no\",\"no\",\"no\",\"no\",\"no\",\"no\",\"no\",\"no\",\"no\",\"no\",\"no\",\"no\",\"no\",\"no\",\"no\",\"no\",\"no\",\"no\",\"no\",\"no\",\"yes\",\"no\",\"no\",\"no\",\"yes\",\"no\",\"no\",\"no\",\"no\",\"no\",\"no\",\"no\",\"no\",\"no\",\"no\",\"no\",\"no\",\"yes\",\"no\",\"no\",\"no\",\"yes\",\"yes\",\"no\",\"no\",\"yes\",\"yes\",\"no\",\"yes\",\"no\",\"no\",\"no\",\"no\",\"no\",\"no\",\"no\",\"no\",\"no\",\"no\",\"no\",\"no\",\"no\",\"no\",\"no\",\"yes\",\"no\",\"yes\",\"no\",\"no\",\"yes\",\"no\",\"no\",\"yes\",\"no\",\"no\",\"no\",\"no\",\"yes\",\"no\",\"no\",\"yes\",\"yes\",\"no\",\"yes\",\"no\",\"no\",\"no\",\"no\",\"no\",\"no\",\"no\",\"no\",\"yes\",\"no\",\"no\",\"no\",\"no\",\"no\",\"yes\",\"no\",\"no\",\"no\",\"no\",\"no\",\"no\",\"no\",\"no\",\"no\",\"no\",\"no\",\"no\",\"yes\",\"no\",\"no\",\"yes\",\"no\",\"no\",\"no\",\"no\",\"no\",\"no\",\"yes\",\"no\",\"yes\",\"no\",\"no\",\"no\",\"no\",\"no\",\"no\",\"no\",\"yes\",\"no\",\"yes\",\"no\",\"yes\",\"no\",\"no\",\"yes\",\"no\",\"no\",\"yes\",\"no\",\"yes\",\"no\",\"no\",\"no\",\"no\",\"no\",\"no\",\"no\",\"no\",\"no\",\"no\",\"no\",\"no\",\"no\",\"no\",\"no\",\"no\",\"no\",\"no\",\"no\",\"no\",\"no\",\"no\",\"no\",\"no\",\"no\",\"no\",\"yes\",\"yes\",\"no\",\"no\",\"no\",\"no\",\"no\",\"no\",\"no\",\"no\",\"yes\",\"yes\",\"no\",\"yes\",\"yes\",\"no\",\"no\",\"yes\",\"no\",\"no\",\"no\",\"no\",\"no\",\"no\",\"no\",\"no\",\"yes\"],\"xaxis\":\"x\",\"yaxis\":\"y\",\"type\":\"histogram\"},{\"alignmentgroup\":\"True\",\"bingroup\":\"x\",\"hovertemplate\":\"sex=male\\u003cbr\\u003esmoker=%{x}\\u003cbr\\u003ecount=%{y}\\u003cextra\\u003e\\u003c\\u002fextra\\u003e\",\"legendgroup\":\"male\",\"marker\":{\"color\":\"#EF553B\",\"pattern\":{\"shape\":\"\"}},\"name\":\"male\",\"offsetgroup\":\"male\",\"orientation\":\"v\",\"showlegend\":true,\"x\":[\"no\",\"no\",\"no\",\"no\",\"no\",\"no\",\"no\",\"yes\",\"no\",\"no\",\"no\",\"yes\",\"no\",\"no\",\"no\",\"yes\",\"yes\",\"no\",\"yes\",\"no\",\"no\",\"yes\",\"yes\",\"no\",\"no\",\"no\",\"yes\",\"yes\",\"yes\",\"yes\",\"yes\",\"no\",\"no\",\"no\",\"no\",\"yes\",\"no\",\"no\",\"no\",\"no\",\"no\",\"no\",\"yes\",\"yes\",\"yes\",\"no\",\"no\",\"yes\",\"yes\",\"no\",\"yes\",\"no\",\"no\",\"yes\",\"no\",\"no\",\"no\",\"no\",\"no\",\"no\",\"no\",\"yes\",\"no\",\"no\",\"no\",\"no\",\"no\",\"no\",\"yes\",\"no\",\"yes\",\"yes\",\"no\",\"no\",\"no\",\"no\",\"yes\",\"yes\",\"yes\",\"no\",\"no\",\"no\",\"no\",\"no\",\"no\",\"no\",\"no\",\"no\",\"no\",\"no\",\"no\",\"yes\",\"no\",\"no\",\"no\",\"no\",\"no\",\"no\",\"yes\",\"no\",\"no\",\"no\",\"no\",\"no\",\"no\",\"yes\",\"yes\",\"no\",\"no\",\"no\",\"no\",\"no\",\"no\",\"yes\",\"no\",\"no\",\"no\",\"no\",\"no\",\"no\",\"yes\",\"yes\",\"no\",\"yes\",\"yes\",\"no\",\"yes\",\"yes\",\"yes\",\"yes\",\"yes\",\"no\",\"no\",\"no\",\"yes\",\"no\",\"no\",\"no\",\"no\",\"no\",\"yes\",\"no\",\"no\",\"no\",\"no\",\"yes\",\"no\",\"no\",\"yes\",\"yes\",\"yes\",\"no\",\"no\",\"no\",\"no\",\"yes\",\"no\",\"no\",\"no\",\"no\",\"no\",\"no\",\"yes\",\"no\",\"no\",\"no\",\"yes\",\"no\",\"yes\",\"no\",\"no\",\"no\",\"yes\",\"no\",\"no\",\"no\",\"no\",\"no\",\"no\",\"no\",\"no\",\"no\",\"no\",\"no\",\"no\",\"no\",\"yes\",\"no\",\"yes\",\"no\",\"yes\",\"no\",\"no\",\"no\",\"no\",\"no\",\"no\",\"no\",\"no\",\"no\",\"no\",\"no\",\"no\",\"no\",\"no\",\"no\",\"no\",\"no\",\"no\",\"no\",\"yes\",\"yes\",\"yes\",\"no\",\"no\",\"no\",\"no\",\"no\",\"no\",\"no\",\"no\",\"no\",\"no\",\"no\",\"yes\",\"no\",\"no\",\"no\",\"no\",\"no\",\"no\",\"no\",\"no\",\"no\",\"yes\",\"no\",\"no\",\"no\",\"yes\",\"yes\",\"yes\",\"no\",\"no\",\"no\",\"no\",\"no\",\"no\",\"no\",\"no\",\"no\",\"yes\",\"no\",\"no\",\"yes\",\"no\",\"yes\",\"yes\",\"no\",\"no\",\"no\",\"no\",\"no\",\"no\",\"no\",\"yes\",\"no\",\"no\",\"no\",\"no\",\"yes\",\"no\",\"no\",\"yes\",\"no\",\"no\",\"no\",\"no\",\"no\",\"no\",\"yes\",\"no\",\"no\",\"no\",\"no\",\"no\",\"no\",\"no\",\"no\",\"no\",\"no\",\"yes\",\"no\",\"no\",\"no\",\"no\",\"no\",\"no\",\"no\",\"no\",\"no\",\"no\",\"no\",\"no\",\"no\",\"yes\",\"yes\",\"no\",\"yes\",\"yes\",\"no\",\"no\",\"no\",\"no\",\"no\",\"no\",\"no\",\"no\",\"no\",\"yes\",\"no\",\"no\",\"yes\",\"no\",\"no\",\"no\",\"no\",\"no\",\"no\",\"no\",\"no\",\"yes\",\"no\",\"yes\",\"no\",\"no\",\"no\",\"yes\",\"no\",\"no\",\"yes\",\"no\",\"no\",\"no\",\"no\",\"yes\",\"no\",\"no\",\"no\",\"no\",\"yes\",\"no\",\"no\",\"no\",\"no\",\"no\",\"no\",\"no\",\"no\",\"no\",\"no\",\"no\",\"yes\",\"no\",\"no\",\"yes\",\"yes\",\"no\",\"yes\",\"yes\",\"no\",\"no\",\"no\",\"no\",\"no\",\"no\",\"no\",\"no\",\"no\",\"yes\",\"no\",\"yes\",\"no\",\"no\",\"no\",\"no\",\"no\",\"no\",\"no\",\"no\",\"no\",\"yes\",\"no\",\"no\",\"no\",\"no\",\"no\",\"no\",\"yes\",\"yes\",\"no\",\"yes\",\"no\",\"no\",\"no\",\"no\",\"no\",\"no\",\"no\",\"no\",\"no\",\"no\",\"no\",\"yes\",\"yes\",\"yes\",\"no\",\"no\",\"no\",\"no\",\"no\",\"no\",\"no\",\"no\",\"no\",\"no\",\"no\",\"no\",\"yes\",\"no\",\"no\",\"no\",\"no\",\"no\",\"no\",\"no\",\"no\",\"no\",\"no\",\"no\",\"no\",\"no\",\"no\",\"no\",\"yes\",\"yes\",\"no\",\"no\",\"no\",\"yes\",\"no\",\"no\",\"no\",\"yes\",\"no\",\"no\",\"no\",\"no\",\"no\",\"yes\",\"no\",\"yes\",\"no\",\"no\",\"no\",\"no\",\"no\",\"no\",\"no\",\"no\",\"no\",\"no\",\"no\",\"no\",\"no\",\"no\",\"no\",\"yes\",\"no\",\"yes\",\"no\",\"yes\",\"yes\",\"yes\",\"no\",\"yes\",\"no\",\"yes\",\"no\",\"no\",\"no\",\"no\",\"yes\",\"no\",\"no\",\"no\",\"yes\",\"no\",\"no\",\"no\",\"no\",\"yes\",\"no\",\"no\",\"no\",\"no\",\"yes\",\"yes\",\"no\",\"no\",\"no\",\"no\",\"no\",\"yes\",\"no\",\"no\",\"yes\",\"no\",\"no\",\"no\",\"yes\",\"no\",\"yes\",\"no\",\"no\",\"yes\",\"no\",\"yes\",\"no\",\"no\",\"no\",\"yes\",\"no\",\"yes\",\"yes\",\"no\",\"no\",\"yes\",\"no\",\"no\",\"no\",\"no\",\"yes\",\"no\",\"no\",\"no\",\"no\",\"yes\",\"no\",\"no\",\"no\",\"yes\",\"no\",\"no\",\"no\",\"no\",\"no\",\"no\",\"no\",\"no\",\"no\",\"yes\",\"no\",\"no\",\"no\",\"no\",\"no\",\"no\",\"no\",\"no\",\"yes\",\"no\",\"no\",\"no\",\"yes\",\"yes\",\"no\",\"no\",\"no\",\"no\",\"no\",\"no\",\"no\",\"no\",\"no\",\"no\",\"no\",\"yes\",\"no\",\"no\",\"yes\",\"no\",\"no\",\"no\",\"no\",\"yes\",\"no\",\"no\",\"yes\",\"no\",\"yes\",\"no\",\"no\",\"no\",\"no\",\"no\",\"no\",\"no\",\"yes\",\"no\",\"no\",\"no\",\"no\",\"no\",\"no\",\"no\",\"no\",\"no\",\"no\",\"no\",\"no\",\"no\",\"no\",\"yes\",\"no\",\"no\",\"no\",\"yes\",\"yes\",\"no\",\"no\",\"no\",\"yes\",\"yes\",\"no\",\"yes\",\"no\",\"no\",\"yes\",\"yes\",\"no\",\"no\",\"no\",\"no\",\"yes\",\"no\",\"yes\",\"no\",\"yes\",\"yes\",\"no\",\"yes\",\"no\",\"no\",\"no\",\"no\",\"no\",\"no\",\"yes\",\"yes\",\"yes\",\"yes\",\"yes\",\"no\",\"no\",\"no\",\"no\",\"no\",\"no\",\"no\",\"yes\",\"no\",\"no\",\"no\",\"no\",\"no\",\"no\"],\"xaxis\":\"x\",\"yaxis\":\"y\",\"type\":\"histogram\"}],                        {\"template\":{\"data\":{\"histogram2dcontour\":[{\"type\":\"histogram2dcontour\",\"colorbar\":{\"outlinewidth\":0,\"ticks\":\"\"},\"colorscale\":[[0.0,\"#0d0887\"],[0.1111111111111111,\"#46039f\"],[0.2222222222222222,\"#7201a8\"],[0.3333333333333333,\"#9c179e\"],[0.4444444444444444,\"#bd3786\"],[0.5555555555555556,\"#d8576b\"],[0.6666666666666666,\"#ed7953\"],[0.7777777777777778,\"#fb9f3a\"],[0.8888888888888888,\"#fdca26\"],[1.0,\"#f0f921\"]]}],\"choropleth\":[{\"type\":\"choropleth\",\"colorbar\":{\"outlinewidth\":0,\"ticks\":\"\"}}],\"histogram2d\":[{\"type\":\"histogram2d\",\"colorbar\":{\"outlinewidth\":0,\"ticks\":\"\"},\"colorscale\":[[0.0,\"#0d0887\"],[0.1111111111111111,\"#46039f\"],[0.2222222222222222,\"#7201a8\"],[0.3333333333333333,\"#9c179e\"],[0.4444444444444444,\"#bd3786\"],[0.5555555555555556,\"#d8576b\"],[0.6666666666666666,\"#ed7953\"],[0.7777777777777778,\"#fb9f3a\"],[0.8888888888888888,\"#fdca26\"],[1.0,\"#f0f921\"]]}],\"heatmap\":[{\"type\":\"heatmap\",\"colorbar\":{\"outlinewidth\":0,\"ticks\":\"\"},\"colorscale\":[[0.0,\"#0d0887\"],[0.1111111111111111,\"#46039f\"],[0.2222222222222222,\"#7201a8\"],[0.3333333333333333,\"#9c179e\"],[0.4444444444444444,\"#bd3786\"],[0.5555555555555556,\"#d8576b\"],[0.6666666666666666,\"#ed7953\"],[0.7777777777777778,\"#fb9f3a\"],[0.8888888888888888,\"#fdca26\"],[1.0,\"#f0f921\"]]}],\"heatmapgl\":[{\"type\":\"heatmapgl\",\"colorbar\":{\"outlinewidth\":0,\"ticks\":\"\"},\"colorscale\":[[0.0,\"#0d0887\"],[0.1111111111111111,\"#46039f\"],[0.2222222222222222,\"#7201a8\"],[0.3333333333333333,\"#9c179e\"],[0.4444444444444444,\"#bd3786\"],[0.5555555555555556,\"#d8576b\"],[0.6666666666666666,\"#ed7953\"],[0.7777777777777778,\"#fb9f3a\"],[0.8888888888888888,\"#fdca26\"],[1.0,\"#f0f921\"]]}],\"contourcarpet\":[{\"type\":\"contourcarpet\",\"colorbar\":{\"outlinewidth\":0,\"ticks\":\"\"}}],\"contour\":[{\"type\":\"contour\",\"colorbar\":{\"outlinewidth\":0,\"ticks\":\"\"},\"colorscale\":[[0.0,\"#0d0887\"],[0.1111111111111111,\"#46039f\"],[0.2222222222222222,\"#7201a8\"],[0.3333333333333333,\"#9c179e\"],[0.4444444444444444,\"#bd3786\"],[0.5555555555555556,\"#d8576b\"],[0.6666666666666666,\"#ed7953\"],[0.7777777777777778,\"#fb9f3a\"],[0.8888888888888888,\"#fdca26\"],[1.0,\"#f0f921\"]]}],\"surface\":[{\"type\":\"surface\",\"colorbar\":{\"outlinewidth\":0,\"ticks\":\"\"},\"colorscale\":[[0.0,\"#0d0887\"],[0.1111111111111111,\"#46039f\"],[0.2222222222222222,\"#7201a8\"],[0.3333333333333333,\"#9c179e\"],[0.4444444444444444,\"#bd3786\"],[0.5555555555555556,\"#d8576b\"],[0.6666666666666666,\"#ed7953\"],[0.7777777777777778,\"#fb9f3a\"],[0.8888888888888888,\"#fdca26\"],[1.0,\"#f0f921\"]]}],\"mesh3d\":[{\"type\":\"mesh3d\",\"colorbar\":{\"outlinewidth\":0,\"ticks\":\"\"}}],\"scatter\":[{\"fillpattern\":{\"fillmode\":\"overlay\",\"size\":10,\"solidity\":0.2},\"type\":\"scatter\"}],\"parcoords\":[{\"type\":\"parcoords\",\"line\":{\"colorbar\":{\"outlinewidth\":0,\"ticks\":\"\"}}}],\"scatterpolargl\":[{\"type\":\"scatterpolargl\",\"marker\":{\"colorbar\":{\"outlinewidth\":0,\"ticks\":\"\"}}}],\"bar\":[{\"error_x\":{\"color\":\"#2a3f5f\"},\"error_y\":{\"color\":\"#2a3f5f\"},\"marker\":{\"line\":{\"color\":\"#E5ECF6\",\"width\":0.5},\"pattern\":{\"fillmode\":\"overlay\",\"size\":10,\"solidity\":0.2}},\"type\":\"bar\"}],\"scattergeo\":[{\"type\":\"scattergeo\",\"marker\":{\"colorbar\":{\"outlinewidth\":0,\"ticks\":\"\"}}}],\"scatterpolar\":[{\"type\":\"scatterpolar\",\"marker\":{\"colorbar\":{\"outlinewidth\":0,\"ticks\":\"\"}}}],\"histogram\":[{\"marker\":{\"pattern\":{\"fillmode\":\"overlay\",\"size\":10,\"solidity\":0.2}},\"type\":\"histogram\"}],\"scattergl\":[{\"type\":\"scattergl\",\"marker\":{\"colorbar\":{\"outlinewidth\":0,\"ticks\":\"\"}}}],\"scatter3d\":[{\"type\":\"scatter3d\",\"line\":{\"colorbar\":{\"outlinewidth\":0,\"ticks\":\"\"}},\"marker\":{\"colorbar\":{\"outlinewidth\":0,\"ticks\":\"\"}}}],\"scattermapbox\":[{\"type\":\"scattermapbox\",\"marker\":{\"colorbar\":{\"outlinewidth\":0,\"ticks\":\"\"}}}],\"scatterternary\":[{\"type\":\"scatterternary\",\"marker\":{\"colorbar\":{\"outlinewidth\":0,\"ticks\":\"\"}}}],\"scattercarpet\":[{\"type\":\"scattercarpet\",\"marker\":{\"colorbar\":{\"outlinewidth\":0,\"ticks\":\"\"}}}],\"carpet\":[{\"aaxis\":{\"endlinecolor\":\"#2a3f5f\",\"gridcolor\":\"white\",\"linecolor\":\"white\",\"minorgridcolor\":\"white\",\"startlinecolor\":\"#2a3f5f\"},\"baxis\":{\"endlinecolor\":\"#2a3f5f\",\"gridcolor\":\"white\",\"linecolor\":\"white\",\"minorgridcolor\":\"white\",\"startlinecolor\":\"#2a3f5f\"},\"type\":\"carpet\"}],\"table\":[{\"cells\":{\"fill\":{\"color\":\"#EBF0F8\"},\"line\":{\"color\":\"white\"}},\"header\":{\"fill\":{\"color\":\"#C8D4E3\"},\"line\":{\"color\":\"white\"}},\"type\":\"table\"}],\"barpolar\":[{\"marker\":{\"line\":{\"color\":\"#E5ECF6\",\"width\":0.5},\"pattern\":{\"fillmode\":\"overlay\",\"size\":10,\"solidity\":0.2}},\"type\":\"barpolar\"}],\"pie\":[{\"automargin\":true,\"type\":\"pie\"}]},\"layout\":{\"autotypenumbers\":\"strict\",\"colorway\":[\"#636efa\",\"#EF553B\",\"#00cc96\",\"#ab63fa\",\"#FFA15A\",\"#19d3f3\",\"#FF6692\",\"#B6E880\",\"#FF97FF\",\"#FECB52\"],\"font\":{\"color\":\"#2a3f5f\"},\"hovermode\":\"closest\",\"hoverlabel\":{\"align\":\"left\"},\"paper_bgcolor\":\"white\",\"plot_bgcolor\":\"#E5ECF6\",\"polar\":{\"bgcolor\":\"#E5ECF6\",\"angularaxis\":{\"gridcolor\":\"white\",\"linecolor\":\"white\",\"ticks\":\"\"},\"radialaxis\":{\"gridcolor\":\"white\",\"linecolor\":\"white\",\"ticks\":\"\"}},\"ternary\":{\"bgcolor\":\"#E5ECF6\",\"aaxis\":{\"gridcolor\":\"white\",\"linecolor\":\"white\",\"ticks\":\"\"},\"baxis\":{\"gridcolor\":\"white\",\"linecolor\":\"white\",\"ticks\":\"\"},\"caxis\":{\"gridcolor\":\"white\",\"linecolor\":\"white\",\"ticks\":\"\"}},\"coloraxis\":{\"colorbar\":{\"outlinewidth\":0,\"ticks\":\"\"}},\"colorscale\":{\"sequential\":[[0.0,\"#0d0887\"],[0.1111111111111111,\"#46039f\"],[0.2222222222222222,\"#7201a8\"],[0.3333333333333333,\"#9c179e\"],[0.4444444444444444,\"#bd3786\"],[0.5555555555555556,\"#d8576b\"],[0.6666666666666666,\"#ed7953\"],[0.7777777777777778,\"#fb9f3a\"],[0.8888888888888888,\"#fdca26\"],[1.0,\"#f0f921\"]],\"sequentialminus\":[[0.0,\"#0d0887\"],[0.1111111111111111,\"#46039f\"],[0.2222222222222222,\"#7201a8\"],[0.3333333333333333,\"#9c179e\"],[0.4444444444444444,\"#bd3786\"],[0.5555555555555556,\"#d8576b\"],[0.6666666666666666,\"#ed7953\"],[0.7777777777777778,\"#fb9f3a\"],[0.8888888888888888,\"#fdca26\"],[1.0,\"#f0f921\"]],\"diverging\":[[0,\"#8e0152\"],[0.1,\"#c51b7d\"],[0.2,\"#de77ae\"],[0.3,\"#f1b6da\"],[0.4,\"#fde0ef\"],[0.5,\"#f7f7f7\"],[0.6,\"#e6f5d0\"],[0.7,\"#b8e186\"],[0.8,\"#7fbc41\"],[0.9,\"#4d9221\"],[1,\"#276419\"]]},\"xaxis\":{\"gridcolor\":\"white\",\"linecolor\":\"white\",\"ticks\":\"\",\"title\":{\"standoff\":15},\"zerolinecolor\":\"white\",\"automargin\":true,\"zerolinewidth\":2},\"yaxis\":{\"gridcolor\":\"white\",\"linecolor\":\"white\",\"ticks\":\"\",\"title\":{\"standoff\":15},\"zerolinecolor\":\"white\",\"automargin\":true,\"zerolinewidth\":2},\"scene\":{\"xaxis\":{\"backgroundcolor\":\"#E5ECF6\",\"gridcolor\":\"white\",\"linecolor\":\"white\",\"showbackground\":true,\"ticks\":\"\",\"zerolinecolor\":\"white\",\"gridwidth\":2},\"yaxis\":{\"backgroundcolor\":\"#E5ECF6\",\"gridcolor\":\"white\",\"linecolor\":\"white\",\"showbackground\":true,\"ticks\":\"\",\"zerolinecolor\":\"white\",\"gridwidth\":2},\"zaxis\":{\"backgroundcolor\":\"#E5ECF6\",\"gridcolor\":\"white\",\"linecolor\":\"white\",\"showbackground\":true,\"ticks\":\"\",\"zerolinecolor\":\"white\",\"gridwidth\":2}},\"shapedefaults\":{\"line\":{\"color\":\"#2a3f5f\"}},\"annotationdefaults\":{\"arrowcolor\":\"#2a3f5f\",\"arrowhead\":0,\"arrowwidth\":1},\"geo\":{\"bgcolor\":\"white\",\"landcolor\":\"#E5ECF6\",\"subunitcolor\":\"white\",\"showland\":true,\"showlakes\":true,\"lakecolor\":\"white\"},\"title\":{\"x\":0.05},\"mapbox\":{\"style\":\"light\"}}},\"xaxis\":{\"anchor\":\"y\",\"domain\":[0.0,1.0],\"title\":{\"text\":\"smoker\"}},\"yaxis\":{\"anchor\":\"x\",\"domain\":[0.0,1.0],\"title\":{\"text\":\"count\"}},\"legend\":{\"title\":{\"text\":\"sex\"},\"tracegroupgap\":0},\"title\":{\"text\":\"Smoker\"},\"barmode\":\"relative\"},                        {\"responsive\": true}                    ).then(function(){\n",
              "                            \n",
              "var gd = document.getElementById('c80cf570-52ed-4c13-9a41-8d292519dd20');\n",
              "var x = new MutationObserver(function (mutations, observer) {{\n",
              "        var display = window.getComputedStyle(gd).display;\n",
              "        if (!display || display === 'none') {{\n",
              "            console.log([gd, 'removed!']);\n",
              "            Plotly.purge(gd);\n",
              "            observer.disconnect();\n",
              "        }}\n",
              "}});\n",
              "\n",
              "// Listen for the removal of the full notebook cells\n",
              "var notebookContainer = gd.closest('#notebook-container');\n",
              "if (notebookContainer) {{\n",
              "    x.observe(notebookContainer, {childList: true});\n",
              "}}\n",
              "\n",
              "// Listen for the clearing of the current output cell\n",
              "var outputEl = gd.closest('.output');\n",
              "if (outputEl) {{\n",
              "    x.observe(outputEl, {childList: true});\n",
              "}}\n",
              "\n",
              "                        })                };                            </script>        </div>\n",
              "</body>\n",
              "</html>"
            ]
          },
          "metadata": {}
        }
      ],
      "source": [
        "px.histogram(medical_df, x='smoker', color='sex', title='Smoker')"
      ]
    },
    {
      "cell_type": "markdown",
      "id": "55bcfcbc",
      "metadata": {
        "id": "55bcfcbc"
      },
      "source": [
        "It appears that 20% of customers have reported that they smoke. Can you verify whether this matches the national average, assuming the data was collected in 2010? We can also see that smoking appears a more common habit among males. Can you verify this?\n",
        "\n"
      ]
    },
    {
      "cell_type": "markdown",
      "id": "08e5c1ff",
      "metadata": {
        "id": "08e5c1ff"
      },
      "source": [
        "> **EXERCISE**: Visualize the distributions of the \"sex\", \"region\" and \"children\" columns and report your observations."
      ]
    },
    {
      "cell_type": "code",
      "execution_count": null,
      "id": "3a13c26d",
      "metadata": {
        "id": "3a13c26d"
      },
      "outputs": [],
      "source": []
    },
    {
      "cell_type": "code",
      "execution_count": null,
      "id": "807ab8d4",
      "metadata": {
        "id": "807ab8d4"
      },
      "outputs": [],
      "source": []
    },
    {
      "cell_type": "code",
      "execution_count": null,
      "id": "5f7b0736",
      "metadata": {
        "id": "5f7b0736"
      },
      "outputs": [],
      "source": []
    },
    {
      "cell_type": "markdown",
      "id": "f19bf6f1",
      "metadata": {
        "id": "f19bf6f1"
      },
      "source": [
        "Having looked at individual columns, we can now visualize the relationship between \"charges\" (the value we wish to predict) and other columns.\n",
        "\n",
        "### Age and Charges\n",
        "\n",
        "Let's visualize the relationship between \"age\" and \"charges\" using a scatter plot. Each point in the scatter plot represents one customer. We'll also use values in the \"smoker\" column to color the points."
      ]
    },
    {
      "cell_type": "code",
      "execution_count": null,
      "id": "5d6d5d24",
      "metadata": {
        "id": "5d6d5d24"
      },
      "outputs": [],
      "source": [
        "fig = px.scatter(medical_df,\n",
        "                 x='age',\n",
        "                 y='charges',\n",
        "                 color='smoker',\n",
        "                 opacity=0.8,\n",
        "                 hover_data=['sex'],\n",
        "                 title='Age vs. Charges')\n",
        "fig.update_traces(marker_size=5)\n",
        "fig.show()"
      ]
    },
    {
      "cell_type": "markdown",
      "id": "eec2d883",
      "metadata": {
        "id": "eec2d883"
      },
      "source": [
        "We can make the following observations from the above chart:\n",
        "\n",
        "* The general trend seems to be that medical charges increase with age, as we might expect. However, there is significant variation at every age, and it's clear that age alone cannot be used to accurately determine medical charges.\n",
        "\n",
        "\n",
        "* We can see three \"clusters\" of points, each of which seems to form a line with an increasing slope:\n",
        "\n",
        "     1. The first and the largest cluster consists primary of presumably \"healthy non-smokers\" who have relatively low medical charges compared to others\n",
        "     \n",
        "     2. The second cluster contains a mix of smokers and non-smokers. It's possible that these are actually two distinct but overlapping clusters: \"non-smokers with medical issues\" and \"smokers without major medical issues\".\n",
        "     \n",
        "     3. The final cluster consists exclusively of smokers, presumably smokers with major medical issues that are possibly related to or worsened by smoking.\n",
        "     \n",
        "\n",
        "> **EXERCISE**: What other inferences can you draw from the above chart?\n",
        ">\n",
        "> ???"
      ]
    },
    {
      "cell_type": "markdown",
      "id": "585f06c7",
      "metadata": {
        "id": "585f06c7"
      },
      "source": [
        "### BMI and Charges\n",
        "\n",
        "Let's visualize the relationship between BMI (body mass index) and charges using another scatter plot. Once again, we'll use the values from the \"smoker\" column to color the points."
      ]
    },
    {
      "cell_type": "code",
      "execution_count": null,
      "id": "745f5099",
      "metadata": {
        "id": "745f5099"
      },
      "outputs": [],
      "source": [
        "fig = px.scatter(medical_df,\n",
        "                 x='bmi',\n",
        "                 y='charges',\n",
        "                 color='smoker',\n",
        "                 opacity=0.8,\n",
        "                 hover_data=['sex'],\n",
        "                 title='BMI vs. Charges')\n",
        "fig.update_traces(marker_size=5)\n",
        "fig.show()"
      ]
    },
    {
      "cell_type": "markdown",
      "id": "227a0317",
      "metadata": {
        "id": "227a0317"
      },
      "source": [
        "It appears that for non-smokers, an increase in BMI doesn't seem to be related to an increase in medical charges. However, medical charges seem to be significantly higher for smokers with a BMI greater than 30.\n",
        "\n",
        "What other insights can you gather from the above graph?"
      ]
    },
    {
      "cell_type": "markdown",
      "id": "94d4b458",
      "metadata": {
        "id": "94d4b458"
      },
      "source": [
        "> **EXERCISE**: Create some more graphs to visualize how the \"charges\" column is related to other columns (\"children\", \"sex\", \"region\" and \"smoker\"). Summarize the insights gathered from these graphs.\n",
        ">\n",
        "> *Hint*: Use violin plots (`px.violin`) and bar plots (`sns.barplot`)\n"
      ]
    },
    {
      "cell_type": "code",
      "execution_count": null,
      "id": "0f1d297b",
      "metadata": {
        "id": "0f1d297b"
      },
      "outputs": [],
      "source": []
    },
    {
      "cell_type": "code",
      "execution_count": null,
      "id": "88e8137e",
      "metadata": {
        "id": "88e8137e"
      },
      "outputs": [],
      "source": []
    },
    {
      "cell_type": "code",
      "execution_count": null,
      "id": "6f065a98",
      "metadata": {
        "id": "6f065a98"
      },
      "outputs": [],
      "source": []
    },
    {
      "cell_type": "code",
      "execution_count": null,
      "id": "5049aaf4",
      "metadata": {
        "id": "5049aaf4"
      },
      "outputs": [],
      "source": []
    },
    {
      "cell_type": "markdown",
      "id": "33d33ac6",
      "metadata": {
        "id": "33d33ac6"
      },
      "source": [
        "### Correlation\n",
        "\n",
        "As you can tell from the analysis, the values in some columns are more closely related to the values in \"charges\" compared to other columns. E.g. \"age\" and \"charges\" seem to grow together, whereas \"bmi\" and \"charges\" don't.\n",
        "\n",
        "This relationship is often expressed numerically using a measure called the _correlation coefficient_, which can be computed using the `.corr` method of a Pandas series."
      ]
    },
    {
      "cell_type": "code",
      "execution_count": null,
      "id": "bcd6d4d6",
      "metadata": {
        "id": "bcd6d4d6"
      },
      "outputs": [],
      "source": [
        "medical_df.charges.corr(medical_df.age)"
      ]
    },
    {
      "cell_type": "code",
      "execution_count": null,
      "id": "d69e90e1",
      "metadata": {
        "id": "d69e90e1"
      },
      "outputs": [],
      "source": [
        "medical_df.charges.corr(medical_df.bmi)"
      ]
    },
    {
      "cell_type": "markdown",
      "id": "68aa0d91",
      "metadata": {
        "id": "68aa0d91"
      },
      "source": [
        "To compute the correlation for categorical columns, they must first be converted into numeric columns."
      ]
    },
    {
      "cell_type": "code",
      "execution_count": null,
      "id": "490888ba",
      "metadata": {
        "id": "490888ba"
      },
      "outputs": [],
      "source": [
        "smoker_values = {'no': 0, 'yes': 1}\n",
        "smoker_numeric = medical_df.smoker.map(smoker_values)\n",
        "medical_df.charges.corr(smoker_numeric)"
      ]
    },
    {
      "cell_type": "markdown",
      "id": "8d9852b4",
      "metadata": {
        "id": "8d9852b4"
      },
      "source": [
        "\n",
        "\n",
        "\n",
        "Here's how correlation coefficients can be interpreted ([source](https://statisticsbyjim.com/basics/correlations)):\n",
        "\n",
        "* **Strength**: The greater the absolute value of the correlation coefficient, the stronger the relationship.\n",
        "\n",
        "    * The extreme values of -1 and 1 indicate a perfectly linear relationship where a change in one variable is accompanied by a perfectly consistent change in the other. For these relationships, all of the data points fall on a line. In practice, you won’t see either type of perfect relationship.\n",
        "\n",
        "    * A coefficient of zero represents no linear relationship. As one variable increases, there is no tendency in the other variable to either increase or decrease.\n",
        "    \n",
        "    * When the value is in-between 0 and +1/-1, there is a relationship, but the points don’t all fall on a line. As r approaches -1 or 1, the strength of the relationship increases and the data points tend to fall closer to a line.\n",
        "\n",
        "\n",
        "* **Direction**: The sign of the correlation coefficient represents the direction of the relationship.\n",
        "\n",
        "    * Positive coefficients indicate that when the value of one variable increases, the value of the other variable also tends to increase. Positive relationships produce an upward slope on a scatterplot.\n",
        "    \n",
        "    * Negative coefficients represent cases when the value of one variable increases, the value of the other variable tends to decrease. Negative relationships produce a downward slope.\n",
        "\n",
        "Here's the same relationship expressed visually ([source](https://www.cuemath.com/data/how-to-calculate-correlation-coefficient/)):\n",
        "\n",
        "<img src=\"https://i.imgur.com/3XUpDlw.png\" width=\"360\">\n",
        "\n",
        "The correlation coefficient has the following formula:\n",
        "\n",
        "<img src=\"https://i.imgur.com/unapugP.png\" width=\"360\">\n",
        "\n",
        "You can learn more about the mathematical definition and geometric interpretation of correlation here: https://www.youtube.com/watch?v=xZ_z8KWkhXE\n",
        "\n",
        "Pandas dataframes also provide a `.corr` method to compute the correlation coefficients between all pairs of numeric columns."
      ]
    },
    {
      "cell_type": "code",
      "execution_count": null,
      "id": "53b625c7",
      "metadata": {
        "id": "53b625c7"
      },
      "outputs": [],
      "source": [
        "medical_df.corr()"
      ]
    },
    {
      "cell_type": "markdown",
      "id": "69108b01",
      "metadata": {
        "id": "69108b01"
      },
      "source": [
        "The result of `.corr` is called a correlation matrix and is often visualized using a heatmap."
      ]
    },
    {
      "cell_type": "code",
      "execution_count": null,
      "id": "c94049f3",
      "metadata": {
        "id": "c94049f3"
      },
      "outputs": [],
      "source": [
        "sns.heatmap(medical_df.corr(), cmap='Reds', annot=True)\n",
        "plt.title('Correlation Matrix');"
      ]
    },
    {
      "cell_type": "markdown",
      "id": "68de3f2a",
      "metadata": {
        "id": "68de3f2a"
      },
      "source": [
        "**Correlation vs causation fallacy:** Note that a high correlation cannot be used to interpret a cause-effect relationship between features. Two features $X$ and $Y$ can be correlated if $X$ causes $Y$ or if $Y$ causes $X$, or if both are caused independently by some other factor $Z$, and the correlation will no longer hold true if one of the cause-effect relationships is broken. It's also possible that $X$ are $Y$ simply appear to be correlated because the sample is too small.\n",
        "\n",
        "While this may seem obvious, computers can't differentiate between correlation and causation, and decisions based on automated system can often have major consequences on society, so it's important to study why automated systems lead to a given result. Determining cause-effect relationships requires human insight."
      ]
    },
    {
      "cell_type": "markdown",
      "id": "324e1d52",
      "metadata": {
        "id": "324e1d52"
      },
      "source": [
        "Let's save our work before continuing."
      ]
    },
    {
      "cell_type": "code",
      "execution_count": 48,
      "id": "72623ae5",
      "metadata": {
        "colab": {
          "base_uri": "https://localhost:8080/"
        },
        "id": "72623ae5",
        "outputId": "8976b1ed-0141-4895-b35a-646770dea546"
      },
      "outputs": [
        {
          "output_type": "stream",
          "name": "stdout",
          "text": [
            "[jovian] Detected Colab notebook...\u001b[0m\n",
            "[jovian] jovian.commit() is no longer required on Google Colab. If you ran this notebook from Jovian, \n",
            "then just save this file in Colab using Ctrl+S/Cmd+S and it will be updated on Jovian. \n",
            "Also, you can also delete this cell, it's no longer necessary.\u001b[0m\n"
          ]
        }
      ],
      "source": [
        "jovian.commit()"
      ]
    },
    {
      "cell_type": "markdown",
      "id": "eab02335",
      "metadata": {
        "id": "eab02335"
      },
      "source": [
        "## Linear Regression using a Single Feature\n",
        "\n",
        "We now know that the \"smoker\" and \"age\" columns have the strongest correlation with \"charges\". Let's try to find a way of estimating the value of \"charges\" using the value of \"age\" for non-smokers. First, let's create a data frame containing just the data for non-smokers."
      ]
    },
    {
      "cell_type": "code",
      "execution_count": null,
      "id": "fc5f95a2",
      "metadata": {
        "id": "fc5f95a2"
      },
      "outputs": [],
      "source": [
        "non_smoker_df = medical_df[medical_df.smoker == 'no']"
      ]
    },
    {
      "cell_type": "markdown",
      "id": "47dae464",
      "metadata": {
        "id": "47dae464"
      },
      "source": [
        "Next, let's visualize the relationship between \"age\" and \"charges\""
      ]
    },
    {
      "cell_type": "code",
      "execution_count": null,
      "id": "b6e218f7",
      "metadata": {
        "id": "b6e218f7"
      },
      "outputs": [],
      "source": [
        "plt.title('Age vs. Charges')\n",
        "sns.scatterplot(data=non_smoker_df, x='age', y='charges', alpha=0.7, s=15);"
      ]
    },
    {
      "cell_type": "markdown",
      "id": "2baffd91",
      "metadata": {
        "id": "2baffd91"
      },
      "source": [
        "Apart from a few exceptions, the points seem to form a line. We'll try and \"fit\" a line using this points, and use the line to predict charges for a given age. A line on the X&Y coordinates has the following formula:\n",
        "\n",
        "$y = wx + b$\n",
        "\n",
        "The line is characterized two numbers: $w$ (called \"slope\") and $b$ (called \"intercept\").\n",
        "\n",
        "### Model\n",
        "\n",
        "In the above case, the x axis shows \"age\" and the y axis shows \"charges\". Thus, we're assuming the following relationship between the two:\n",
        "\n",
        "$charges = w \\times age + b$\n",
        "\n",
        "We'll try determine $w$ and $b$ for the line that best fits the data.\n",
        "\n",
        "* This technique is called _linear regression_, and we call the above equation a _linear regression model_, because it models the relationship between \"age\" and \"charges\" as a straight line.\n",
        "\n",
        "* The numbers $w$ and $b$ are called the _parameters_ or _weights_ of the model.\n",
        "\n",
        "* The values in the \"age\" column of the dataset are called the _inputs_ to the model and the values in the charges column are called \"targets\".\n",
        "\n",
        "Let define a helper function `estimate_charges`, to compute $charges$, given $age$, $w$ and $b$.\n"
      ]
    },
    {
      "cell_type": "code",
      "execution_count": null,
      "id": "5a718186",
      "metadata": {
        "id": "5a718186"
      },
      "outputs": [],
      "source": [
        "def estimate_charges(age, w, b):\n",
        "    return w * age + b"
      ]
    },
    {
      "cell_type": "markdown",
      "id": "f58fc89c",
      "metadata": {
        "id": "f58fc89c"
      },
      "source": [
        "The `estimate_charges` function is our very first _model_.\n",
        "\n",
        "Let's _guess_ the values for $w$ and $b$ and use them to estimate the value for charges."
      ]
    },
    {
      "cell_type": "code",
      "execution_count": null,
      "id": "3f171033",
      "metadata": {
        "id": "3f171033"
      },
      "outputs": [],
      "source": [
        "w = 50\n",
        "b = 100"
      ]
    },
    {
      "cell_type": "code",
      "execution_count": null,
      "id": "d98596e8",
      "metadata": {
        "id": "d98596e8"
      },
      "outputs": [],
      "source": [
        "ages = non_smoker_df.age\n",
        "estimated_charges = estimate_charges(ages, w, b)"
      ]
    },
    {
      "cell_type": "markdown",
      "id": "33ca95fc",
      "metadata": {
        "id": "33ca95fc"
      },
      "source": [
        "We can plot the estimated charges using a line graph."
      ]
    },
    {
      "cell_type": "code",
      "execution_count": null,
      "id": "2ca70529",
      "metadata": {
        "id": "2ca70529"
      },
      "outputs": [],
      "source": [
        "plt.plot(ages, estimated_charges, 'r-o');\n",
        "plt.xlabel('Age');\n",
        "plt.ylabel('Estimated Charges');"
      ]
    },
    {
      "cell_type": "markdown",
      "id": "8ad1a4b5",
      "metadata": {
        "id": "8ad1a4b5"
      },
      "source": [
        "As expected, the points lie on a straight line.\n",
        "\n",
        "We can overlay this line on the actual data, so see how well our _model_ fits the _data_."
      ]
    },
    {
      "cell_type": "code",
      "execution_count": null,
      "id": "6c410ea9",
      "metadata": {
        "id": "6c410ea9"
      },
      "outputs": [],
      "source": [
        "target = non_smoker_df.charges\n",
        "\n",
        "plt.plot(ages, estimated_charges, 'r', alpha=0.9);\n",
        "plt.scatter(ages, target, s=8,alpha=0.8);\n",
        "plt.xlabel('Age');\n",
        "plt.ylabel('Charges')\n",
        "plt.legend(['Estimate', 'Actual']);"
      ]
    },
    {
      "cell_type": "markdown",
      "id": "6d44f8f9",
      "metadata": {
        "id": "6d44f8f9"
      },
      "source": [
        "Clearly, the our estimates are quite poor and the line does not \"fit\" the data. However, we can try different values of $w$ and $b$ to move the line around. Let's define a helper function `try_parameters` which takes `w` and `b` as inputs and creates the above plot."
      ]
    },
    {
      "cell_type": "code",
      "execution_count": null,
      "id": "49e0cdcf",
      "metadata": {
        "id": "49e0cdcf"
      },
      "outputs": [],
      "source": [
        "def try_parameters(w, b):\n",
        "    ages = non_smoker_df.age\n",
        "    target = non_smoker_df.charges\n",
        "\n",
        "    estimated_charges = estimate_charges(ages, w, b)\n",
        "\n",
        "    plt.plot(ages, estimated_charges, 'r', alpha=0.9);\n",
        "    plt.scatter(ages, target, s=8,alpha=0.8);\n",
        "    plt.xlabel('Age');\n",
        "    plt.ylabel('Charges')\n",
        "    plt.legend(['Estimate', 'Actual']);"
      ]
    },
    {
      "cell_type": "code",
      "execution_count": null,
      "id": "65976fd3",
      "metadata": {
        "id": "65976fd3"
      },
      "outputs": [],
      "source": [
        "try_parameters(60, 200)"
      ]
    },
    {
      "cell_type": "code",
      "execution_count": null,
      "id": "c3fb1453",
      "metadata": {
        "scrolled": false,
        "id": "c3fb1453"
      },
      "outputs": [],
      "source": [
        "try_parameters(400, 5000)"
      ]
    },
    {
      "cell_type": "markdown",
      "id": "0ed3893a",
      "metadata": {
        "id": "0ed3893a"
      },
      "source": [
        "> **EXERCISE**: Try various values of $w$ and $b$ to find a line that best fits the data. What is the effect of changing the value of $w$? What is the effect of changing $b$?"
      ]
    },
    {
      "cell_type": "code",
      "execution_count": null,
      "id": "6b46dcb9",
      "metadata": {
        "id": "6b46dcb9"
      },
      "outputs": [],
      "source": []
    },
    {
      "cell_type": "code",
      "execution_count": null,
      "id": "5a96801d",
      "metadata": {
        "id": "5a96801d"
      },
      "outputs": [],
      "source": []
    },
    {
      "cell_type": "code",
      "execution_count": null,
      "id": "43d0490f",
      "metadata": {
        "id": "43d0490f"
      },
      "outputs": [],
      "source": []
    },
    {
      "cell_type": "markdown",
      "id": "452c291c",
      "metadata": {
        "id": "452c291c"
      },
      "source": [
        "As we change the values, of $w$ and $b$ manually, trying to move the line visually closer to the points, we are _learning_ the approximate relationship between \"age\" and \"charges\".\n",
        "\n",
        "Wouldn't it be nice if a computer could try several different values of `w` and `b` and _learn_ the relationship between \"age\" and \"charges\"? To do this, we need to solve a couple of problems:\n",
        "\n",
        "1. We need a way to measure numerically how well the line fits the points.\n",
        "\n",
        "2. Once the \"measure of fit\" has been computed, we need a way to modify `w` and `b` to improve the the fit.\n",
        "\n",
        "If we can solve the above problems, it should be possible for a computer to determine `w` and `b` for the best fit line, starting from a random guess."
      ]
    },
    {
      "cell_type": "markdown",
      "id": "c0a905ea",
      "metadata": {
        "id": "c0a905ea"
      },
      "source": [
        "### Loss/Cost Function\n",
        "\n",
        "We can compare our model's predictions with the actual targets using the following method:\n",
        "\n",
        "* Calculate the difference between the targets and predictions (the differenced is called the \"residual\")\n",
        "* Square all elements of the difference matrix to remove negative values.\n",
        "* Calculate the average of the elements in the resulting matrix.\n",
        "* Take the square root of the result\n",
        "\n",
        "The result is a single number, known as the **root mean squared error** (RMSE). The above description can be stated mathematically as follows:\n",
        "\n",
        "<img src=\"https://i.imgur.com/WCanPkA.png\" width=\"360\">\n",
        "\n",
        "Geometrically, the residuals can be visualized as follows:\n",
        "\n",
        "<img src=\"https://i.imgur.com/ll3NL80.png\" width=\"420\">\n",
        "\n",
        "Let's define a function to compute the RMSE."
      ]
    },
    {
      "cell_type": "code",
      "execution_count": null,
      "id": "b69db3e3",
      "metadata": {
        "id": "b69db3e3"
      },
      "outputs": [],
      "source": [
        "!pip install numpy --quiet"
      ]
    },
    {
      "cell_type": "code",
      "execution_count": null,
      "id": "498d84d9",
      "metadata": {
        "id": "498d84d9"
      },
      "outputs": [],
      "source": [
        "import numpy as np"
      ]
    },
    {
      "cell_type": "code",
      "execution_count": null,
      "id": "e5cb0cab",
      "metadata": {
        "id": "e5cb0cab"
      },
      "outputs": [],
      "source": [
        "def rmse(targets, predictions):\n",
        "    return np.sqrt(np.mean(np.square(targets - predictions)))"
      ]
    },
    {
      "cell_type": "markdown",
      "id": "7e6d4cf1",
      "metadata": {
        "id": "7e6d4cf1"
      },
      "source": [
        "Let's compute the RMSE for our model with a sample set of weights"
      ]
    },
    {
      "cell_type": "code",
      "execution_count": null,
      "id": "5e5941fb",
      "metadata": {
        "id": "5e5941fb"
      },
      "outputs": [],
      "source": [
        "w = 50\n",
        "b = 100"
      ]
    },
    {
      "cell_type": "code",
      "execution_count": null,
      "id": "edb05a32",
      "metadata": {
        "id": "edb05a32"
      },
      "outputs": [],
      "source": [
        "try_parameters(w, b)"
      ]
    },
    {
      "cell_type": "code",
      "execution_count": null,
      "id": "642e7247",
      "metadata": {
        "id": "642e7247"
      },
      "outputs": [],
      "source": [
        "targets = non_smoker_df['charges']\n",
        "predicted = estimate_charges(non_smoker_df.age, w, b)"
      ]
    },
    {
      "cell_type": "code",
      "execution_count": null,
      "id": "4401f23c",
      "metadata": {
        "id": "4401f23c"
      },
      "outputs": [],
      "source": [
        "rmse(targets, predicted)"
      ]
    },
    {
      "cell_type": "markdown",
      "id": "996b8371",
      "metadata": {
        "id": "996b8371"
      },
      "source": [
        "Here's how we can interpret the above number: *On average, each element in the prediction differs from the actual target by \\\\$8461*.\n",
        "\n",
        "The result is called the *loss* because it indicates how bad the model is at predicting the target variables. It represents information loss in the model: the lower the loss, the better the model.\n",
        "\n",
        "Let's modify the `try_parameters` functions to also display the loss."
      ]
    },
    {
      "cell_type": "code",
      "execution_count": null,
      "id": "15dbbaf1",
      "metadata": {
        "id": "15dbbaf1"
      },
      "outputs": [],
      "source": [
        "def try_parameters(w, b):\n",
        "    ages = non_smoker_df.age\n",
        "    target = non_smoker_df.charges\n",
        "    predictions = estimate_charges(ages, w, b)\n",
        "\n",
        "    plt.plot(ages, predictions, 'r', alpha=0.9);\n",
        "    plt.scatter(ages, target, s=8,alpha=0.8);\n",
        "    plt.xlabel('Age');\n",
        "    plt.ylabel('Charges')\n",
        "    plt.legend(['Prediction', 'Actual']);\n",
        "\n",
        "    loss = rmse(target, predictions)\n",
        "    print(\"RMSE Loss: \", loss)"
      ]
    },
    {
      "cell_type": "code",
      "execution_count": null,
      "id": "bfadd017",
      "metadata": {
        "id": "bfadd017"
      },
      "outputs": [],
      "source": [
        "try_parameters(50, 100)"
      ]
    },
    {
      "cell_type": "markdown",
      "id": "3d1cf458",
      "metadata": {
        "id": "3d1cf458"
      },
      "source": [
        "> **EXERCISE**: Try different values of $w$ and $b$ to minimize the RMSE loss. What's the lowest value of loss you are able to achieve? Can you come with a general strategy for finding better values of $w$ and $b$ by trial and error?"
      ]
    },
    {
      "cell_type": "code",
      "execution_count": null,
      "id": "aaa548a2",
      "metadata": {
        "id": "aaa548a2"
      },
      "outputs": [],
      "source": []
    },
    {
      "cell_type": "code",
      "execution_count": null,
      "id": "a72060a8",
      "metadata": {
        "id": "a72060a8"
      },
      "outputs": [],
      "source": []
    },
    {
      "cell_type": "code",
      "execution_count": null,
      "id": "3639a5ac",
      "metadata": {
        "id": "3639a5ac"
      },
      "outputs": [],
      "source": []
    },
    {
      "cell_type": "markdown",
      "id": "1c562b45",
      "metadata": {
        "id": "1c562b45"
      },
      "source": [
        "### Optimizer\n",
        "\n",
        "Next, we need a strategy to modify weights `w` and `b` to reduce the loss and improve the \"fit\" of the line to the data.\n",
        "\n",
        "* Ordinary Least Squares: https://www.youtube.com/watch?v=szXbuO3bVRk (better for smaller datasets)\n",
        "* Stochastic gradient descent: https://www.youtube.com/watch?v=sDv4f4s2SB8 (better for larger datasets)\n",
        "\n",
        "Both of these have the same objective: to minimize the loss, however, while ordinary least squares directly computes the best values for `w` and `b` using matrix operations, while gradient descent uses a iterative approach, starting with a random values of `w` and `b` and slowly improving them using derivatives.\n",
        "\n",
        "Here's a visualization of how gradient descent works:\n",
        "\n",
        "![](https://miro.medium.com/max/1728/1*NO-YvpHHadk5lLxtg4Gfrw.gif)\n",
        "\n",
        "Doesn't it look similar to our own strategy of gradually moving the line closer to the points?\n",
        "\n"
      ]
    },
    {
      "cell_type": "markdown",
      "id": "b5060d75",
      "metadata": {
        "id": "b5060d75"
      },
      "source": [
        "### Linear Regression using Scikit-learn\n",
        "\n",
        "In practice, you'll never need to implement either of the above methods yourself. You can use a library like `scikit-learn` to do this for you."
      ]
    },
    {
      "cell_type": "code",
      "execution_count": null,
      "id": "5861457f",
      "metadata": {
        "id": "5861457f"
      },
      "outputs": [],
      "source": [
        "!pip install scikit-learn --quiet"
      ]
    },
    {
      "cell_type": "markdown",
      "id": "6c79c881",
      "metadata": {
        "id": "6c79c881"
      },
      "source": [
        "Let's use the `LinearRegression` class from `scikit-learn` to find the best fit line for \"age\" vs. \"charges\" using the ordinary least squares optimization technique."
      ]
    },
    {
      "cell_type": "code",
      "execution_count": null,
      "id": "1bd6a91c",
      "metadata": {
        "id": "1bd6a91c"
      },
      "outputs": [],
      "source": [
        "from sklearn.linear_model import LinearRegression"
      ]
    },
    {
      "cell_type": "markdown",
      "id": "68cf1399",
      "metadata": {
        "id": "68cf1399"
      },
      "source": [
        "First, we create a new model object."
      ]
    },
    {
      "cell_type": "code",
      "execution_count": null,
      "id": "8b690c0c",
      "metadata": {
        "id": "8b690c0c"
      },
      "outputs": [],
      "source": [
        "model = LinearRegression()"
      ]
    },
    {
      "cell_type": "markdown",
      "id": "1e56b468",
      "metadata": {
        "id": "1e56b468"
      },
      "source": [
        "Next, we can use the `fit` method of the model to find the best fit line for the inputs and targets."
      ]
    },
    {
      "cell_type": "code",
      "execution_count": null,
      "id": "3a1a957f",
      "metadata": {
        "id": "3a1a957f"
      },
      "outputs": [],
      "source": [
        "help(model.fit)"
      ]
    },
    {
      "cell_type": "markdown",
      "id": "f5645a5c",
      "metadata": {
        "id": "f5645a5c"
      },
      "source": [
        "Not that the input `X` must be a 2-d array, so we'll need to pass a dataframe, instead of a single column."
      ]
    },
    {
      "cell_type": "code",
      "execution_count": null,
      "id": "21693b2f",
      "metadata": {
        "id": "21693b2f"
      },
      "outputs": [],
      "source": [
        "inputs = non_smoker_df[['age']]\n",
        "targets = non_smoker_df.charges\n",
        "print('inputs.shape :', inputs.shape)\n",
        "print('targes.shape :', targets.shape)"
      ]
    },
    {
      "cell_type": "markdown",
      "id": "8280d6bb",
      "metadata": {
        "id": "8280d6bb"
      },
      "source": [
        "Let's fit the model to the data."
      ]
    },
    {
      "cell_type": "code",
      "execution_count": null,
      "id": "c27cf40f",
      "metadata": {
        "id": "c27cf40f"
      },
      "outputs": [],
      "source": [
        "model.fit(inputs, targets)"
      ]
    },
    {
      "cell_type": "markdown",
      "id": "61367053",
      "metadata": {
        "id": "61367053"
      },
      "source": [
        "We can now make predictions using the model. Let's try predicting the charges for the ages 23, 37 and 61"
      ]
    },
    {
      "cell_type": "code",
      "execution_count": null,
      "id": "5e342060",
      "metadata": {
        "id": "5e342060"
      },
      "outputs": [],
      "source": [
        "model.predict(np.array([[23],\n",
        "                        [37],\n",
        "                        [61]]))"
      ]
    },
    {
      "cell_type": "markdown",
      "id": "4f00e31a",
      "metadata": {
        "id": "4f00e31a"
      },
      "source": [
        "Do these values seem reasonable? Compare them with the scatter plot above.\n",
        "\n",
        "Let compute the predictions for the entire set of inputs"
      ]
    },
    {
      "cell_type": "code",
      "execution_count": null,
      "id": "705628f0",
      "metadata": {
        "id": "705628f0"
      },
      "outputs": [],
      "source": [
        "predictions = model.predict(inputs)"
      ]
    },
    {
      "cell_type": "code",
      "execution_count": null,
      "id": "8eea9cf3",
      "metadata": {
        "id": "8eea9cf3"
      },
      "outputs": [],
      "source": [
        "predictions"
      ]
    },
    {
      "cell_type": "markdown",
      "id": "0590d375",
      "metadata": {
        "id": "0590d375"
      },
      "source": [
        "Let's compute the RMSE loss to evaluate the model."
      ]
    },
    {
      "cell_type": "code",
      "execution_count": null,
      "id": "cf1677a9",
      "metadata": {
        "id": "cf1677a9"
      },
      "outputs": [],
      "source": [
        "rmse(targets, predictions)"
      ]
    },
    {
      "cell_type": "markdown",
      "id": "7d7459a7",
      "metadata": {
        "id": "7d7459a7"
      },
      "source": [
        "Seems like our prediction is off by $4000 on average, which is not too bad considering the fact that there are several outliers."
      ]
    },
    {
      "cell_type": "markdown",
      "id": "04ef4656",
      "metadata": {
        "id": "04ef4656"
      },
      "source": [
        "The parameters of the model are stored in the `coef_` and `intercept_` properties."
      ]
    },
    {
      "cell_type": "code",
      "execution_count": null,
      "id": "c47d0e9a",
      "metadata": {
        "id": "c47d0e9a"
      },
      "outputs": [],
      "source": [
        "# w\n",
        "model.coef_"
      ]
    },
    {
      "cell_type": "code",
      "execution_count": null,
      "id": "34149458",
      "metadata": {
        "id": "34149458"
      },
      "outputs": [],
      "source": [
        "# b\n",
        "model.intercept_"
      ]
    },
    {
      "cell_type": "markdown",
      "id": "0df2ab81",
      "metadata": {
        "id": "0df2ab81"
      },
      "source": [
        "Are these parameters close to your best guesses?\n",
        "\n",
        "Let's visualize the line created by the above parameters."
      ]
    },
    {
      "cell_type": "code",
      "execution_count": null,
      "id": "0fa0b08e",
      "metadata": {
        "id": "0fa0b08e"
      },
      "outputs": [],
      "source": [
        "try_parameters(model.coef_, model.intercept_)"
      ]
    },
    {
      "cell_type": "markdown",
      "id": "568d5ea8",
      "metadata": {
        "id": "568d5ea8"
      },
      "source": [
        "Indeed the line is quite close to the points. It is slightly above the cluster of points, because it's also trying to account for the outliers.\n",
        "\n",
        "> **EXERCISE**: Use the [`SGDRegressor`](https://scikit-learn.org/stable/modules/generated/sklearn.linear_model.SGDRegressor.html) class from `scikit-learn` to train a model using the stochastic gradient descent technique. Make predictions and compute the loss. Do you see any difference in the result?"
      ]
    },
    {
      "cell_type": "code",
      "execution_count": null,
      "id": "ee442a00",
      "metadata": {
        "id": "ee442a00"
      },
      "outputs": [],
      "source": []
    },
    {
      "cell_type": "code",
      "execution_count": null,
      "id": "ad6e52f5",
      "metadata": {
        "id": "ad6e52f5"
      },
      "outputs": [],
      "source": []
    },
    {
      "cell_type": "code",
      "execution_count": null,
      "id": "3f968e54",
      "metadata": {
        "id": "3f968e54"
      },
      "outputs": [],
      "source": []
    },
    {
      "cell_type": "markdown",
      "id": "eaf4b75b",
      "metadata": {
        "id": "eaf4b75b"
      },
      "source": [
        "> **EXERCISE**: Repeat the steps is this section to train a linear regression model to estimate medical charges for smokers. Visualize the targets and predictions, and compute the loss."
      ]
    },
    {
      "cell_type": "code",
      "execution_count": null,
      "id": "56e996b8",
      "metadata": {
        "id": "56e996b8"
      },
      "outputs": [],
      "source": []
    },
    {
      "cell_type": "code",
      "execution_count": null,
      "id": "382309ce",
      "metadata": {
        "id": "382309ce"
      },
      "outputs": [],
      "source": []
    },
    {
      "cell_type": "code",
      "execution_count": null,
      "id": "a384c438",
      "metadata": {
        "id": "a384c438"
      },
      "outputs": [],
      "source": []
    },
    {
      "cell_type": "markdown",
      "id": "47a9b57a",
      "metadata": {
        "id": "47a9b57a"
      },
      "source": [
        "### Machine Learning\n",
        "\n",
        "Congratulations, you've just trained your first _machine learning model!_ Machine learning is simply the process of computing the best parameters to model the relationship between some feature and targets.\n",
        "\n",
        "Every machine learning problem has three components:\n",
        "\n",
        "1. **Model**\n",
        "\n",
        "2. **Cost Function**\n",
        "\n",
        "3. **Optimizer**\n",
        "\n",
        "We'll look at several examples of each of the above in future tutorials. Here's how the relationship between these three components can be visualized:\n",
        "\n",
        "<img src=\"https://i.imgur.com/oiGQFJ9.png\" width=\"480\">"
      ]
    },
    {
      "cell_type": "markdown",
      "id": "415dfbfc",
      "metadata": {
        "id": "415dfbfc"
      },
      "source": [
        "As we've seen above, it takes just a few lines of code to train a machine learning model using `scikit-learn`."
      ]
    },
    {
      "cell_type": "code",
      "execution_count": null,
      "id": "27237ffd",
      "metadata": {
        "id": "27237ffd"
      },
      "outputs": [],
      "source": [
        "# Create inputs and targets\n",
        "inputs, targets = non_smoker_df[['age']], non_smoker_df['charges']\n",
        "\n",
        "# Create and train the model\n",
        "model = LinearRegression().fit(inputs, targets)\n",
        "\n",
        "# Generate predictions\n",
        "predictions = model.predict(inputs)\n",
        "\n",
        "# Compute loss to evalute the model\n",
        "loss = rmse(targets, predictions)\n",
        "print('Loss:', loss)"
      ]
    },
    {
      "cell_type": "markdown",
      "id": "f05db110",
      "metadata": {
        "id": "f05db110"
      },
      "source": [
        "Let's save our work before continuing."
      ]
    },
    {
      "cell_type": "code",
      "execution_count": null,
      "id": "a0b6aaaa",
      "metadata": {
        "scrolled": true,
        "id": "a0b6aaaa"
      },
      "outputs": [],
      "source": [
        "jovian.commit()"
      ]
    },
    {
      "cell_type": "markdown",
      "id": "ac1f56e3",
      "metadata": {
        "id": "ac1f56e3"
      },
      "source": [
        "## Linear Regression using Multiple Features\n",
        "\n",
        "So far, we've used on the \"age\" feature to estimate \"charges\". Adding another feature like \"bmi\" is fairly straightforward. We simply assume the following relationship:\n",
        "\n",
        "$charges = w_1 \\times age + w_2 \\times bmi + b$\n",
        "\n",
        "We need to change just one line of code to include the BMI."
      ]
    },
    {
      "cell_type": "code",
      "execution_count": null,
      "id": "d102c01a",
      "metadata": {
        "id": "d102c01a"
      },
      "outputs": [],
      "source": [
        "# Create inputs and targets\n",
        "inputs, targets = non_smoker_df[['age', 'bmi']], non_smoker_df['charges']\n",
        "\n",
        "# Create and train the model\n",
        "model = LinearRegression().fit(inputs, targets)\n",
        "\n",
        "# Generate predictions\n",
        "predictions = model.predict(inputs)\n",
        "\n",
        "# Compute loss to evalute the model\n",
        "loss = rmse(targets, predictions)\n",
        "print('Loss:', loss)"
      ]
    },
    {
      "cell_type": "markdown",
      "id": "43dde0b3",
      "metadata": {
        "id": "43dde0b3"
      },
      "source": [
        "As you can see, adding the BMI doesn't seem to reduce the loss by much, as the BMI has a very weak correlation with charges, especially for non smokers."
      ]
    },
    {
      "cell_type": "code",
      "execution_count": null,
      "id": "bed633ab",
      "metadata": {
        "id": "bed633ab"
      },
      "outputs": [],
      "source": [
        "non_smoker_df.charges.corr(non_smoker_df.bmi)"
      ]
    },
    {
      "cell_type": "code",
      "execution_count": null,
      "id": "314b2440",
      "metadata": {
        "id": "314b2440"
      },
      "outputs": [],
      "source": [
        "fig = px.scatter(non_smoker_df, x='bmi', y='charges', title='BMI vs. Charges')\n",
        "fig.update_traces(marker_size=5)\n",
        "fig.show()"
      ]
    },
    {
      "cell_type": "markdown",
      "id": "5b083cf5",
      "metadata": {
        "id": "5b083cf5"
      },
      "source": [
        "We can also visualize the relationship between all 3 variables \"age\", \"bmi\" and \"charges\" using a 3D scatter plot."
      ]
    },
    {
      "cell_type": "code",
      "execution_count": null,
      "id": "a52f8580",
      "metadata": {
        "id": "a52f8580"
      },
      "outputs": [],
      "source": [
        "fig = px.scatter_3d(non_smoker_df, x='age', y='bmi', z='charges')\n",
        "fig.update_traces(marker_size=3, marker_opacity=0.5)\n",
        "fig.show()"
      ]
    },
    {
      "cell_type": "markdown",
      "id": "56b6b254",
      "metadata": {
        "id": "56b6b254"
      },
      "source": [
        "You can see that it's harder to interpret a 3D scatter plot compared to a 2D scatter plot. As we add more features, it becomes impossible to visualize all feature at once, which is why we use measures like correlation and loss.\n",
        "\n",
        "Let's also check the parameters of the model."
      ]
    },
    {
      "cell_type": "code",
      "execution_count": null,
      "id": "5c9bfa29",
      "metadata": {
        "id": "5c9bfa29"
      },
      "outputs": [],
      "source": [
        "model.coef_, model.intercept_"
      ]
    },
    {
      "cell_type": "markdown",
      "id": "284763df",
      "metadata": {
        "id": "284763df"
      },
      "source": [
        "Clearly, BMI has a much lower weightage, and you can see why. It has a tiny contribution, and even that is probably accidental. This is an important thing to keep in mind: you can't find a relationship that doesn't exist, no matter what machine learning technique or optimization algorithm you apply."
      ]
    },
    {
      "cell_type": "markdown",
      "id": "90530eaf",
      "metadata": {
        "id": "90530eaf"
      },
      "source": [
        "> **EXERCISE**: Train a linear regression model to estimate charges using BMI alone. Do you expect it to be better or worse than the previously trained models?"
      ]
    },
    {
      "cell_type": "code",
      "execution_count": null,
      "id": "f1b74343",
      "metadata": {
        "id": "f1b74343"
      },
      "outputs": [],
      "source": []
    },
    {
      "cell_type": "code",
      "execution_count": null,
      "id": "7a926898",
      "metadata": {
        "id": "7a926898"
      },
      "outputs": [],
      "source": []
    },
    {
      "cell_type": "code",
      "execution_count": null,
      "id": "f5085011",
      "metadata": {
        "id": "f5085011"
      },
      "outputs": [],
      "source": []
    },
    {
      "cell_type": "markdown",
      "id": "fd7cc138",
      "metadata": {
        "id": "fd7cc138"
      },
      "source": [
        "Let's go one step further, and add the final numeric column: \"children\", which seems to have some correlation with \"charges\".\n",
        "\n",
        "$charges = w_1 \\times age + w_2 \\times bmi + w_3 \\times children + b$"
      ]
    },
    {
      "cell_type": "code",
      "execution_count": null,
      "id": "c6cd797b",
      "metadata": {
        "id": "c6cd797b"
      },
      "outputs": [],
      "source": [
        "non_smoker_df.charges.corr(non_smoker_df.children)"
      ]
    },
    {
      "cell_type": "code",
      "execution_count": null,
      "id": "d6396301",
      "metadata": {
        "id": "d6396301"
      },
      "outputs": [],
      "source": [
        "fig = px.strip(non_smoker_df, x='children', y='charges', title= \"Children vs. Charges\")\n",
        "fig.update_traces(marker_size=4, marker_opacity=0.7)\n",
        "fig.show()"
      ]
    },
    {
      "cell_type": "code",
      "execution_count": null,
      "id": "2033b74a",
      "metadata": {
        "id": "2033b74a"
      },
      "outputs": [],
      "source": [
        "# Create inputs and targets\n",
        "inputs, targets = non_smoker_df[['age', 'bmi', 'children']], non_smoker_df['charges']\n",
        "\n",
        "# Create and train the model\n",
        "model = LinearRegression().fit(inputs, targets)\n",
        "\n",
        "# Generate predictions\n",
        "predictions = model.predict(inputs)\n",
        "\n",
        "# Compute loss to evalute the model\n",
        "loss = rmse(targets, predictions)\n",
        "print('Loss:', loss)"
      ]
    },
    {
      "cell_type": "markdown",
      "id": "dc997e8e",
      "metadata": {
        "id": "dc997e8e"
      },
      "source": [
        "Once again, we don't see a big reduction in the loss, even though it's greater than in the case of BMI."
      ]
    },
    {
      "cell_type": "markdown",
      "id": "38f14c4a",
      "metadata": {
        "id": "38f14c4a"
      },
      "source": [
        "> **EXERCISE**: Repeat the steps is this section to train a linear regression model to estimate medical charges for smokers. Visualize the targets and predictions, and compute the loss."
      ]
    },
    {
      "cell_type": "code",
      "execution_count": null,
      "id": "c276f4b1",
      "metadata": {
        "id": "c276f4b1"
      },
      "outputs": [],
      "source": []
    },
    {
      "cell_type": "code",
      "execution_count": null,
      "id": "e6a16f9e",
      "metadata": {
        "id": "e6a16f9e"
      },
      "outputs": [],
      "source": []
    },
    {
      "cell_type": "markdown",
      "id": "65a4762e",
      "metadata": {
        "id": "65a4762e"
      },
      "source": [
        "> **EXERCISE**: Repeat the steps is this section to train a linear regression model to estimate medical charges for all customers. Visualize the targets and predictions, and compute the loss. Is the loss lower or higher?"
      ]
    },
    {
      "cell_type": "code",
      "execution_count": null,
      "id": "50fb6f65",
      "metadata": {
        "id": "50fb6f65"
      },
      "outputs": [],
      "source": [
        "# Create inputs and targets\n",
        "inputs, targets = medical_df[['age', 'bmi', 'children']], medical_df['charges']\n",
        "\n",
        "# Create and train the model\n",
        "model = LinearRegression().fit(inputs, targets)\n",
        "\n",
        "# Generate predictions\n",
        "predictions = model.predict(inputs)\n",
        "\n",
        "# Compute loss to evalute the model\n",
        "loss = rmse(targets, predictions)\n",
        "print('Loss:', loss)"
      ]
    },
    {
      "cell_type": "code",
      "execution_count": null,
      "id": "dba6a0f2",
      "metadata": {
        "id": "dba6a0f2"
      },
      "outputs": [],
      "source": []
    },
    {
      "cell_type": "code",
      "execution_count": null,
      "id": "b2a55248",
      "metadata": {
        "id": "b2a55248"
      },
      "outputs": [],
      "source": []
    },
    {
      "cell_type": "markdown",
      "id": "65d6b9d7",
      "metadata": {
        "id": "65d6b9d7"
      },
      "source": [
        "Let's save our work before continuing."
      ]
    },
    {
      "cell_type": "code",
      "execution_count": null,
      "id": "ed966c65",
      "metadata": {
        "scrolled": true,
        "id": "ed966c65"
      },
      "outputs": [],
      "source": [
        "jovian.commit()"
      ]
    },
    {
      "cell_type": "markdown",
      "id": "bdd9464d",
      "metadata": {
        "id": "bdd9464d"
      },
      "source": [
        "## Using Categorical Features for Machine Learning\n",
        "\n",
        "So far we've been using only numeric columns, since we can only perform computations with numbers. If we could use categorical columns like \"smoker\", we can train a single model for the entire dataset.\n",
        "\n",
        "To use the categorical columns, we simply need to convert them to numbers. There are three common techniques for doing this:\n",
        "\n",
        "1. If a categorical column has just two categories (it's called a binary category), then we can replace their values with 0 and 1.\n",
        "2. If a categorical column has more than 2 categories, we can perform one-hot encoding i.e. create a new column for each category with 1s and 0s.\n",
        "3. If the categories have a natural order (e.g. cold, neutral, warm, hot), then they can be converted to numbers (e.g. 1, 2, 3, 4) preserving the order. These are called ordinals\n",
        "\n",
        "\n"
      ]
    },
    {
      "cell_type": "markdown",
      "id": "e30d9812",
      "metadata": {
        "id": "e30d9812"
      },
      "source": [
        "## Binary Categories\n",
        "\n",
        "The \"smoker\" category has just two values \"yes\" and \"no\". Let's create a new column \"smoker_code\" containing 0 for \"no\" and 1 for \"yes\".\n"
      ]
    },
    {
      "cell_type": "code",
      "execution_count": null,
      "id": "2d5d03bf",
      "metadata": {
        "id": "2d5d03bf"
      },
      "outputs": [],
      "source": [
        "sns.barplot(data=medical_df, x='smoker', y='charges');"
      ]
    },
    {
      "cell_type": "code",
      "execution_count": null,
      "id": "6256f5f5",
      "metadata": {
        "id": "6256f5f5"
      },
      "outputs": [],
      "source": [
        "smoker_codes = {'no': 0, 'yes': 1}\n",
        "medical_df['smoker_code'] = medical_df.smoker.map(smoker_codes)"
      ]
    },
    {
      "cell_type": "code",
      "execution_count": null,
      "id": "684c92db",
      "metadata": {
        "id": "684c92db"
      },
      "outputs": [],
      "source": [
        "medical_df.charges.corr(medical_df.smoker_code)"
      ]
    },
    {
      "cell_type": "code",
      "execution_count": null,
      "id": "69f219a9",
      "metadata": {
        "id": "69f219a9"
      },
      "outputs": [],
      "source": [
        "medical_df"
      ]
    },
    {
      "cell_type": "markdown",
      "id": "d45daaa2",
      "metadata": {
        "id": "d45daaa2"
      },
      "source": [
        "We can now use the `smoker_df` column for linear regression.\n",
        "\n",
        "$charges = w_1 \\times age + w_2 \\times bmi + w_3 \\times children + w_4 \\times smoker + b$"
      ]
    },
    {
      "cell_type": "code",
      "execution_count": null,
      "id": "5a3f8dab",
      "metadata": {
        "id": "5a3f8dab"
      },
      "outputs": [],
      "source": [
        "# Create inputs and targets\n",
        "inputs, targets = medical_df[['age', 'bmi', 'children', 'smoker_code']], medical_df['charges']\n",
        "\n",
        "# Create and train the model\n",
        "model = LinearRegression().fit(inputs, targets)\n",
        "\n",
        "# Generate predictions\n",
        "predictions = model.predict(inputs)\n",
        "\n",
        "# Compute loss to evalute the model\n",
        "loss = rmse(targets, predictions)\n",
        "print('Loss:', loss)"
      ]
    },
    {
      "cell_type": "markdown",
      "id": "aadffe3b",
      "metadata": {
        "id": "aadffe3b"
      },
      "source": [
        "The loss reduces from `11355` to `6056`, almost by 50%! This is an important lesson: never ignore categorical data.\n",
        "\n",
        "\n",
        "Let's try adding the \"sex\" column as well.\n",
        "\n",
        "$charges = w_1 \\times age + w_2 \\times bmi + w_3 \\times children + w_4 \\times smoker + w_5 \\times sex + b$"
      ]
    },
    {
      "cell_type": "code",
      "execution_count": null,
      "id": "0d2a2c3d",
      "metadata": {
        "id": "0d2a2c3d"
      },
      "outputs": [],
      "source": [
        "sns.barplot(data=medical_df, x='sex', y='charges')"
      ]
    },
    {
      "cell_type": "code",
      "execution_count": null,
      "id": "0c3724b0",
      "metadata": {
        "id": "0c3724b0"
      },
      "outputs": [],
      "source": [
        "sex_codes = {'female': 0, 'male': 1}"
      ]
    },
    {
      "cell_type": "code",
      "execution_count": null,
      "id": "989dbb4a",
      "metadata": {
        "id": "989dbb4a"
      },
      "outputs": [],
      "source": [
        "medical_df['sex_code'] = medical_df.sex.map(sex_codes)"
      ]
    },
    {
      "cell_type": "code",
      "execution_count": null,
      "id": "affe8344",
      "metadata": {
        "id": "affe8344"
      },
      "outputs": [],
      "source": [
        "medical_df.charges.corr(medical_df.sex_code)"
      ]
    },
    {
      "cell_type": "code",
      "execution_count": null,
      "id": "2e392a82",
      "metadata": {
        "id": "2e392a82"
      },
      "outputs": [],
      "source": [
        "# Create inputs and targets\n",
        "inputs, targets = medical_df[['age', 'bmi', 'children', 'smoker_code', 'sex_code']], medical_df['charges']\n",
        "\n",
        "# Create and train the model\n",
        "model = LinearRegression().fit(inputs, targets)\n",
        "\n",
        "# Generate predictions\n",
        "predictions = model.predict(inputs)\n",
        "\n",
        "# Compute loss to evalute the model\n",
        "loss = rmse(targets, predictions)\n",
        "print('Loss:', loss)"
      ]
    },
    {
      "cell_type": "markdown",
      "id": "1e4e201a",
      "metadata": {
        "id": "1e4e201a"
      },
      "source": [
        "As you might expect, this does have a significant impact on the loss."
      ]
    },
    {
      "cell_type": "markdown",
      "id": "7853dc56",
      "metadata": {
        "id": "7853dc56"
      },
      "source": [
        "\n",
        "### One-hot Encoding\n",
        "\n",
        "The \"region\" column contains 4 values, so we'll need to use hot encoding and create a new column for each region.\n",
        "\n",
        "![](https://i.imgur.com/n8GuiOO.png)\n"
      ]
    },
    {
      "cell_type": "code",
      "execution_count": null,
      "id": "e3041f74",
      "metadata": {
        "id": "e3041f74"
      },
      "outputs": [],
      "source": [
        "sns.barplot(data=medical_df, x='region', y='charges');"
      ]
    },
    {
      "cell_type": "code",
      "execution_count": null,
      "id": "483627b3",
      "metadata": {
        "id": "483627b3"
      },
      "outputs": [],
      "source": [
        "from sklearn import preprocessing\n",
        "enc = preprocessing.OneHotEncoder()\n",
        "enc.fit(medical_df[['region']])\n",
        "enc.categories_"
      ]
    },
    {
      "cell_type": "code",
      "execution_count": null,
      "id": "39bfd58d",
      "metadata": {
        "id": "39bfd58d"
      },
      "outputs": [],
      "source": [
        "one_hot = enc.transform(medical_df[['region']]).toarray()\n",
        "one_hot"
      ]
    },
    {
      "cell_type": "code",
      "execution_count": null,
      "id": "b456d839",
      "metadata": {
        "id": "b456d839"
      },
      "outputs": [],
      "source": [
        "medical_df[['northeast', 'northwest', 'southeast', 'southwest']] = one_hot"
      ]
    },
    {
      "cell_type": "code",
      "execution_count": null,
      "id": "09669544",
      "metadata": {
        "id": "09669544"
      },
      "outputs": [],
      "source": [
        "medical_df"
      ]
    },
    {
      "cell_type": "markdown",
      "id": "36d9fcc7",
      "metadata": {
        "id": "36d9fcc7"
      },
      "source": [
        "Let's include the region columns into our linear regression model.\n",
        "\n",
        "$charges = w_1 \\times age + w_2 \\times bmi + w_3 \\times children + w_4 \\times smoker + w_5 \\times sex + w_6 \\times region + b$"
      ]
    },
    {
      "cell_type": "code",
      "execution_count": null,
      "id": "d292072e",
      "metadata": {
        "id": "d292072e"
      },
      "outputs": [],
      "source": [
        "# Create inputs and targets\n",
        "input_cols = ['age', 'bmi', 'children', 'smoker_code', 'sex_code', 'northeast', 'northwest', 'southeast', 'southwest']\n",
        "inputs, targets = medical_df[input_cols], medical_df['charges']\n",
        "\n",
        "# Create and train the model\n",
        "model = LinearRegression().fit(inputs, targets)\n",
        "\n",
        "# Generate predictions\n",
        "predictions = model.predict(inputs)\n",
        "\n",
        "# Compute loss to evalute the model\n",
        "loss = rmse(targets, predictions)\n",
        "print('Loss:', loss)"
      ]
    },
    {
      "cell_type": "markdown",
      "id": "45a55820",
      "metadata": {
        "id": "45a55820"
      },
      "source": [
        "Once again, this leads to a fairly small reduction in the loss.\n",
        "\n",
        "> **EXERCISE**: Are two separate linear regression models, one for smokers and one of non-smokers, better than a single linear regression model? Why or why not? Try it out and see if you can justify your answer with data."
      ]
    },
    {
      "cell_type": "code",
      "execution_count": null,
      "id": "aa22c84c",
      "metadata": {
        "id": "aa22c84c"
      },
      "outputs": [],
      "source": []
    },
    {
      "cell_type": "code",
      "execution_count": null,
      "id": "b54e3dac",
      "metadata": {
        "id": "b54e3dac"
      },
      "outputs": [],
      "source": []
    },
    {
      "cell_type": "code",
      "execution_count": null,
      "id": "c96a9750",
      "metadata": {
        "id": "c96a9750"
      },
      "outputs": [],
      "source": []
    },
    {
      "cell_type": "markdown",
      "id": "3ffca316",
      "metadata": {
        "id": "3ffca316"
      },
      "source": [
        "Let's save our work before continuing."
      ]
    },
    {
      "cell_type": "code",
      "execution_count": null,
      "id": "8ace5599",
      "metadata": {
        "id": "8ace5599"
      },
      "outputs": [],
      "source": [
        "jovian.commit()"
      ]
    },
    {
      "cell_type": "markdown",
      "id": "6082be63",
      "metadata": {
        "id": "6082be63"
      },
      "source": [
        "## Model Improvements\n",
        "\n",
        "Let's discuss and apply some more improvements to our model.\n",
        "\n",
        "### Feature Scaling\n",
        "\n",
        "Recall that due to regulatory requirements, we also need to explain the rationale behind the predictions our model.\n",
        "\n",
        "$charges = w_1 \\times age + w_2 \\times bmi + w_3 \\times children + w_4 \\times smoker + w_5 \\times sex + w_6 \\times region + b$\n",
        "\n",
        "To compare the importance of each feature in the model, our first instinct might be to compare their weights."
      ]
    },
    {
      "cell_type": "code",
      "execution_count": null,
      "id": "b38d0e86",
      "metadata": {
        "id": "b38d0e86"
      },
      "outputs": [],
      "source": [
        "model.coef_"
      ]
    },
    {
      "cell_type": "code",
      "execution_count": null,
      "id": "ea8002fd",
      "metadata": {
        "id": "ea8002fd"
      },
      "outputs": [],
      "source": [
        "model.intercept_"
      ]
    },
    {
      "cell_type": "code",
      "execution_count": null,
      "id": "0a05fa78",
      "metadata": {
        "id": "0a05fa78"
      },
      "outputs": [],
      "source": [
        "weights_df = pd.DataFrame({\n",
        "    'feature': np.append(input_cols, 1),\n",
        "    'weight': np.append(model.coef_, model.intercept_)\n",
        "})\n",
        "weights_df"
      ]
    },
    {
      "cell_type": "markdown",
      "id": "9f82eba7",
      "metadata": {
        "id": "9f82eba7"
      },
      "source": [
        "While it seems like BMI and the \"northeast\" have a higher weight than age, keep in mind that the range of values for BMI is limited (15 to 40) and the \"northeast\" column only takes the values 0 and 1.\n",
        "\n",
        "Because different columns have different ranges, we run into two issues:\n",
        "\n",
        "1. We can't compare the weights of different column to identify which features are important\n",
        "2. A column with a larger range of inputs may disproportionately affect the loss and dominate the optimization process.\n",
        "\n",
        "For this reason, it's common practice to scale (or standardize) the values in numeric column by subtracting the mean and dividing by the standard deviation.\n",
        "\n",
        "![](https://i.imgur.com/dT5fLFI.png)\n",
        "\n",
        "We can apply scaling using the StandardScaler class from `scikit-learn`."
      ]
    },
    {
      "cell_type": "code",
      "execution_count": null,
      "id": "48d14c89",
      "metadata": {
        "id": "48d14c89"
      },
      "outputs": [],
      "source": [
        "medical_df"
      ]
    },
    {
      "cell_type": "code",
      "execution_count": null,
      "id": "89c49dd6",
      "metadata": {
        "id": "89c49dd6"
      },
      "outputs": [],
      "source": [
        "from sklearn.preprocessing import StandardScaler"
      ]
    },
    {
      "cell_type": "code",
      "execution_count": null,
      "id": "60586fe2",
      "metadata": {
        "id": "60586fe2"
      },
      "outputs": [],
      "source": [
        "numeric_cols = ['age', 'bmi', 'children']\n",
        "scaler = StandardScaler()\n",
        "scaler.fit(medical_df[numeric_cols])"
      ]
    },
    {
      "cell_type": "code",
      "execution_count": null,
      "id": "efb5ffed",
      "metadata": {
        "id": "efb5ffed"
      },
      "outputs": [],
      "source": [
        "scaler.mean_"
      ]
    },
    {
      "cell_type": "code",
      "execution_count": null,
      "id": "b02e21d2",
      "metadata": {
        "id": "b02e21d2"
      },
      "outputs": [],
      "source": [
        "scaler.var_"
      ]
    },
    {
      "cell_type": "markdown",
      "id": "e89584ba",
      "metadata": {
        "id": "e89584ba"
      },
      "source": [
        "We can now scale data as follows:"
      ]
    },
    {
      "cell_type": "code",
      "execution_count": null,
      "id": "08142072",
      "metadata": {
        "id": "08142072"
      },
      "outputs": [],
      "source": [
        "scaled_inputs = scaler.transform(medical_df[numeric_cols])\n",
        "scaled_inputs"
      ]
    },
    {
      "cell_type": "markdown",
      "id": "f2575228",
      "metadata": {
        "id": "f2575228"
      },
      "source": [
        "These can now we combined with the categorical data"
      ]
    },
    {
      "cell_type": "code",
      "execution_count": null,
      "id": "dd93085a",
      "metadata": {
        "id": "dd93085a"
      },
      "outputs": [],
      "source": [
        "cat_cols = ['smoker_code', 'sex_code', 'northeast', 'northwest', 'southeast', 'southwest']\n",
        "categorical_data = medical_df[cat_cols].values"
      ]
    },
    {
      "cell_type": "code",
      "execution_count": null,
      "id": "bfb892c1",
      "metadata": {
        "id": "bfb892c1"
      },
      "outputs": [],
      "source": [
        "inputs = np.concatenate((scaled_inputs, categorical_data), axis=1)\n",
        "targets = medical_df.charges\n",
        "\n",
        "# Create and train the model\n",
        "model = LinearRegression().fit(inputs, targets)\n",
        "\n",
        "# Generate predictions\n",
        "predictions = model.predict(inputs)\n",
        "\n",
        "# Compute loss to evalute the model\n",
        "loss = rmse(targets, predictions)\n",
        "print('Loss:', loss)"
      ]
    },
    {
      "cell_type": "markdown",
      "id": "37366fc0",
      "metadata": {
        "id": "37366fc0"
      },
      "source": [
        "We can now compare the weights in the formula:\n",
        "\n",
        "$charges = w_1 \\times age + w_2 \\times bmi + w_3 \\times children + w_4 \\times smoker + w_5 \\times sex + w_6 \\times region + b$"
      ]
    },
    {
      "cell_type": "code",
      "execution_count": null,
      "id": "0176dbf8",
      "metadata": {
        "id": "0176dbf8"
      },
      "outputs": [],
      "source": [
        "weights_df = pd.DataFrame({\n",
        "    'feature': np.append(numeric_cols + cat_cols, 1),\n",
        "    'weight': np.append(model.coef_, model.intercept_)\n",
        "})\n",
        "weights_df.sort_values('weight', ascending=False)"
      ]
    },
    {
      "cell_type": "markdown",
      "id": "18f58f94",
      "metadata": {
        "id": "18f58f94"
      },
      "source": [
        "As you can see now, the most important feature are:\n",
        "\n",
        "1. Smoker\n",
        "2. Age\n",
        "3. BMI\n"
      ]
    },
    {
      "cell_type": "markdown",
      "id": "e9394790",
      "metadata": {
        "id": "e9394790"
      },
      "source": [
        "### Creating a Test Set\n",
        "\n",
        "Models like the one we've created in this tutorial are designed to be used in the real world. It's common practice to set aside a small fraction of the data (e.g. 10%) just for testing and reporting the results of the model."
      ]
    },
    {
      "cell_type": "code",
      "execution_count": null,
      "id": "99cb8e6a",
      "metadata": {
        "id": "99cb8e6a"
      },
      "outputs": [],
      "source": [
        "from sklearn.model_selection import train_test_split"
      ]
    },
    {
      "cell_type": "code",
      "execution_count": null,
      "id": "1142e391",
      "metadata": {
        "id": "1142e391"
      },
      "outputs": [],
      "source": [
        "inputs_train, inputs_test, targets_train, targets_test = train_test_split(inputs, targets, test_size=0.1)"
      ]
    },
    {
      "cell_type": "code",
      "execution_count": null,
      "id": "f4787982",
      "metadata": {
        "id": "f4787982"
      },
      "outputs": [],
      "source": [
        "# Create and train the model\n",
        "model = LinearRegression().fit(inputs_train, targets_train)\n",
        "\n",
        "# Generate predictions\n",
        "predictions_test = model.predict(inputs_test)\n",
        "\n",
        "# Compute loss to evalute the model\n",
        "loss = rmse(targets_test, predictions_test)\n",
        "print('Test Loss:', loss)"
      ]
    },
    {
      "cell_type": "markdown",
      "id": "df700ed8",
      "metadata": {
        "id": "df700ed8"
      },
      "source": [
        "Let's compare this with the training loss."
      ]
    },
    {
      "cell_type": "code",
      "execution_count": null,
      "id": "f1b2f099",
      "metadata": {
        "id": "f1b2f099"
      },
      "outputs": [],
      "source": [
        "# Generate predictions\n",
        "predictions_train = model.predict(inputs_train)\n",
        "\n",
        "# Compute loss to evalute the model\n",
        "loss = rmse(targets_train, predictions_train)\n",
        "print('Training Loss:', loss)"
      ]
    },
    {
      "cell_type": "markdown",
      "id": "cb454972",
      "metadata": {
        "id": "cb454972"
      },
      "source": [
        "Can you explain why the training loss is lower than the test loss? We'll discuss this in a lot more detail in future tutorials."
      ]
    },
    {
      "cell_type": "markdown",
      "id": "ed825523",
      "metadata": {
        "id": "ed825523"
      },
      "source": [
        "### How to Approach a Machine Learning Problem\n",
        "\n",
        "Here's a strategy you can apply to approach any machine learning problem:\n",
        "\n",
        "1. Explore the data and find correlations between inputs and targets\n",
        "2. Pick the right model, loss functions and optimizer for the problem at hand\n",
        "3. Scale numeric variables and one-hot encode categorical data\n",
        "4. Set aside a test set (using a fraction of the training set)\n",
        "5. Train the model\n",
        "6. Make predictions on the test set and compute the loss\n",
        "\n",
        "We'll apply this process to several problems in future tutorials."
      ]
    },
    {
      "cell_type": "markdown",
      "id": "924ecb13",
      "metadata": {
        "id": "924ecb13"
      },
      "source": [
        "Let's save our work before continuing."
      ]
    },
    {
      "cell_type": "code",
      "execution_count": null,
      "id": "bafb49d7",
      "metadata": {
        "scrolled": true,
        "id": "bafb49d7"
      },
      "outputs": [],
      "source": [
        "jovian.commit()"
      ]
    },
    {
      "cell_type": "markdown",
      "id": "6915640a",
      "metadata": {
        "id": "6915640a"
      },
      "source": [
        "## Summary and Further Reading\n",
        "\n",
        "We've covered the following topics in this tutorial:\n",
        "\n",
        "- A typical problem statement for machine learning\n",
        "- Downloading and exploring a dataset for machine learning\n",
        "- Linear regression with one variable using Scikit-learn\n",
        "- Linear regression with multiple variables\n",
        "- Using categorical features for machine learning\n",
        "- Regression coefficients and feature importance\n",
        "- Creating a training and test set for reporting results\n",
        "\n",
        "Apply the techniques covered in this tutorial to the following datasets:\n",
        "\n",
        "- https://www.kaggle.com/vikrishnan/boston-house-prices\n",
        "- https://www.kaggle.com/sohier/calcofi\n",
        "- https://www.kaggle.com/budincsevity/szeged-weather\n",
        "\n",
        "\n",
        "Check out the following links to learn more about linear regression:\n",
        "\n",
        "- https://jovian.ai/aakashns/02-linear-regression\n",
        "- https://www.kaggle.com/hely333/eda-regression\n",
        "- https://www.youtube.com/watch?v=kHwlB_j7Hkc\n",
        "\n"
      ]
    },
    {
      "cell_type": "markdown",
      "id": "40fb43cb",
      "metadata": {
        "id": "40fb43cb"
      },
      "source": [
        "## Revision Questions\n",
        "1.\tWhy do we have to perform EDA before fitting a model to the data?\n",
        "2.\tWhat is a parameter?\n",
        "3.\tWhat is correlation?\n",
        "4.\tWhat does negative correlation mean?\n",
        "5.\tHow can you find correlation between variables in Python?\n",
        "6.\tWhat is causation? Explain difference between correlation and causation with an example.\n",
        "7.\tDefine Linear Regression.\n",
        "8.\tWhat is univariate linear regression?\n",
        "9.\tWhat is multivariate linear regression?\n",
        "10.\tWhat are weights and bias?\n",
        "11.\tWhat are inputs and targets?\n",
        "12.\tWhat is loss/cost function?\n",
        "13.\tWhat is residual?\n",
        "14.\tWhat is RMSE value? When and why do we use it?\n",
        "15.\tWhat is an Optimizer? What are different types of optimizers? Explain each with an example.\n",
        "16.\tWhat library is available in Python to perform Linear Regression?\n",
        "17.\tWhat is <code>sklearn.linear_model </code>?\n",
        "18.\tWhat does <code>model.fit()</code> do? What arguments must be given?\n",
        "19.\tWhat does <code>model.predict()</code> do? What arguments must be given?\n",
        "20.\tHow do we calculate RMSE values?\n",
        "21.\tWhat is <code>model.coef_</code>?\n",
        "22.\tWhat is <code>model.intercept_</code>?\n",
        "23.\tWhat is SGDRegressor? How is it different from Linear Regression?\n",
        "24.\tDefine Machine Learning. What are the main components in Machine Learning?\n",
        "25.\tHow does loss value help in determining whether the model is good or not?\n",
        "26.\tWhat are continuous and categorical variables?\n",
        "27.\tHow do we handle categorical variables in Machine Learning? What are the common techniques?\n",
        "28.\tWhat is feature scaling? How does it help in Machine Learning?\n",
        "29.\tHow do we perform scaling in Python?\n",
        "30.\tWhat is <code>sklearn.preprocessing</code>?\n",
        "31.\tWhat is a Test set?\n",
        "32.\tHow do we split data for model fitting (training and testing) in Python?\n",
        "33.\tHow do you approach a Machine Learning problem?"
      ]
    }
  ],
  "metadata": {
    "kernelspec": {
      "display_name": "Python 3 (ipykernel)",
      "language": "python",
      "name": "python3"
    },
    "language_info": {
      "codemirror_mode": {
        "name": "ipython",
        "version": 3
      },
      "file_extension": ".py",
      "mimetype": "text/x-python",
      "name": "python",
      "nbconvert_exporter": "python",
      "pygments_lexer": "ipython3",
      "version": "3.9.6"
    },
    "colab": {
      "provenance": [],
      "include_colab_link": true
    }
  },
  "nbformat": 4,
  "nbformat_minor": 5
}